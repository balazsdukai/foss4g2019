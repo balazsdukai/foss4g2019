{
 "cells": [
  {
   "cell_type": "markdown",
   "metadata": {
    "slideshow": {
     "slide_type": "slide"
    }
   },
   "source": [
    "# Working with 3D city models in Python\n",
    "\n",
    "\n",
    "\n",
    "**Balázs Dukai** [*@BalazsDukai*](https://twitter.com/balazsdukai), **FOSS4G 2019**\n",
    "\n",
    "Tweet <span style=\"color:blue\">#CityJSON</span>\n",
    "\n",
    "[3D geoinformation research group, TU Delft, Netherlands](https://3d.bk.tudelft.nl/)\n",
    "\n",
    "![](figures/logos.png)\n",
    "\n",
    "Repo of this talk: [https://github.com/balazsdukai/foss4g2019](https://github.com/balazsdukai/foss4g2019)"
   ]
  },
  {
   "cell_type": "markdown",
   "metadata": {
    "slideshow": {
     "slide_type": "slide"
    }
   },
   "source": [
    "# 3D + city + model ?\n",
    "![](figures/google_earth.png)"
   ]
  },
  {
   "cell_type": "markdown",
   "metadata": {
    "slideshow": {
     "slide_type": "notes"
    }
   },
   "source": [
    "Probably the most well known 3d city model is what we see in Google Earth. And it is a very nice model to look at and it is improving continuously. However, certain applications require more information than what is stored in such a mesh model. They need to know what does an object in the model represent in the real world."
   ]
  },
  {
   "cell_type": "markdown",
   "metadata": {
    "slideshow": {
     "slide_type": "subslide"
    }
   },
   "source": [
    "# Semantic models\n",
    "![](figures/semantic_model.png)"
   ]
  },
  {
   "cell_type": "markdown",
   "metadata": {
    "slideshow": {
     "slide_type": "notes"
    }
   },
   "source": [
    "That is why we have semantic models, where for each object in the model we store a label of is meaning.\n",
    "Once we have labels on the object and on their parts, data preparation becomes more simple. An important property for analytical applications, such as wind flow simulations."
   ]
  },
  {
   "cell_type": "markdown",
   "metadata": {
    "slideshow": {
     "slide_type": "subslide"
    }
   },
   "source": [
    "# Useful for urban analysis\n",
    "\n",
    "![](figures/cfd.gif)\n",
    "\n",
    "García-Sánchez, C., van Beeck, J., Gorlé, C., Predictive Large Eddy Simulations for Urban Flows: Challenges and Opportunities, Building and Environment, 139, 146-156, 2018."
   ]
  },
  {
   "cell_type": "markdown",
   "metadata": {
    "slideshow": {
     "slide_type": "notes"
    }
   },
   "source": [
    "But we can do much more with 3d city models. We can use them to better estimate the energy consumption in buildings, simulate noise in cities or analyse views and shadows. In the Netherlands sunshine is precious commodity, so we like to get as much as we can."
   ]
  },
  {
   "cell_type": "markdown",
   "metadata": {
    "slideshow": {
     "slide_type": "subslide"
    }
   },
   "source": [
    "# And many more...\n",
    "\n",
    "![3d city model applications](figures/3d_cm_applications.png)"
   ]
  },
  {
   "cell_type": "markdown",
   "metadata": {
    "slideshow": {
     "slide_type": "notes"
    }
   },
   "source": [
    "There are many open 3d city models available. They come in different formats and quality. However, at our group we are still waiting for the \"year of the 3d city model\" to come. We don't really see mainstream use, apart of visualisation. Which is nice, I belive they can provide much more value than having a nice thing to simply look at."
   ]
  },
  {
   "cell_type": "markdown",
   "metadata": {
    "slideshow": {
     "slide_type": "subslide"
    }
   },
   "source": [
    "# ...mostly just production of the models\n",
    "\n",
    "many available, but who **uses** them? **For more than visualisation?**\n",
    "\n",
    "![open 3d city models](figures/open_cms.png)"
   ]
  },
  {
   "cell_type": "markdown",
   "metadata": {
    "slideshow": {
     "slide_type": "subslide"
    }
   },
   "source": [
    "# In truth, 3D CMs are a bit difficult to work with"
   ]
  },
  {
   "cell_type": "markdown",
   "metadata": {
    "slideshow": {
     "slide_type": "fragment"
    }
   },
   "source": [
    "### Our built environment is complex, and the objects are complex too\n",
    "\n",
    "![](figures/assembling_solid.png)"
   ]
  },
  {
   "cell_type": "markdown",
   "metadata": {
    "slideshow": {
     "slide_type": "fragment"
    }
   },
   "source": [
    "### Software are lagging behind\n",
    "\n",
    "+ not many software supports 3D city models\n",
    "\n",
    "+ if they do, mostly propietary data model and format\n",
    "\n",
    "+ large, *\"eterprise\"*-type applications (think Esri, FME, Bentley ... )\n",
    "\n",
    "+ few tools accessible for the individual developer / hobbyist"
   ]
  },
  {
   "cell_type": "markdown",
   "metadata": {
    "slideshow": {
     "slide_type": "skip"
    }
   },
   "source": [
    "2. GML doesn't help ( *[GML madness](http://erouault.blogspot.com/2014/04/gml-madness.html) by Even Rouault* )"
   ]
  },
  {
   "cell_type": "markdown",
   "metadata": {
    "slideshow": {
     "slide_type": "notes"
    }
   },
   "source": [
    "That is why we are developing CityJSON, which is a data format for 3d city models. Essentially, it aims to increase the value of 3d city models by making it more simple to work with them and lower the entry for a wider audience than cadastral organisations."
   ]
  },
  {
   "cell_type": "markdown",
   "metadata": {
    "slideshow": {
     "slide_type": "slide"
    }
   },
   "source": [
    "![cityjson logo](figures/cityjson_webpage.png)"
   ]
  },
  {
   "cell_type": "markdown",
   "metadata": {
    "slideshow": {
     "slide_type": "subslide"
    }
   },
   "source": [
    "## Key concepts of CityJSON"
   ]
  },
  {
   "cell_type": "markdown",
   "metadata": {
    "slideshow": {
     "slide_type": "fragment"
    }
   },
   "source": [
    "+ *simple*, as in easy to implement\n",
    "+ designed with programmers in mind\n",
    "+ fully developed in the open\n",
    "+ flattened hierarchy of objects\n",
    "+ <span style=\"color:red\">implementation first</span>\n",
    "\n",
    "![GitHub Issues](figures/github_issues.png)"
   ]
  },
  {
   "cell_type": "markdown",
   "metadata": {
    "slideshow": {
     "slide_type": "notes"
    }
   },
   "source": [
    "CityJSON implements the data model of CityGML. CityGML is an international standard for 3d city models and it is coupled with its GML-based encoding. \n",
    "\n",
    "We don't really like GML, because it's verbose, files are deeply nested and large (often several GB). And there are many different ways to do one thing.\n",
    "\n",
    "Also, I'm not a web-developer, but I would be surprised if anyone prefers GML over JSON for sending stuff around the web."
   ]
  },
  {
   "cell_type": "markdown",
   "metadata": {
    "slideshow": {
     "slide_type": "subslide"
    }
   },
   "source": [
    "# JSON-based encoding of the CityGML data model\n",
    "![](figures/citygml_encoding.png)"
   ]
  },
  {
   "cell_type": "markdown",
   "metadata": {
    "slideshow": {
     "slide_type": "skip"
    }
   },
   "source": [
    "<blockquote class=\"twitter-tweet\"><p lang=\"en\" dir=\"ltr\">I just got sent a CityGML file. <a href=\"https://t.co/jnTVoRnVLS\">pic.twitter.com/jnTVoRnVLS</a></p>&mdash; James Fee (@jamesmfee) <a href=\"https://twitter.com/jamesmfee/status/748270105319006208?ref_src=twsrc%5Etfw\">June 29, 2016</a></blockquote> <script async src=\"https://platform.twitter.com/widgets.js\" charset=\"utf-8\"></script> \n",
    "\n",
    "+ files are deeply nested, and large\n",
    "+ many \"points of entry\"\n",
    "+ many diff ways to do one thing (GML doesn't help, *[GML madness](http://erouault.blogspot.com/2014/04/gml-madness.html) by Even Rouault* )"
   ]
  },
  {
   "cell_type": "markdown",
   "metadata": {
    "slideshow": {
     "slide_type": "skip"
    }
   },
   "source": [
    "## The CityGML data model\n",
    "\n",
    "![](figures/citygml_uml.gif)"
   ]
  },
  {
   "cell_type": "markdown",
   "metadata": {
    "slideshow": {
     "slide_type": "subslide"
    }
   },
   "source": [
    "## Compression ~6x over CityGML\n",
    "\n",
    "![](figures/zurich_size.png)"
   ]
  },
  {
   "cell_type": "markdown",
   "metadata": {
    "slideshow": {
     "slide_type": "skip"
    }
   },
   "source": [
    "## Compression\n",
    "| file     | CityGML size (original) | CityGML size (w/o spaces) | textures | CityJSON | compression |\n",
    "| -------- | ----------------------- | ----------------------------- |--------- | ------------ | --------------- | \n",
    "| [CityGML demo \"GeoRes\"](https://www.citygml.org/samplefiles/) | 4.3MB | 4.1MB | yes | 524KB | 8.0 |\n",
    "| [CityGML v2 demo \"Railway\"](https://www.citygml.org/samplefiles/) | 45MB | 34MB | yes | 4.3MB | 8.1 |\n",
    "| [Den Haag \"tile 01\"](https://data.overheid.nl/data/dataset/ngr-3d-model-den-haag) | 23MB | 18MB | no, material | 2.9MB | 6.2 |\n",
    "| [Montréal VM05](http://donnees.ville.montreal.qc.ca/dataset/maquette-numerique-batiments-citygml-lod2-avec-textures/resource/36047113-aa19-4462-854a-cdcd6281a5af) | 56MB | 42MB | yes | 5.4MB | 7.8 |\n",
    "| [New York LoD2 (DA13)](https://www1.nyc.gov/site/doitt/initiatives/3d-building.page) | 590MB | 574MB | no | 105MB | 5.5 |\n",
    "| [Rotterdam Delfshaven](http://rotterdamopendata.nl/dataset/rotterdam-3d-bestanden/resource/edacea54-76ce-41c7-a0cc-2ebe5750ac18) | 16MB | 15MB | yes | 2.6MB | 5.8 |\n",
    "| [Vienna (the demo file)](https://www.data.gv.at/katalog/dataset/86d88cae-ad97-4476-bae5-73488a12776d) | 37MB | 36MB | no |  5.3MB | 6.8 |\n",
    "| [Zürich LoD2](https://www.data.gv.at/katalog/dataset/86d88cae-ad97-4476-bae5-73488a12776d) | 3.03GB | 2.07GB | no |  292MB | 7.1 |"
   ]
  },
  {
   "cell_type": "markdown",
   "metadata": {
    "slideshow": {
     "slide_type": "notes"
    }
   },
   "source": [
    "If you are interested in a more detailed comparison between CityGML and CityJSON you can read our article, its open access."
   ]
  },
  {
   "cell_type": "markdown",
   "metadata": {
    "slideshow": {
     "slide_type": "subslide"
    }
   },
   "source": [
    "![cityjson paper](figures/cityjson_paper.png)"
   ]
  },
  {
   "cell_type": "markdown",
   "metadata": {
    "slideshow": {
     "slide_type": "notes"
    }
   },
   "source": [
    "And yes, we are guilty of charge."
   ]
  },
  {
   "cell_type": "markdown",
   "metadata": {
    "slideshow": {
     "slide_type": "subslide"
    }
   },
   "source": [
    "![standards](figures/standards.png)\n",
    "\n",
    "[https://xkcd.com/927/](https://xkcd.com/927/)"
   ]
  },
  {
   "cell_type": "markdown",
   "metadata": {
    "slideshow": {
     "slide_type": "slide"
    }
   },
   "source": [
    "# Let's have a look-see, shall we?\n",
    "![](figures/looksee.gif)"
   ]
  },
  {
   "cell_type": "markdown",
   "metadata": {
    "slideshow": {
     "slide_type": "notes"
    }
   },
   "source": [
    "Now let's take a peek under the hood, what's going on in a CityJSON file."
   ]
  },
  {
   "cell_type": "markdown",
   "metadata": {
    "slideshow": {
     "slide_type": "subslide"
    }
   },
   "source": [
    "## An empty CityJSON file\n",
    "\n",
    "![](figures/cj01.svg)"
   ]
  },
  {
   "cell_type": "markdown",
   "metadata": {
    "slideshow": {
     "slide_type": "notes"
    }
   },
   "source": [
    "In a city model we represent the real-world objects such as buildings, bridges, trees as different types of CityObjects. Each CityObject has its \n",
    "\n",
    "+ unique ID, \n",
    "+ attributes,\n",
    "+ geometry,\n",
    "+ and it can have children objects or it can be part of a parent object.\n",
    "\n",
    "Note however, that CityObject are not nested. Each of them is stored at root and the hierachy represented by linking to object IDs. "
   ]
  },
  {
   "cell_type": "markdown",
   "metadata": {
    "slideshow": {
     "slide_type": "subslide"
    }
   },
   "source": [
    "## A CityObject\n",
    "\n",
    "![](figures/cj02.svg)"
   ]
  },
  {
   "cell_type": "markdown",
   "metadata": {
    "slideshow": {
     "slide_type": "notes"
    }
   },
   "source": [
    "Each CityObject has a geometry representation. This geometry is composed of *boundaries* and *semantics*."
   ]
  },
  {
   "cell_type": "markdown",
   "metadata": {
    "slideshow": {
     "slide_type": "subslide"
    }
   },
   "source": [
    "## Geometry\n",
    "\n",
    "+ **boundaries** definition uses vertex indices (inspired by Wavefront OBJ)\n",
    "+ We have a vertex list at the root of the document\n",
    "+ Vertices are not repeated (unlike Simple Features)\n",
    "+ **semantics** are linked to the boundary surfaces\n",
    "![](figures/cj04.svg)"
   ]
  },
  {
   "cell_type": "markdown",
   "metadata": {
    "slideshow": {
     "slide_type": "skip"
    }
   },
   "source": [
    "This `MulitSurface` has \n",
    "\n",
    "5 surfaces \n",
    "```json\n",
    "[[0, 3, 2, 1]], [[4, 5, 6, 7]], [[0, 1, 5, 4]], [[0, 2, 3, 8]], [[10, 12, 23, 48]]\n",
    "```\n",
    "each surface has only an exterior ring (the first array)\n",
    "```json\n",
    "[ [0, 3, 2, 1] ]\n",
    "```\n",
    "\n",
    "The semantic surfaces in the `semantics` json-object are linked to the boundary surfaces. The integers in the `values` property of `surfaces` are the 0-based indices of the surfaces of the boundary."
   ]
  },
  {
   "cell_type": "code",
   "execution_count": 1,
   "metadata": {
    "pycharm": {
     "is_executing": false
    },
    "slideshow": {
     "slide_type": "subslide"
    }
   },
   "outputs": [
    {
     "name": "stdout",
     "output_type": "stream",
     "text": [
      "There are 16 CityObjects\n",
      "{C9D4A5CF-094A-47DA-97E4-4A3BFD75D3AE} \t\n",
      "{71B60053-BC28-404D-BAB9-8A642AAC0CF4} \t\n",
      "{6271F75F-E8D8-4EE4-AC46-9DB02771A031} \t\n",
      "{DE77E78F-B110-43D2-A55C-8B61911192DE} \t\n",
      "{19935DFC-F7B3-4D6E-92DD-C48EE1D1519A} \t\n",
      "{953BC999-2F92-4B38-95CF-218F7E05AFA9} \t\n",
      "{8D716FDE-18DD-4FB5-AB06-9D207377240E} \t\n",
      "{C6AAF95B-8C09-4130-AB4D-6777A2A18A2E} \t\n",
      "{72390BDE-903C-4C8C-8A3F-2DF5647CD9B4} \t\n",
      "{8244B286-63E2-436E-9D4E-169B8ACFE9D0} \t\n",
      "{87316D28-7574-4763-B9CE-BF6A2DF8092C} \t\n",
      "{CD98680D-A8DD-4106-A18E-15EE2A908D75} \t\n",
      "{64A9018E-4F56-47CD-941F-43F6F0C4285B} \t\n",
      "{459F183A-D0C2-4F8A-8B5F-C498EFDE366D} \t\n",
      "{237D41CC-991E-4308-8986-42ABFB4F7431} \t\n",
      "{23D8CA22-0C82-4453-A11E-B3F2B3116DB4} \t\n"
     ]
    }
   ],
   "source": [
    "import json\n",
    "import os\n",
    "\n",
    "path = os.path.join('data', 'rotterdam_subset.json')\n",
    "with open(path) as fin:\n",
    "    cm = json.loads(fin.read())\n",
    "    \n",
    "print(f\"There are {len(cm['CityObjects'])} CityObjects\")\n",
    "\n",
    "# list all IDs\n",
    "for id in cm['CityObjects']:\n",
    "    print(id, \"\\t\")"
   ]
  },
  {
   "cell_type": "markdown",
   "metadata": {
    "slideshow": {
     "slide_type": "subslide"
    }
   },
   "source": [
    "+ Working with a CityJSON file is straightforward. One can open it with the standard library and get going.\n",
    "+ But you need to know the schema well.\n",
    "+ And you need to write everything from scratch."
   ]
  },
  {
   "cell_type": "markdown",
   "metadata": {
    "slideshow": {
     "slide_type": "notes"
    }
   },
   "source": [
    "That is why we are developing **cjio**. \n",
    "\n",
    "**cjio** is how *we eat what we cook*\n",
    "\n",
    "Aims to help to actually work with and analyse 3D city models, and extract more value from them. Instead of letting them gather dust in some governmental repository."
   ]
  },
  {
   "cell_type": "markdown",
   "metadata": {
    "slideshow": {
     "slide_type": "slide"
    }
   },
   "source": [
    "![cjio](figures/cjio_docs.png)"
   ]
  },
  {
   "cell_type": "markdown",
   "metadata": {
    "slideshow": {
     "slide_type": "subslide"
    }
   },
   "source": [
    "## `cjio` has a (quite) stable CLI\n",
    "\n",
    "```bash\n",
    "$ cjio city_model.json reproject 2056 export --format glb /out/model.glb\n",
    "```"
   ]
  },
  {
   "cell_type": "markdown",
   "metadata": {
    "slideshow": {
     "slide_type": "fragment"
    }
   },
   "source": [
    "## and an experimental API\n",
    "\n",
    "```python\n",
    "from cjio import cityjson\n",
    "\n",
    "cm = cityjson.load('city_model.json')\n",
    "\n",
    "cm.get_cityobjects(type='building')\n",
    "```"
   ]
  },
  {
   "cell_type": "markdown",
   "metadata": {
    "slideshow": {
     "slide_type": "fragment"
    }
   },
   "source": [
    "**`pip install cjio`**"
   ]
  },
  {
   "cell_type": "markdown",
   "metadata": {
    "slideshow": {
     "slide_type": "notes"
    }
   },
   "source": [
    "This notebook is based on the develop branch."
   ]
  },
  {
   "cell_type": "markdown",
   "metadata": {
    "slideshow": {
     "slide_type": "fragment"
    }
   },
   "source": [
    "**`pip install git+https://github.com/tudelft3d/cjio@develop`**"
   ]
  },
  {
   "cell_type": "markdown",
   "metadata": {
    "slideshow": {
     "slide_type": "slide"
    }
   },
   "source": [
    "# `cjio`'s CLI"
   ]
  },
  {
   "cell_type": "code",
   "execution_count": 2,
   "metadata": {
    "pycharm": {
     "is_executing": false
    },
    "slideshow": {
     "slide_type": "subslide"
    }
   },
   "outputs": [
    {
     "name": "stdout",
     "output_type": "stream",
     "text": [
      "Usage: cjio [OPTIONS] INPUT COMMAND1 [ARGS]... [COMMAND2 [ARGS]...]...\r\n",
      "\r\n",
      "  Process and manipulate a CityJSON file, and allow different outputs. The\r\n",
      "  different operators can be chained to perform several processing in one\r\n",
      "  step, the CityJSON model goes through the different operators.\r\n",
      "\r\n",
      "  To get help on specific command, eg for 'validate':\r\n",
      "\r\n",
      "      cjio validate --help\r\n",
      "\r\n",
      "  Usage examples:\r\n",
      "\r\n",
      "      cjio example.json info validate\r\n",
      "      cjio example.json assign_epsg 7145 remove_textures export output.obj\r\n",
      "      cjio example.json subset --id house12 save out.json\r\n",
      "\r\n",
      "Options:\r\n",
      "  --version                Show the version and exit.\r\n",
      "  --ignore_duplicate_keys  Load a CityJSON file even if some City Objects have\r\n",
      "                           the same IDs (technically invalid file)\r\n",
      "  --help                   Show this message and exit.\r\n",
      "\r\n",
      "Commands:\r\n",
      "  assign_epsg                Assign a (new) EPSG.\r\n",
      "  clean                      Clean = remove_duplicate_vertices +...\r\n",
      "  compress                   Compress a CityJSON file, ie stores its...\r\n",
      "  decompress                 Decompress a CityJSON file, ie remove the...\r\n",
      "  export                     Export the CityJSON to another format.\r\n",
      "  extract_lod                Extract only one LoD for a dataset.\r\n",
      "  info                       Output info in simple JSON.\r\n",
      "  locate_textures            Output the location of the texture files.\r\n",
      "  merge                      Merge the current CityJSON with others.\r\n",
      "  partition                  Partition the city model into tiles.\r\n",
      "  remove_duplicate_vertices  Remove duplicate vertices a CityJSON file.\r\n",
      "  remove_materials           Remove all materials from a CityJSON file.\r\n",
      "  remove_orphan_vertices     Remove orphan vertices a CityJSON file.\r\n",
      "  remove_textures            Remove all textures from a CityJSON file.\r\n",
      "  reproject                  Reproject the CityJSON to a new EPSG.\r\n",
      "  save                       Save the city model to a CityJSON file.\r\n",
      "  subset                     Create a subset of a CityJSON file.\r\n",
      "  translate                  Translate the file by its (-minx, -miny,...\r\n",
      "  update_bbox                Update the bbox of a CityJSON file.\r\n",
      "  update_textures            Update the location of the texture files.\r\n",
      "  upgrade_version            Upgrade the CityJSON to the latest version.\r\n",
      "  validate                   Validate the CityJSON file: (1) against its...\r\n"
     ]
    }
   ],
   "source": [
    "! cjio --help"
   ]
  },
  {
   "cell_type": "code",
   "execution_count": 3,
   "metadata": {
    "pycharm": {
     "is_executing": false
    },
    "slideshow": {
     "slide_type": "subslide"
    }
   },
   "outputs": [
    {
     "name": "stdout",
     "output_type": "stream",
     "text": [
      "\u001b[30m\u001b[46mParsing data/rotterdam_subset.json\u001b[0m\r\n",
      "{\r\n",
      "  \"cityjson_version\": \"1.0\",\r\n",
      "  \"epsg\": 7415,\r\n",
      "  \"bbox\": [\r\n",
      "    90454.18900000001,\r\n",
      "    435614.88,\r\n",
      "    0.0,\r\n",
      "    91002.41900000001,\r\n",
      "    436048.217,\r\n",
      "    18.29\r\n",
      "  ],\r\n",
      "  \"transform/compressed\": true,\r\n",
      "  \"cityobjects_total\": 16,\r\n",
      "  \"cityobjects_present\": [\r\n",
      "    \"Building\"\r\n",
      "  ],\r\n",
      "  \"materials\": false,\r\n",
      "  \"textures\": true\r\n",
      "}\r\n"
     ]
    }
   ],
   "source": [
    "! cjio data/rotterdam_subset.json info"
   ]
  },
  {
   "cell_type": "code",
   "execution_count": 4,
   "metadata": {
    "pycharm": {
     "is_executing": false
    },
    "slideshow": {
     "slide_type": "skip"
    }
   },
   "outputs": [
    {
     "name": "stdout",
     "output_type": "stream",
     "text": [
      "\u001b[30m\u001b[46mParsing data/rotterdam_subset.json\u001b[0m\n",
      "\u001b[30m\u001b[46m===== Validation (with official CityJSON schemas) =====\u001b[0m\n",
      "-- Validating the syntax of the file\n",
      "\t(using the schemas 1.0.0)\n",
      "-- Validating the internal consistency of the file (see docs for list)\n",
      "\t--Vertex indices coherent\n",
      "\t--Specific for CityGroups\n",
      "\t--Semantic arrays coherent with geometry\n",
      "\t--Root properties\n",
      "\t--Empty geometries\n",
      "\t--Duplicate vertices\n",
      "\t--Orphan vertices\n",
      "\t--CityGML attributes\n",
      "=====\n",
      "\u001b[32mFile is valid\u001b[0m\n",
      "\u001b[31mFile has warnings\u001b[0m\n",
      "--- WARNINGS ---\n",
      "WARNING: attributes 'TerrainHeight' not in CityGML schema\n",
      "\t(16 CityObjects have this warning)\n",
      "WARNING: attributes 'bron_tex' not in CityGML schema\n",
      "\t(16 CityObjects have this warning)\n",
      "WARNING: attributes 'voll_tex' not in CityGML schema\n",
      "\t(16 CityObjects have this warning)\n",
      "WARNING: attributes 'bron_geo' not in CityGML schema\n",
      "\t(16 CityObjects have this warning)\n",
      "WARNING: attributes 'status' not in CityGML schema\n",
      "\t(16 CityObjects have this warning)\n",
      "=====================================\n"
     ]
    }
   ],
   "source": [
    "! cjio data/rotterdam_subset.json validate"
   ]
  },
  {
   "cell_type": "code",
   "execution_count": 5,
   "metadata": {
    "pycharm": {
     "is_executing": false
    },
    "slideshow": {
     "slide_type": "subslide"
    }
   },
   "outputs": [
    {
     "name": "stdout",
     "output_type": "stream",
     "text": [
      "\u001b[30m\u001b[46mParsing data/rotterdam_subset.json\u001b[0m\n",
      "\u001b[30m\u001b[46mSubset of CityJSON\u001b[0m\n",
      "\u001b[30m\u001b[46mMerging files\u001b[0m\n",
      "\u001b[30m\u001b[46mReproject to EPSG:2056\u001b[0m\n",
      "\u001b[?25l  [####################################]  100%          \u001b[?25h\n",
      "\u001b[30m\u001b[46mSaving CityJSON to a file /home/balazs/Reports/talk_cjio_foss4g_2019/data/test_rotterdam.json\u001b[0m\n"
     ]
    }
   ],
   "source": [
    "! cjio data/rotterdam_subset.json \\\n",
    "    subset --exclude --id \"{CD98680D-A8DD-4106-A18E-15EE2A908D75}\" \\\n",
    "    merge data/rotterdam_one.json \\\n",
    "    reproject 2056 \\\n",
    "    save data/test_rotterdam.json"
   ]
  },
  {
   "cell_type": "markdown",
   "metadata": {
    "slideshow": {
     "slide_type": "subslide"
    }
   },
   "source": [
    "+ The CLI was first, no plans for API\n",
    "\n",
    "+ **Works with whole city model only**\n",
    "\n",
    "+ Functions for the CLI work with the JSON directly, passing it along\n",
    "\n",
    "+ Simple and effective architecture"
   ]
  },
  {
   "cell_type": "markdown",
   "metadata": {
    "slideshow": {
     "slide_type": "slide"
    }
   },
   "source": [
    "# `cjio`'s API\n",
    "\n",
    "Allow    *read* --> *explore* --> *modify* --> *write*    iteration\n",
    "\n",
    "Work with CityObjects and their parts\n",
    "\n",
    "Functions for common operations\n",
    "\n",
    "Inspired by the *tidyverse* from the R ecosystem"
   ]
  },
  {
   "cell_type": "code",
   "execution_count": 6,
   "metadata": {
    "pycharm": {
     "is_executing": false
    },
    "slideshow": {
     "slide_type": "skip"
    }
   },
   "outputs": [],
   "source": [
    "import os\n",
    "from copy import deepcopy\n",
    "from cjio import cityjson\n",
    "from shapely.geometry import Polygon\n",
    "import matplotlib.pyplot as plt\n",
    "plt.close('all')\n",
    "from sklearn.preprocessing import FunctionTransformer\n",
    "from sklearn import cluster\n",
    "import numpy as np"
   ]
  },
  {
   "cell_type": "markdown",
   "metadata": {
    "pycharm": {
     "name": "#%% md\n"
    },
    "slideshow": {
     "slide_type": "skip"
    }
   },
   "source": [
    "In the following we work with a subset of the 3D city model of Rotterdam\n",
    "![](figures/rotterdam_subset.png)"
   ]
  },
  {
   "cell_type": "markdown",
   "metadata": {
    "slideshow": {
     "slide_type": "subslide"
    }
   },
   "source": [
    "## Load a CityJSON"
   ]
  },
  {
   "cell_type": "markdown",
   "metadata": {
    "pycharm": {
     "name": "#%% md\n"
    },
    "slideshow": {
     "slide_type": "skip"
    }
   },
   "source": [
    "The `load()` method loads a CityJSON file into a CityJSON object."
   ]
  },
  {
   "cell_type": "code",
   "execution_count": 7,
   "metadata": {
    "pycharm": {
     "is_executing": false,
     "name": "#%%\n"
    },
    "slideshow": {
     "slide_type": "fragment"
    }
   },
   "outputs": [
    {
     "name": "stdout",
     "output_type": "stream",
     "text": [
      "<class 'cjio.cityjson.CityJSON'>\n"
     ]
    }
   ],
   "source": [
    "path = os.path.join('data', 'rotterdam_subset.json')\n",
    "\n",
    "cm = cityjson.load(path)\n",
    "\n",
    "print(type(cm))"
   ]
  },
  {
   "cell_type": "markdown",
   "metadata": {
    "slideshow": {
     "slide_type": "skip"
    }
   },
   "source": [
    "## Using the CLI commands in the API\n",
    "You can use any of the CLI commands on a CityJSON object \n",
    "\n",
    "*However,* not all CLI commands are mapped 1-to-1 to `CityJSON` methods\n",
    "\n",
    "And we haven't harmonized the CLI and the API yet. "
   ]
  },
  {
   "cell_type": "code",
   "execution_count": 8,
   "metadata": {
    "pycharm": {
     "is_executing": false,
     "name": "#%%\n"
    },
    "slideshow": {
     "slide_type": "skip"
    }
   },
   "outputs": [
    {
     "name": "stdout",
     "output_type": "stream",
     "text": [
      "-- Validating the syntax of the file\n",
      "\t(using the schemas 1.0.0)\n",
      "-- Validating the internal consistency of the file (see docs for list)\n",
      "\t--Vertex indices coherent\n",
      "\t--Specific for CityGroups\n",
      "\t--Semantic arrays coherent with geometry\n",
      "\t--Root properties\n",
      "\t--Empty geometries\n",
      "\t--Duplicate vertices\n",
      "\t--Orphan vertices\n",
      "\t--CityGML attributes\n"
     ]
    },
    {
     "data": {
      "text/plain": [
       "(True,\n",
       " False,\n",
       " [],\n",
       " [\"WARNING: attributes 'TerrainHeight' not in CityGML schema\",\n",
       "  '\\t(16 CityObjects have this warning)',\n",
       "  \"WARNING: attributes 'bron_tex' not in CityGML schema\",\n",
       "  '\\t(16 CityObjects have this warning)',\n",
       "  \"WARNING: attributes 'voll_tex' not in CityGML schema\",\n",
       "  '\\t(16 CityObjects have this warning)',\n",
       "  \"WARNING: attributes 'bron_geo' not in CityGML schema\",\n",
       "  '\\t(16 CityObjects have this warning)',\n",
       "  \"WARNING: attributes 'status' not in CityGML schema\",\n",
       "  '\\t(16 CityObjects have this warning)'])"
      ]
     },
     "execution_count": 8,
     "metadata": {},
     "output_type": "execute_result"
    }
   ],
   "source": [
    "cm.validate()"
   ]
  },
  {
   "cell_type": "markdown",
   "metadata": {
    "pycharm": {
     "name": "#%% md\n"
    },
    "slideshow": {
     "slide_type": "skip"
    }
   },
   "source": [
    "## Explore the city model\n",
    "\n",
    "Print the basic information about the city model. Note that `print()` returns the same information as the `info` command in the CLI."
   ]
  },
  {
   "cell_type": "code",
   "execution_count": 9,
   "metadata": {
    "pycharm": {
     "is_executing": false,
     "name": "#%%\n"
    },
    "slideshow": {
     "slide_type": "skip"
    }
   },
   "outputs": [
    {
     "name": "stdout",
     "output_type": "stream",
     "text": [
      "{\n",
      "  \"cityjson_version\": \"1.0\",\n",
      "  \"epsg\": 7415,\n",
      "  \"bbox\": [\n",
      "    90454.18900000001,\n",
      "    435614.88,\n",
      "    0.0,\n",
      "    91002.41900000001,\n",
      "    436048.217,\n",
      "    18.29\n",
      "  ],\n",
      "  \"transform/compressed\": true,\n",
      "  \"cityobjects_total\": 16,\n",
      "  \"cityobjects_present\": [\n",
      "    \"Building\"\n",
      "  ],\n",
      "  \"materials\": false,\n",
      "  \"textures\": true\n",
      "}\n"
     ]
    }
   ],
   "source": [
    "print(cm)"
   ]
  },
  {
   "cell_type": "markdown",
   "metadata": {
    "pycharm": {
     "name": "#%% md\n"
    },
    "slideshow": {
     "slide_type": "subslide"
    }
   },
   "source": [
    "## Getting objects from the model\n",
    "Get CityObjects by their *type*, or a list of types. Also by their IDs. \n",
    "\n",
    "Note that `get_cityobjects()` == `cm.cityobjects`"
   ]
  },
  {
   "cell_type": "code",
   "execution_count": 10,
   "metadata": {
    "pycharm": {
     "is_executing": false,
     "name": "#%%\n"
    },
    "slideshow": {
     "slide_type": "fragment"
    }
   },
   "outputs": [],
   "source": [
    "buildings = cm.get_cityobjects(type='building')\n",
    "\n",
    "# both Building and BuildingPart objects\n",
    "buildings_parts = cm.get_cityobjects(type=['building', 'buildingpart'])\n",
    "\n",
    "r_ids = ['{C9D4A5CF-094A-47DA-97E4-4A3BFD75D3AE}',\n",
    "         '{6271F75F-E8D8-4EE4-AC46-9DB02771A031}']\n",
    "buildings_ids = cm.get_cityobjects(id=r_ids)"
   ]
  },
  {
   "cell_type": "markdown",
   "metadata": {
    "pycharm": {
     "name": "#%% md\n"
    },
    "slideshow": {
     "slide_type": "skip"
    }
   },
   "source": [
    "## Properties and geometry of objects"
   ]
  },
  {
   "cell_type": "code",
   "execution_count": 11,
   "metadata": {
    "pycharm": {
     "is_executing": false,
     "name": "#%%\n"
    },
    "slideshow": {
     "slide_type": "skip"
    }
   },
   "outputs": [
    {
     "name": "stdout",
     "output_type": "stream",
     "text": [
      "{\n",
      "  \"id\": \"{C9D4A5CF-094A-47DA-97E4-4A3BFD75D3AE}\",\n",
      "  \"type\": \"Building\",\n",
      "  \"attributes\": {\n",
      "    \"TerrainHeight\": 3.03,\n",
      "    \"bron_tex\": \"UltraCAM-X 10cm juni 2008\",\n",
      "    \"voll_tex\": \"complete\",\n",
      "    \"bron_geo\": \"Lidar 15-30 punten - nov. 2008\",\n",
      "    \"status\": \"1\"\n",
      "  },\n",
      "  \"children\": null,\n",
      "  \"parents\": null,\n",
      "  \"geometry_type\": [\n",
      "    \"MultiSurface\"\n",
      "  ],\n",
      "  \"geometry_lod\": [\n",
      "    2\n",
      "  ],\n",
      "  \"semantic_surfaces\": [\n",
      "    \"WallSurface\",\n",
      "    \"RoofSurface\",\n",
      "    \"GroundSurface\"\n",
      "  ]\n",
      "}\n"
     ]
    }
   ],
   "source": [
    "b01 = buildings_ids['{C9D4A5CF-094A-47DA-97E4-4A3BFD75D3AE}']\n",
    "print(b01)"
   ]
  },
  {
   "cell_type": "code",
   "execution_count": 12,
   "metadata": {
    "pycharm": {
     "is_executing": false,
     "name": "#%%\n"
    },
    "slideshow": {
     "slide_type": "skip"
    }
   },
   "outputs": [
    {
     "data": {
      "text/plain": [
       "{'TerrainHeight': 3.03,\n",
       " 'bron_tex': 'UltraCAM-X 10cm juni 2008',\n",
       " 'voll_tex': 'complete',\n",
       " 'bron_geo': 'Lidar 15-30 punten - nov. 2008',\n",
       " 'status': '1'}"
      ]
     },
     "execution_count": 12,
     "metadata": {},
     "output_type": "execute_result"
    }
   ],
   "source": [
    "b01.attributes"
   ]
  },
  {
   "cell_type": "markdown",
   "metadata": {
    "pycharm": {
     "name": "#%% md\n"
    },
    "slideshow": {
     "slide_type": "skip"
    }
   },
   "source": [
    "CityObjects can have *children* and *parents*"
   ]
  },
  {
   "cell_type": "code",
   "execution_count": 13,
   "metadata": {
    "pycharm": {
     "is_executing": false,
     "name": "#%%\n"
    },
    "slideshow": {
     "slide_type": "skip"
    }
   },
   "outputs": [
    {
     "data": {
      "text/plain": [
       "True"
      ]
     },
     "execution_count": 13,
     "metadata": {},
     "output_type": "execute_result"
    }
   ],
   "source": [
    "b01.children is None and b01.parents is None"
   ]
  },
  {
   "cell_type": "markdown",
   "metadata": {
    "pycharm": {
     "name": "#%% md\n"
    },
    "slideshow": {
     "slide_type": "skip"
    }
   },
   "source": [
    "CityObject geometry is a list of `Geometry` objects. That is because a CityObject can have multiple geometry representations in different levels of detail, eg. a geometry in LoD1 and a second geometry in LoD2."
   ]
  },
  {
   "cell_type": "code",
   "execution_count": 14,
   "metadata": {
    "pycharm": {
     "is_executing": false,
     "name": "#%%\n"
    },
    "slideshow": {
     "slide_type": "skip"
    }
   },
   "outputs": [
    {
     "data": {
      "text/plain": [
       "[<cjio.models.Geometry at 0x7f031ade39e8>]"
      ]
     },
     "execution_count": 14,
     "metadata": {},
     "output_type": "execute_result"
    }
   ],
   "source": [
    "b01.geometry"
   ]
  },
  {
   "cell_type": "code",
   "execution_count": 15,
   "metadata": {
    "pycharm": {
     "is_executing": false,
     "name": "#%%\n"
    },
    "slideshow": {
     "slide_type": "skip"
    }
   },
   "outputs": [
    {
     "name": "stdout",
     "output_type": "stream",
     "text": [
      "MultiSurface, lod 2\n"
     ]
    }
   ],
   "source": [
    "geom = b01.geometry[0]\n",
    "print(\"{}, lod {}\".format(geom.type, geom.lod))"
   ]
  },
  {
   "cell_type": "markdown",
   "metadata": {
    "pycharm": {
     "name": "#%% md\n"
    },
    "slideshow": {
     "slide_type": "skip"
    }
   },
   "source": [
    "### Geometry boundaries and Semantic Surfaces\n",
    "On the contrary to a CityJSON file, the geometry boundaries are dereferenced when working with the API. This means that the vertex coordinates are included in the boundary definition, not only the vertex indices.\n",
    "\n",
    "`cjio` doesn't provide specific geometry classes (yet), eg. MultiSurface or Solid class. If you are working with the geometry boundaries, you need to the geometric operations yourself, or cast the boundary to a geometry-class of some other library. For example `shapely` if 2D is enough."
   ]
  },
  {
   "cell_type": "markdown",
   "metadata": {
    "slideshow": {
     "slide_type": "notes"
    }
   },
   "source": [
    "Vertex coordinates are kept 'as is' on loading the geometry. CityJSON files are often compressed and coordinates are shifted and transformed into integers so probably you'll want to transform them back. Otherwise geometry operations won't make sense."
   ]
  },
  {
   "cell_type": "code",
   "execution_count": 16,
   "metadata": {
    "pycharm": {
     "is_executing": false
    },
    "scrolled": true,
    "slideshow": {
     "slide_type": "skip"
    }
   },
   "outputs": [
    {
     "data": {
      "text/plain": [
       "[(90988.79100000001, 435638.657, 10.652000000000001),\n",
       " (90987.429, 435642.77, 10.652000000000001),\n",
       " (90986.46900000001, 435641.09, 10.652000000000001),\n",
       " (90985.781, 435640.846, 10.652000000000001),\n",
       " (90986.801, 435637.955, 10.652000000000001)]"
      ]
     },
     "execution_count": 16,
     "metadata": {},
     "output_type": "execute_result"
    }
   ],
   "source": [
    "transformation_object = cm.transform\n",
    "\n",
    "geom_transformed = geom.transform(transformation_object)\n",
    "\n",
    "geom_transformed.boundaries[0][0]"
   ]
  },
  {
   "cell_type": "markdown",
   "metadata": {
    "slideshow": {
     "slide_type": "notes"
    }
   },
   "source": [
    "But it might be easier to transform (decompress) the whole model on load."
   ]
  },
  {
   "cell_type": "code",
   "execution_count": 17,
   "metadata": {
    "pycharm": {
     "is_executing": false
    },
    "slideshow": {
     "slide_type": "skip"
    }
   },
   "outputs": [
    {
     "name": "stdout",
     "output_type": "stream",
     "text": [
      "{\n",
      "  \"cityjson_version\": \"1.0\",\n",
      "  \"epsg\": 7415,\n",
      "  \"bbox\": [\n",
      "    90454.18900000001,\n",
      "    435614.88,\n",
      "    0.0,\n",
      "    91002.41900000001,\n",
      "    436048.217,\n",
      "    18.29\n",
      "  ],\n",
      "  \"transform/compressed\": false,\n",
      "  \"cityobjects_total\": 16,\n",
      "  \"cityobjects_present\": [\n",
      "    \"Building\"\n",
      "  ],\n",
      "  \"materials\": false,\n",
      "  \"textures\": true\n",
      "}\n"
     ]
    }
   ],
   "source": [
    "cm_transformed = cityjson.load(path, transform=True)\n",
    "print(cm_transformed)"
   ]
  },
  {
   "cell_type": "markdown",
   "metadata": {
    "pycharm": {
     "name": "#%% md\n"
    },
    "slideshow": {
     "slide_type": "skip"
    }
   },
   "source": [
    "Semantic Surfaces are stored in a similar fashion as in a CityJSON file, in the `surfaces` attribute of a Geometry object."
   ]
  },
  {
   "cell_type": "code",
   "execution_count": 18,
   "metadata": {
    "pycharm": {
     "is_executing": false,
     "name": "#%%\n"
    },
    "slideshow": {
     "slide_type": "skip"
    }
   },
   "outputs": [
    {
     "data": {
      "text/plain": [
       "{0: {'surface_idx': [[0], [1], [2]], 'type': 'RoofSurface'},\n",
       " 1: {'surface_idx': [[3]], 'type': 'GroundSurface'},\n",
       " 2: {'surface_idx': [[4],\n",
       "   [5],\n",
       "   [6],\n",
       "   [7],\n",
       "   [8],\n",
       "   [9],\n",
       "   [10],\n",
       "   [11],\n",
       "   [12],\n",
       "   [13],\n",
       "   [14],\n",
       "   [15],\n",
       "   [16],\n",
       "   [17],\n",
       "   [18],\n",
       "   [19]],\n",
       "  'type': 'WallSurface'}}"
      ]
     },
     "execution_count": 18,
     "metadata": {},
     "output_type": "execute_result"
    }
   ],
   "source": [
    "geom.surfaces"
   ]
  },
  {
   "cell_type": "markdown",
   "metadata": {
    "pycharm": {
     "name": "#%% md\n"
    },
    "slideshow": {
     "slide_type": "skip"
    }
   },
   "source": [
    "`surfaces` does not store geometry boundaries, just references (`surface_idx`). Use the `get_surface_boundaries()` method to obtain the boundary-parts connected to the semantic surface."
   ]
  },
  {
   "cell_type": "code",
   "execution_count": 19,
   "metadata": {
    "pycharm": {
     "is_executing": false,
     "name": "#%%\n"
    },
    "slideshow": {
     "slide_type": "skip"
    }
   },
   "outputs": [
    {
     "data": {
      "text/plain": [
       "{0: {'surface_idx': [[0], [1], [2]], 'type': 'RoofSurface'}}"
      ]
     },
     "execution_count": 19,
     "metadata": {},
     "output_type": "execute_result"
    }
   ],
   "source": [
    "roofs = geom.get_surfaces(type='roofsurface')\n",
    "roofs"
   ]
  },
  {
   "cell_type": "code",
   "execution_count": 20,
   "metadata": {
    "pycharm": {
     "is_executing": false,
     "name": "#%%\n"
    },
    "slideshow": {
     "slide_type": "skip"
    }
   },
   "outputs": [],
   "source": [
    "roof_boundaries = []\n",
    "for r in roofs.values():\n",
    "    roof_boundaries.append(geom.get_surface_boundaries(r))"
   ]
  },
  {
   "cell_type": "code",
   "execution_count": 21,
   "metadata": {
    "pycharm": {
     "is_executing": false
    },
    "slideshow": {
     "slide_type": "skip"
    }
   },
   "outputs": [
    {
     "data": {
      "text/plain": [
       "[[[[[579471, 198217, 10652],\n",
       "    [578109, 202330, 10652],\n",
       "    [577149, 200650, 10652],\n",
       "    [576461, 200406, 10652],\n",
       "    [577481, 197515, 10652]]],\n",
       "  [[[580840, 194082, 15211],\n",
       "    [579471, 198217, 15211],\n",
       "    [577481, 197515, 15211],\n",
       "    [576461, 200406, 15211],\n",
       "    [572239, 198909, 15211],\n",
       "    [571839, 200119, 15211],\n",
       "    [571503, 201071, 15211],\n",
       "    [566651, 199359, 15211],\n",
       "    [569801, 190223, 15211],\n",
       "    [573253, 191430, 15211],\n",
       "    [574658, 191922, 15211]]],\n",
       "  [[[565589, 202439, 11036],\n",
       "    [566651, 199359, 11036],\n",
       "    [571503, 201071, 11036],\n",
       "    [571839, 200119, 11036],\n",
       "    [573299, 200640, 11036],\n",
       "    [572089, 204029, 11036],\n",
       "    [570629, 203440, 11036],\n",
       "    [570379, 204150, 11036]]]]]"
      ]
     },
     "execution_count": 21,
     "metadata": {},
     "output_type": "execute_result"
    }
   ],
   "source": [
    "roof_boundaries"
   ]
  },
  {
   "cell_type": "markdown",
   "metadata": {
    "pycharm": {
     "name": "#%% md\n"
    },
    "slideshow": {
     "slide_type": "skip"
    }
   },
   "source": [
    "### Assigning attributes to Semantic Surfaces\n",
    "1. extract the surfaces,\n",
    "2. make the changes on the surface,\n",
    "3. overwrite the CityObjects with the changes."
   ]
  },
  {
   "cell_type": "code",
   "execution_count": 22,
   "metadata": {
    "pycharm": {
     "is_executing": false,
     "name": "#%%\n"
    },
    "slideshow": {
     "slide_type": "skip"
    }
   },
   "outputs": [],
   "source": [
    "cm_copy = deepcopy(cm)\n",
    "new_cos = {}\n",
    "for co_id, co in cm.cityobjects.items():\n",
    "    new_geoms = []\n",
    "    for geom in co.geometry:\n",
    "        # Only LoD >= 2 models have semantic surfaces\n",
    "        if geom.lod >= 2.0:\n",
    "            # Extract the surfaces\n",
    "            roofsurfaces = geom.get_surfaces('roofsurface')\n",
    "            for i, rsrf in roofsurfaces.items():\n",
    "                # Change the attributes\n",
    "                if 'attributes' in rsrf.keys():\n",
    "                    rsrf['attributes']['cladding'] = 'tiles'\n",
    "                else:\n",
    "                    rsrf['attributes'] = {}\n",
    "                    rsrf['attributes']['cladding'] = 'tiles'\n",
    "                geom.surfaces[i] = rsrf\n",
    "            new_geoms.append(geom)\n",
    "        else:\n",
    "            # Use the unchanged geometry\n",
    "            new_geoms.append(geom)\n",
    "    co.geometry = new_geoms\n",
    "    new_cos[co_id] = co\n",
    "cm_copy.cityobjects = new_cos"
   ]
  },
  {
   "cell_type": "code",
   "execution_count": 23,
   "metadata": {
    "pycharm": {
     "is_executing": false
    },
    "slideshow": {
     "slide_type": "skip"
    }
   },
   "outputs": [
    {
     "name": "stdout",
     "output_type": "stream",
     "text": [
      "{\n",
      "  \"id\": \"{C9D4A5CF-094A-47DA-97E4-4A3BFD75D3AE}\",\n",
      "  \"type\": \"Building\",\n",
      "  \"attributes\": {\n",
      "    \"TerrainHeight\": 3.03,\n",
      "    \"bron_tex\": \"UltraCAM-X 10cm juni 2008\",\n",
      "    \"voll_tex\": \"complete\",\n",
      "    \"bron_geo\": \"Lidar 15-30 punten - nov. 2008\",\n",
      "    \"status\": \"1\"\n",
      "  },\n",
      "  \"children\": null,\n",
      "  \"parents\": null,\n",
      "  \"geometry_type\": [\n",
      "    \"MultiSurface\"\n",
      "  ],\n",
      "  \"geometry_lod\": [\n",
      "    2\n",
      "  ],\n",
      "  \"semantic_surfaces\": [\n",
      "    \"WallSurface\",\n",
      "    \"RoofSurface\",\n",
      "    \"GroundSurface\"\n",
      "  ]\n",
      "}\n"
     ]
    }
   ],
   "source": [
    "print(cm_copy.cityobjects['{C9D4A5CF-094A-47DA-97E4-4A3BFD75D3AE}'])"
   ]
  },
  {
   "cell_type": "markdown",
   "metadata": {
    "slideshow": {
     "slide_type": "skip"
    }
   },
   "source": [
    "### Create new Semantic Surfaces\n",
    "The process is similar as previously. However, in this example we create new SemanticSurfaces that hold the values which we compute from the geometry. The input city model has a single semantic \"WallSurface\", without attributes, for all the walls of a building. The snippet below illustrates how to separate surfaces and assign the semantics to them."
   ]
  },
  {
   "cell_type": "code",
   "execution_count": 24,
   "metadata": {
    "pycharm": {
     "is_executing": false,
     "name": "#%%\n"
    },
    "slideshow": {
     "slide_type": "skip"
    }
   },
   "outputs": [],
   "source": [
    "new_cos = {}\n",
    "\n",
    "for co_id, co in cm_copy.cityobjects.items():\n",
    "    new_geoms = []\n",
    "    \n",
    "    for geom in co.geometry:\n",
    "        if geom.lod >= 2.0:\n",
    "            max_id = max(geom.surfaces.keys())\n",
    "            old_ids = []\n",
    "            \n",
    "            for w_i, wsrf in geom.get_surfaces('wallsurface').items():\n",
    "                old_ids.append(w_i)\n",
    "                del geom.surfaces[w_i]\n",
    "                boundaries = geom.get_surface_boundaries(wsrf)\n",
    "                \n",
    "                for j, boundary_geometry in enumerate(boundaries):\n",
    "                    # The original geometry has the same Semantic for all wall, \n",
    "                    # but we want to divide the wall surfaces by their orientation, \n",
    "                    # thus we need to have the correct surface index\n",
    "                    surface_index = wsrf['surface_idx'][j]\n",
    "                    new_srf = {\n",
    "                        'type': wsrf['type'],\n",
    "                        'surface_idx': surface_index\n",
    "                    }\n",
    "                    \n",
    "                    for multisurface in boundary_geometry:\n",
    "                        # Do any operation here\n",
    "                        x, y, z = multisurface[0]\n",
    "                        if j % 2 > 0:\n",
    "                            orientation = 'north'\n",
    "                        else:\n",
    "                            orientation = 'south'\n",
    "                        \n",
    "                        # Add the new attribute to the surface \n",
    "                        if 'attributes' in wsrf.keys():\n",
    "                            wsrf['attributes']['orientation'] = orientation\n",
    "                        else:\n",
    "                            wsrf['attributes'] = {}\n",
    "                            wsrf['attributes']['orientation'] = orientation\n",
    "                        \n",
    "                        new_srf['attributes'] = wsrf['attributes']\n",
    "                        \n",
    "                        # if w_i in geom.surfaces.keys():\n",
    "                        #     del geom.surfaces[w_i]\n",
    "                        \n",
    "                        max_id = max_id + 1\n",
    "                        geom.surfaces[max_id] = new_srf\n",
    "                        \n",
    "            new_geoms.append(geom)\n",
    "            \n",
    "        else:\n",
    "            # If LoD1, just add the geometry unchanged\n",
    "            new_geoms.append(geom)\n",
    "            \n",
    "    co.geometry = new_geoms\n",
    "    new_cos[co_id] = co\n",
    "    \n",
    "cm_copy.cityobjects = new_cos"
   ]
  },
  {
   "cell_type": "markdown",
   "metadata": {
    "slideshow": {
     "slide_type": "slide"
    }
   },
   "source": [
    "# Analysing CityModels\n",
    "\n",
    "![](figures/zurich.png)"
   ]
  },
  {
   "cell_type": "markdown",
   "metadata": {
    "slideshow": {
     "slide_type": "notes"
    }
   },
   "source": [
    "In the following I show how to compute some attributes from CityObject geometry and use these attributes as input for machine learning. For this we use the LoD2 model of Zürich.\n",
    "\n",
    "Download the Zürich data set from https://3d.bk.tudelft.nl/opendata/cityjson/1.0/Zurich_Building_LoD2_V10.json"
   ]
  },
  {
   "cell_type": "code",
   "execution_count": 25,
   "metadata": {
    "pycharm": {
     "is_executing": false
    },
    "slideshow": {
     "slide_type": "subslide"
    }
   },
   "outputs": [],
   "source": [
    "path = os.path.join('data', 'zurich.json')\n",
    "zurich = cityjson.load(path, transform=True)"
   ]
  },
  {
   "cell_type": "markdown",
   "metadata": {
    "slideshow": {
     "slide_type": "subslide"
    }
   },
   "source": [
    "## A simple geometry function"
   ]
  },
  {
   "cell_type": "markdown",
   "metadata": {
    "slideshow": {
     "slide_type": "notes"
    }
   },
   "source": [
    "Here is a simple geometry function that computes the area of the groundsurface (footprint) of buildings in the model. It also show how to cast surfaces, in this case the ground surface, to Shapely Polygons."
   ]
  },
  {
   "cell_type": "code",
   "execution_count": 26,
   "metadata": {
    "slideshow": {
     "slide_type": "fragment"
    }
   },
   "outputs": [],
   "source": [
    "def compute_footprint_area(co):\n",
    "    \"\"\"Compute the area of the footprint\"\"\"\n",
    "    footprint_area = 0\n",
    "    for geom in co.geometry:\n",
    "        \n",
    "        # only LoD2 (or higher) objects have semantic surfaces\n",
    "        if geom.lod >= 2.0:\n",
    "            footprints = geom.get_surfaces(type='groundsurface')\n",
    "            \n",
    "            # there can be many surfaces with label 'groundsurface'\n",
    "            for i,f in footprints.items():\n",
    "                for multisurface in geom.get_surface_boundaries(f):\n",
    "                    for surface in multisurface:\n",
    "                        \n",
    "                        # cast to Shapely polygon\n",
    "                        shapely_poly = Polygon(surface)\n",
    "                        footprint_area += shapely_poly.area\n",
    "                        \n",
    "    return footprint_area"
   ]
  },
  {
   "cell_type": "markdown",
   "metadata": {
    "slideshow": {
     "slide_type": "subslide"
    }
   },
   "source": [
    "## Compute new attributes"
   ]
  },
  {
   "cell_type": "markdown",
   "metadata": {
    "slideshow": {
     "slide_type": "notes"
    }
   },
   "source": [
    "Then we need to loop through the CityObjects and update add the new attributes. Note that the `attributes` CityObject attribute is just a dictionary.\n",
    "\n",
    "Thus we compute the number of vertices of the CityObject and the area of is footprint. Then we going to cluster these two variables. This is completely arbitrary excercise which is simply meant to illustrate how to transform a city model into machine-learnable features."
   ]
  },
  {
   "cell_type": "code",
   "execution_count": 27,
   "metadata": {
    "slideshow": {
     "slide_type": "fragment"
    }
   },
   "outputs": [],
   "source": [
    "for co_id, co in zurich.cityobjects.items():\n",
    "    co.attributes['nr_vertices'] = len(co.get_vertices())\n",
    "    co.attributes['fp_area'] = compute_footprint_area(co)\n",
    "    zurich.cityobjects[co_id] = co"
   ]
  },
  {
   "cell_type": "markdown",
   "metadata": {
    "pycharm": {
     "name": "#%% md\n"
    },
    "slideshow": {
     "slide_type": "skip"
    }
   },
   "source": [
    "It is possible to export the city model into a pandas DataFrame. Note that only the CityObject attributes are exported into the dataframe, with CityObject IDs as the index of the dataframe. Thus if you want to export the attributes of SemanticSurfaces for example, then you need to add them as CityObject attributes.\n",
    "\n",
    "The function below illustrates this operation."
   ]
  },
  {
   "cell_type": "code",
   "execution_count": 28,
   "metadata": {
    "pycharm": {
     "name": "#%%\n"
    },
    "slideshow": {
     "slide_type": "skip"
    }
   },
   "outputs": [],
   "source": [
    "def assign_cityobject_attribute(cm):\n",
    "    \"\"\"Copy the semantic surface attributes to CityObject attributes.\n",
    "    Returns a copy of the citymodel.\n",
    "    \"\"\"\n",
    "    new_cos = {}\n",
    "    cm_copy = deepcopy(cm)\n",
    "    for co_id, co in cm.cityobjects.items():\n",
    "        for geom in co.geometry:\n",
    "            for srf in geom.surfaces.values():\n",
    "                if 'attributes' in srf:\n",
    "                    for attr,a_v in srf['attributes'].items():\n",
    "                        if (attr not in co.attributes) or (co.attributes[attr] is None):\n",
    "                            co.attributes[attr] = [a_v]\n",
    "                        else:\n",
    "                            co.attributes[attr].append(a_v)\n",
    "        new_cos[co_id] = co\n",
    "    cm_copy.cityobjects = new_cos\n",
    "    return cm_copy"
   ]
  },
  {
   "cell_type": "code",
   "execution_count": 29,
   "metadata": {
    "scrolled": false,
    "slideshow": {
     "slide_type": "subslide"
    }
   },
   "outputs": [
    {
     "data": {
      "text/html": [
       "<div>\n",
       "<style scoped>\n",
       "    .dataframe tbody tr th:only-of-type {\n",
       "        vertical-align: middle;\n",
       "    }\n",
       "\n",
       "    .dataframe tbody tr th {\n",
       "        vertical-align: top;\n",
       "    }\n",
       "\n",
       "    .dataframe thead th {\n",
       "        text-align: right;\n",
       "    }\n",
       "</style>\n",
       "<table border=\"1\" class=\"dataframe\">\n",
       "  <thead>\n",
       "    <tr style=\"text-align: right;\">\n",
       "      <th></th>\n",
       "      <th>creationDate</th>\n",
       "      <th>Geomtype</th>\n",
       "      <th>nr_vertices</th>\n",
       "      <th>fp_area</th>\n",
       "      <th>class</th>\n",
       "      <th>Herkunft</th>\n",
       "      <th>QualitaetStatus</th>\n",
       "      <th>FileCreationDate</th>\n",
       "      <th>Region</th>\n",
       "      <th>GebaeudeStatus</th>\n",
       "    </tr>\n",
       "  </thead>\n",
       "  <tbody>\n",
       "    <tr>\n",
       "      <td>UUID_93fc5bae-4446-4336-9ff8-6679ebfdfde3</td>\n",
       "      <td>2017-01-23</td>\n",
       "      <td>1.0</td>\n",
       "      <td>24</td>\n",
       "      <td>65.209763</td>\n",
       "      <td>NaN</td>\n",
       "      <td>NaN</td>\n",
       "      <td>NaN</td>\n",
       "      <td>NaN</td>\n",
       "      <td>NaN</td>\n",
       "      <td>NaN</td>\n",
       "    </tr>\n",
       "    <tr>\n",
       "      <td>UUID_c9884c4e-1cac-47f5-b88b-6fb074c0ae50</td>\n",
       "      <td>2017-01-23</td>\n",
       "      <td>NaN</td>\n",
       "      <td>0</td>\n",
       "      <td>0.000000</td>\n",
       "      <td>BB01</td>\n",
       "      <td>EE_LB_2007</td>\n",
       "      <td>1.0</td>\n",
       "      <td>2012-02-23</td>\n",
       "      <td>2.0</td>\n",
       "      <td>1.0</td>\n",
       "    </tr>\n",
       "    <tr>\n",
       "      <td>UUID_a4a09780-153f-4385-ad19-3a92a6c4eec4</td>\n",
       "      <td>2017-01-23</td>\n",
       "      <td>1.0</td>\n",
       "      <td>38</td>\n",
       "      <td>20.784309</td>\n",
       "      <td>NaN</td>\n",
       "      <td>NaN</td>\n",
       "      <td>NaN</td>\n",
       "      <td>NaN</td>\n",
       "      <td>NaN</td>\n",
       "      <td>NaN</td>\n",
       "    </tr>\n",
       "    <tr>\n",
       "      <td>UUID_ba0bb815-5276-4e35-b4c1-878cbf6ba934</td>\n",
       "      <td>2017-01-23</td>\n",
       "      <td>NaN</td>\n",
       "      <td>0</td>\n",
       "      <td>0.000000</td>\n",
       "      <td>BB07</td>\n",
       "      <td>EE_LB_2007</td>\n",
       "      <td>1.0</td>\n",
       "      <td>2012-02-23</td>\n",
       "      <td>2.0</td>\n",
       "      <td>1.0</td>\n",
       "    </tr>\n",
       "    <tr>\n",
       "      <td>UUID_bb1835bc-7437-453f-ac08-885de0503aaa</td>\n",
       "      <td>2017-01-23</td>\n",
       "      <td>1.0</td>\n",
       "      <td>87</td>\n",
       "      <td>69.363823</td>\n",
       "      <td>NaN</td>\n",
       "      <td>NaN</td>\n",
       "      <td>NaN</td>\n",
       "      <td>NaN</td>\n",
       "      <td>NaN</td>\n",
       "      <td>NaN</td>\n",
       "    </tr>\n",
       "  </tbody>\n",
       "</table>\n",
       "</div>"
      ],
      "text/plain": [
       "                                          creationDate  Geomtype  nr_vertices  \\\n",
       "UUID_93fc5bae-4446-4336-9ff8-6679ebfdfde3   2017-01-23       1.0           24   \n",
       "UUID_c9884c4e-1cac-47f5-b88b-6fb074c0ae50   2017-01-23       NaN            0   \n",
       "UUID_a4a09780-153f-4385-ad19-3a92a6c4eec4   2017-01-23       1.0           38   \n",
       "UUID_ba0bb815-5276-4e35-b4c1-878cbf6ba934   2017-01-23       NaN            0   \n",
       "UUID_bb1835bc-7437-453f-ac08-885de0503aaa   2017-01-23       1.0           87   \n",
       "\n",
       "                                             fp_area class    Herkunft  \\\n",
       "UUID_93fc5bae-4446-4336-9ff8-6679ebfdfde3  65.209763   NaN         NaN   \n",
       "UUID_c9884c4e-1cac-47f5-b88b-6fb074c0ae50   0.000000  BB01  EE_LB_2007   \n",
       "UUID_a4a09780-153f-4385-ad19-3a92a6c4eec4  20.784309   NaN         NaN   \n",
       "UUID_ba0bb815-5276-4e35-b4c1-878cbf6ba934   0.000000  BB07  EE_LB_2007   \n",
       "UUID_bb1835bc-7437-453f-ac08-885de0503aaa  69.363823   NaN         NaN   \n",
       "\n",
       "                                           QualitaetStatus FileCreationDate  \\\n",
       "UUID_93fc5bae-4446-4336-9ff8-6679ebfdfde3              NaN              NaN   \n",
       "UUID_c9884c4e-1cac-47f5-b88b-6fb074c0ae50              1.0       2012-02-23   \n",
       "UUID_a4a09780-153f-4385-ad19-3a92a6c4eec4              NaN              NaN   \n",
       "UUID_ba0bb815-5276-4e35-b4c1-878cbf6ba934              1.0       2012-02-23   \n",
       "UUID_bb1835bc-7437-453f-ac08-885de0503aaa              NaN              NaN   \n",
       "\n",
       "                                           Region  GebaeudeStatus  \n",
       "UUID_93fc5bae-4446-4336-9ff8-6679ebfdfde3     NaN             NaN  \n",
       "UUID_c9884c4e-1cac-47f5-b88b-6fb074c0ae50     2.0             1.0  \n",
       "UUID_a4a09780-153f-4385-ad19-3a92a6c4eec4     NaN             NaN  \n",
       "UUID_ba0bb815-5276-4e35-b4c1-878cbf6ba934     2.0             1.0  \n",
       "UUID_bb1835bc-7437-453f-ac08-885de0503aaa     NaN             NaN  "
      ]
     },
     "execution_count": 29,
     "metadata": {},
     "output_type": "execute_result"
    }
   ],
   "source": [
    "df = zurich.to_dataframe()\n",
    "df.head()"
   ]
  },
  {
   "cell_type": "markdown",
   "metadata": {
    "slideshow": {
     "slide_type": "notes"
    }
   },
   "source": [
    "In order to have a nicer distribution of the data, we remove the missing values and apply a log-transform on the two variables. Note that the `FuntionTransformer.transform` transforms a DataFrame to a numpy array that is ready to be used in `scikit-learn`. The details of a machine learning workflow is beyond the scope of this tutorial however."
   ]
  },
  {
   "cell_type": "code",
   "execution_count": 30,
   "metadata": {
    "slideshow": {
     "slide_type": "skip"
    }
   },
   "outputs": [],
   "source": [
    "df_subset = df[df['Geomtype'].notnull() & df['fp_area'] > 0.0].loc[:, ['nr_vertices', 'fp_area']]\n",
    "transformer = FunctionTransformer(np.log, validate=True)\n",
    "df_logtransform = transformer.transform(df_subset)"
   ]
  },
  {
   "cell_type": "code",
   "execution_count": 31,
   "metadata": {
    "scrolled": true,
    "slideshow": {
     "slide_type": "skip"
    }
   },
   "outputs": [
    {
     "data": {
      "image/png": "[encoded data removed]",
      "text/plain": [
       "<Figure size 432x288 with 1 Axes>"
      ]
     },
     "metadata": {
      "needs_background": "light"
     },
     "output_type": "display_data"
    }
   ],
   "source": [
    "fig = plt.figure()\n",
    "ax = fig.add_subplot(1, 1, 1)\n",
    "ax.scatter(df_logtransform[:,0], df_logtransform[:,1], alpha=0.3, s=1.0)\n",
    "plt.show()"
   ]
  },
  {
   "cell_type": "code",
   "execution_count": 32,
   "metadata": {
    "slideshow": {
     "slide_type": "skip"
    }
   },
   "outputs": [],
   "source": [
    "def plot_model_results(model, data):\n",
    "    fig = plt.figure()\n",
    "    ax = fig.add_subplot(1, 1, 1)\n",
    "    colormap = np.array(['lightblue', 'red', 'lime', 'blue','black'])\n",
    "    ax.scatter(data[:,0], data[:,1], c=colormap[model.labels_], s=10, alpha=0.5)\n",
    "    ax.set_xlabel('Number of vertices [log]')\n",
    "    ax.set_ylabel('Footprint area [log]')\n",
    "    plt.title(f\"DBSCAN clustering with estimated {len(set(model.labels_))} clusters\")\n",
    "    plt.show()"
   ]
  },
  {
   "cell_type": "markdown",
   "metadata": {
    "slideshow": {
     "slide_type": "notes"
    }
   },
   "source": [
    "Since we transformed our DataFrame, we can fit any model in `scikit-learn`. I use DBSCAN because I wanted to find the data points on the fringes of the central cluster."
   ]
  },
  {
   "cell_type": "code",
   "execution_count": 33,
   "metadata": {
    "scrolled": false,
    "slideshow": {
     "slide_type": "subslide"
    }
   },
   "outputs": [
    {
     "data": {
      "application/javascript": [
       "/* Put everything inside the global mpl namespace */\n",
       "window.mpl = {};\n",
       "\n",
       "\n",
       "mpl.get_websocket_type = function() {\n",
       "    if (typeof(WebSocket) !== 'undefined') {\n",
       "        return WebSocket;\n",
       "    } else if (typeof(MozWebSocket) !== 'undefined') {\n",
       "        return MozWebSocket;\n",
       "    } else {\n",
       "        alert('Your browser does not have WebSocket support. ' +\n",
       "              'Please try Chrome, Safari or Firefox ≥ 6. ' +\n",
       "              'Firefox 4 and 5 are also supported but you ' +\n",
       "              'have to enable WebSockets in about:config.');\n",
       "    };\n",
       "}\n",
       "\n",
       "mpl.figure = function(figure_id, websocket, ondownload, parent_element) {\n",
       "    this.id = figure_id;\n",
       "\n",
       "    this.ws = websocket;\n",
       "\n",
       "    this.supports_binary = (this.ws.binaryType != undefined);\n",
       "\n",
       "    if (!this.supports_binary) {\n",
       "        var warnings = document.getElementById(\"mpl-warnings\");\n",
       "        if (warnings) {\n",
       "            warnings.style.display = 'block';\n",
       "            warnings.textContent = (\n",
       "                \"This browser does not support binary websocket messages. \" +\n",
       "                    \"Performance may be slow.\");\n",
       "        }\n",
       "    }\n",
       "\n",
       "    this.imageObj = new Image();\n",
       "\n",
       "    this.context = undefined;\n",
       "    this.message = undefined;\n",
       "    this.canvas = undefined;\n",
       "    this.rubberband_canvas = undefined;\n",
       "    this.rubberband_context = undefined;\n",
       "    this.format_dropdown = undefined;\n",
       "\n",
       "    this.image_mode = 'full';\n",
       "\n",
       "    this.root = $('<div/>');\n",
       "    this._root_extra_style(this.root)\n",
       "    this.root.attr('style', 'display: inline-block');\n",
       "\n",
       "    $(parent_element).append(this.root);\n",
       "\n",
       "    this._init_header(this);\n",
       "    this._init_canvas(this);\n",
       "    this._init_toolbar(this);\n",
       "\n",
       "    var fig = this;\n",
       "\n",
       "    this.waiting = false;\n",
       "\n",
       "    this.ws.onopen =  function () {\n",
       "            fig.send_message(\"supports_binary\", {value: fig.supports_binary});\n",
       "            fig.send_message(\"send_image_mode\", {});\n",
       "            if (mpl.ratio != 1) {\n",
       "                fig.send_message(\"set_dpi_ratio\", {'dpi_ratio': mpl.ratio});\n",
       "            }\n",
       "            fig.send_message(\"refresh\", {});\n",
       "        }\n",
       "\n",
       "    this.imageObj.onload = function() {\n",
       "            if (fig.image_mode == 'full') {\n",
       "                // Full images could contain transparency (where diff images\n",
       "                // almost always do), so we need to clear the canvas so that\n",
       "                // there is no ghosting.\n",
       "                fig.context.clearRect(0, 0, fig.canvas.width, fig.canvas.height);\n",
       "            }\n",
       "            fig.context.drawImage(fig.imageObj, 0, 0);\n",
       "        };\n",
       "\n",
       "    this.imageObj.onunload = function() {\n",
       "        fig.ws.close();\n",
       "    }\n",
       "\n",
       "    this.ws.onmessage = this._make_on_message_function(this);\n",
       "\n",
       "    this.ondownload = ondownload;\n",
       "}\n",
       "\n",
       "mpl.figure.prototype._init_header = function() {\n",
       "    var titlebar = $(\n",
       "        '<div class=\"ui-dialog-titlebar ui-widget-header ui-corner-all ' +\n",
       "        'ui-helper-clearfix\"/>');\n",
       "    var titletext = $(\n",
       "        '<div class=\"ui-dialog-title\" style=\"width: 100%; ' +\n",
       "        'text-align: center; padding: 3px;\"/>');\n",
       "    titlebar.append(titletext)\n",
       "    this.root.append(titlebar);\n",
       "    this.header = titletext[0];\n",
       "}\n",
       "\n",
       "\n",
       "\n",
       "mpl.figure.prototype._canvas_extra_style = function(canvas_div) {\n",
       "\n",
       "}\n",
       "\n",
       "\n",
       "mpl.figure.prototype._root_extra_style = function(canvas_div) {\n",
       "\n",
       "}\n",
       "\n",
       "mpl.figure.prototype._init_canvas = function() {\n",
       "    var fig = this;\n",
       "\n",
       "    var canvas_div = $('<div/>');\n",
       "\n",
       "    canvas_div.attr('style', 'position: relative; clear: both; outline: 0');\n",
       "\n",
       "    function canvas_keyboard_event(event) {\n",
       "        return fig.key_event(event, event['data']);\n",
       "    }\n",
       "\n",
       "    canvas_div.keydown('key_press', canvas_keyboard_event);\n",
       "    canvas_div.keyup('key_release', canvas_keyboard_event);\n",
       "    this.canvas_div = canvas_div\n",
       "    this._canvas_extra_style(canvas_div)\n",
       "    this.root.append(canvas_div);\n",
       "\n",
       "    var canvas = $('<canvas/>');\n",
       "    canvas.addClass('mpl-canvas');\n",
       "    canvas.attr('style', \"left: 0; top: 0; z-index: 0; outline: 0\")\n",
       "\n",
       "    this.canvas = canvas[0];\n",
       "    this.context = canvas[0].getContext(\"2d\");\n",
       "\n",
       "    var backingStore = this.context.backingStorePixelRatio ||\n",
       "\tthis.context.webkitBackingStorePixelRatio ||\n",
       "\tthis.context.mozBackingStorePixelRatio ||\n",
       "\tthis.context.msBackingStorePixelRatio ||\n",
       "\tthis.context.oBackingStorePixelRatio ||\n",
       "\tthis.context.backingStorePixelRatio || 1;\n",
       "\n",
       "    mpl.ratio = (window.devicePixelRatio || 1) / backingStore;\n",
       "\n",
       "    var rubberband = $('<canvas/>');\n",
       "    rubberband.attr('style', \"position: absolute; left: 0; top: 0; z-index: 1;\")\n",
       "\n",
       "    var pass_mouse_events = true;\n",
       "\n",
       "    canvas_div.resizable({\n",
       "        start: function(event, ui) {\n",
       "            pass_mouse_events = false;\n",
       "        },\n",
       "        resize: function(event, ui) {\n",
       "            fig.request_resize(ui.size.width, ui.size.height);\n",
       "        },\n",
       "        stop: function(event, ui) {\n",
       "            pass_mouse_events = true;\n",
       "            fig.request_resize(ui.size.width, ui.size.height);\n",
       "        },\n",
       "    });\n",
       "\n",
       "    function mouse_event_fn(event) {\n",
       "        if (pass_mouse_events)\n",
       "            return fig.mouse_event(event, event['data']);\n",
       "    }\n",
       "\n",
       "    rubberband.mousedown('button_press', mouse_event_fn);\n",
       "    rubberband.mouseup('button_release', mouse_event_fn);\n",
       "    // Throttle sequential mouse events to 1 every 20ms.\n",
       "    rubberband.mousemove('motion_notify', mouse_event_fn);\n",
       "\n",
       "    rubberband.mouseenter('figure_enter', mouse_event_fn);\n",
       "    rubberband.mouseleave('figure_leave', mouse_event_fn);\n",
       "\n",
       "    canvas_div.on(\"wheel\", function (event) {\n",
       "        event = event.originalEvent;\n",
       "        event['data'] = 'scroll'\n",
       "        if (event.deltaY < 0) {\n",
       "            event.step = 1;\n",
       "        } else {\n",
       "            event.step = -1;\n",
       "        }\n",
       "        mouse_event_fn(event);\n",
       "    });\n",
       "\n",
       "    canvas_div.append(canvas);\n",
       "    canvas_div.append(rubberband);\n",
       "\n",
       "    this.rubberband = rubberband;\n",
       "    this.rubberband_canvas = rubberband[0];\n",
       "    this.rubberband_context = rubberband[0].getContext(\"2d\");\n",
       "    this.rubberband_context.strokeStyle = \"#000000\";\n",
       "\n",
       "    this._resize_canvas = function(width, height) {\n",
       "        // Keep the size of the canvas, canvas container, and rubber band\n",
       "        // canvas in synch.\n",
       "        canvas_div.css('width', width)\n",
       "        canvas_div.css('height', height)\n",
       "\n",
       "        canvas.attr('width', width * mpl.ratio);\n",
       "        canvas.attr('height', height * mpl.ratio);\n",
       "        canvas.attr('style', 'width: ' + width + 'px; height: ' + height + 'px;');\n",
       "\n",
       "        rubberband.attr('width', width);\n",
       "        rubberband.attr('height', height);\n",
       "    }\n",
       "\n",
       "    // Set the figure to an initial 600x600px, this will subsequently be updated\n",
       "    // upon first draw.\n",
       "    this._resize_canvas(600, 600);\n",
       "\n",
       "    // Disable right mouse context menu.\n",
       "    $(this.rubberband_canvas).bind(\"contextmenu\",function(e){\n",
       "        return false;\n",
       "    });\n",
       "\n",
       "    function set_focus () {\n",
       "        canvas.focus();\n",
       "        canvas_div.focus();\n",
       "    }\n",
       "\n",
       "    window.setTimeout(set_focus, 100);\n",
       "}\n",
       "\n",
       "mpl.figure.prototype._init_toolbar = function() {\n",
       "    var fig = this;\n",
       "\n",
       "    var nav_element = $('<div/>');\n",
       "    nav_element.attr('style', 'width: 100%');\n",
       "    this.root.append(nav_element);\n",
       "\n",
       "    // Define a callback function for later on.\n",
       "    function toolbar_event(event) {\n",
       "        return fig.toolbar_button_onclick(event['data']);\n",
       "    }\n",
       "    function toolbar_mouse_event(event) {\n",
       "        return fig.toolbar_button_onmouseover(event['data']);\n",
       "    }\n",
       "\n",
       "    for(var toolbar_ind in mpl.toolbar_items) {\n",
       "        var name = mpl.toolbar_items[toolbar_ind][0];\n",
       "        var tooltip = mpl.toolbar_items[toolbar_ind][1];\n",
       "        var image = mpl.toolbar_items[toolbar_ind][2];\n",
       "        var method_name = mpl.toolbar_items[toolbar_ind][3];\n",
       "\n",
       "        if (!name) {\n",
       "            // put a spacer in here.\n",
       "            continue;\n",
       "        }\n",
       "        var button = $('<button/>');\n",
       "        button.addClass('ui-button ui-widget ui-state-default ui-corner-all ' +\n",
       "                        'ui-button-icon-only');\n",
       "        button.attr('role', 'button');\n",
       "        button.attr('aria-disabled', 'false');\n",
       "        button.click(method_name, toolbar_event);\n",
       "        button.mouseover(tooltip, toolbar_mouse_event);\n",
       "\n",
       "        var icon_img = $('<span/>');\n",
       "        icon_img.addClass('ui-button-icon-primary ui-icon');\n",
       "        icon_img.addClass(image);\n",
       "        icon_img.addClass('ui-corner-all');\n",
       "\n",
       "        var tooltip_span = $('<span/>');\n",
       "        tooltip_span.addClass('ui-button-text');\n",
       "        tooltip_span.html(tooltip);\n",
       "\n",
       "        button.append(icon_img);\n",
       "        button.append(tooltip_span);\n",
       "\n",
       "        nav_element.append(button);\n",
       "    }\n",
       "\n",
       "    var fmt_picker_span = $('<span/>');\n",
       "\n",
       "    var fmt_picker = $('<select/>');\n",
       "    fmt_picker.addClass('mpl-toolbar-option ui-widget ui-widget-content');\n",
       "    fmt_picker_span.append(fmt_picker);\n",
       "    nav_element.append(fmt_picker_span);\n",
       "    this.format_dropdown = fmt_picker[0];\n",
       "\n",
       "    for (var ind in mpl.extensions) {\n",
       "        var fmt = mpl.extensions[ind];\n",
       "        var option = $(\n",
       "            '<option/>', {selected: fmt === mpl.default_extension}).html(fmt);\n",
       "        fmt_picker.append(option);\n",
       "    }\n",
       "\n",
       "    // Add hover states to the ui-buttons\n",
       "    $( \".ui-button\" ).hover(\n",
       "        function() { $(this).addClass(\"ui-state-hover\");},\n",
       "        function() { $(this).removeClass(\"ui-state-hover\");}\n",
       "    );\n",
       "\n",
       "    var status_bar = $('<span class=\"mpl-message\"/>');\n",
       "    nav_element.append(status_bar);\n",
       "    this.message = status_bar[0];\n",
       "}\n",
       "\n",
       "mpl.figure.prototype.request_resize = function(x_pixels, y_pixels) {\n",
       "    // Request matplotlib to resize the figure. Matplotlib will then trigger a resize in the client,\n",
       "    // which will in turn request a refresh of the image.\n",
       "    this.send_message('resize', {'width': x_pixels, 'height': y_pixels});\n",
       "}\n",
       "\n",
       "mpl.figure.prototype.send_message = function(type, properties) {\n",
       "    properties['type'] = type;\n",
       "    properties['figure_id'] = this.id;\n",
       "    this.ws.send(JSON.stringify(properties));\n",
       "}\n",
       "\n",
       "mpl.figure.prototype.send_draw_message = function() {\n",
       "    if (!this.waiting) {\n",
       "        this.waiting = true;\n",
       "        this.ws.send(JSON.stringify({type: \"draw\", figure_id: this.id}));\n",
       "    }\n",
       "}\n",
       "\n",
       "\n",
       "mpl.figure.prototype.handle_save = function(fig, msg) {\n",
       "    var format_dropdown = fig.format_dropdown;\n",
       "    var format = format_dropdown.options[format_dropdown.selectedIndex].value;\n",
       "    fig.ondownload(fig, format);\n",
       "}\n",
       "\n",
       "\n",
       "mpl.figure.prototype.handle_resize = function(fig, msg) {\n",
       "    var size = msg['size'];\n",
       "    if (size[0] != fig.canvas.width || size[1] != fig.canvas.height) {\n",
       "        fig._resize_canvas(size[0], size[1]);\n",
       "        fig.send_message(\"refresh\", {});\n",
       "    };\n",
       "}\n",
       "\n",
       "mpl.figure.prototype.handle_rubberband = function(fig, msg) {\n",
       "    var x0 = msg['x0'] / mpl.ratio;\n",
       "    var y0 = (fig.canvas.height - msg['y0']) / mpl.ratio;\n",
       "    var x1 = msg['x1'] / mpl.ratio;\n",
       "    var y1 = (fig.canvas.height - msg['y1']) / mpl.ratio;\n",
       "    x0 = Math.floor(x0) + 0.5;\n",
       "    y0 = Math.floor(y0) + 0.5;\n",
       "    x1 = Math.floor(x1) + 0.5;\n",
       "    y1 = Math.floor(y1) + 0.5;\n",
       "    var min_x = Math.min(x0, x1);\n",
       "    var min_y = Math.min(y0, y1);\n",
       "    var width = Math.abs(x1 - x0);\n",
       "    var height = Math.abs(y1 - y0);\n",
       "\n",
       "    fig.rubberband_context.clearRect(\n",
       "        0, 0, fig.canvas.width / mpl.ratio, fig.canvas.height / mpl.ratio);\n",
       "\n",
       "    fig.rubberband_context.strokeRect(min_x, min_y, width, height);\n",
       "}\n",
       "\n",
       "mpl.figure.prototype.handle_figure_label = function(fig, msg) {\n",
       "    // Updates the figure title.\n",
       "    fig.header.textContent = msg['label'];\n",
       "}\n",
       "\n",
       "mpl.figure.prototype.handle_cursor = function(fig, msg) {\n",
       "    var cursor = msg['cursor'];\n",
       "    switch(cursor)\n",
       "    {\n",
       "    case 0:\n",
       "        cursor = 'pointer';\n",
       "        break;\n",
       "    case 1:\n",
       "        cursor = 'default';\n",
       "        break;\n",
       "    case 2:\n",
       "        cursor = 'crosshair';\n",
       "        break;\n",
       "    case 3:\n",
       "        cursor = 'move';\n",
       "        break;\n",
       "    }\n",
       "    fig.rubberband_canvas.style.cursor = cursor;\n",
       "}\n",
       "\n",
       "mpl.figure.prototype.handle_message = function(fig, msg) {\n",
       "    fig.message.textContent = msg['message'];\n",
       "}\n",
       "\n",
       "mpl.figure.prototype.handle_draw = function(fig, msg) {\n",
       "    // Request the server to send over a new figure.\n",
       "    fig.send_draw_message();\n",
       "}\n",
       "\n",
       "mpl.figure.prototype.handle_image_mode = function(fig, msg) {\n",
       "    fig.image_mode = msg['mode'];\n",
       "}\n",
       "\n",
       "mpl.figure.prototype.updated_canvas_event = function() {\n",
       "    // Called whenever the canvas gets updated.\n",
       "    this.send_message(\"ack\", {});\n",
       "}\n",
       "\n",
       "// A function to construct a web socket function for onmessage handling.\n",
       "// Called in the figure constructor.\n",
       "mpl.figure.prototype._make_on_message_function = function(fig) {\n",
       "    return function socket_on_message(evt) {\n",
       "        if (evt.data instanceof Blob) {\n",
       "            /* FIXME: We get \"Resource interpreted as Image but\n",
       "             * transferred with MIME type text/plain:\" errors on\n",
       "             * Chrome.  But how to set the MIME type?  It doesn't seem\n",
       "             * to be part of the websocket stream */\n",
       "            evt.data.type = \"image/png\";\n",
       "\n",
       "            /* Free the memory for the previous frames */\n",
       "            if (fig.imageObj.src) {\n",
       "                (window.URL || window.webkitURL).revokeObjectURL(\n",
       "                    fig.imageObj.src);\n",
       "            }\n",
       "\n",
       "            fig.imageObj.src = (window.URL || window.webkitURL).createObjectURL(\n",
       "                evt.data);\n",
       "            fig.updated_canvas_event();\n",
       "            fig.waiting = false;\n",
       "            return;\n",
       "        }\n",
       "        else if (typeof evt.data === 'string' && evt.data.slice(0, 21) == \"data:image/png;base64\") {\n",
       "            fig.imageObj.src = evt.data;\n",
       "            fig.updated_canvas_event();\n",
       "            fig.waiting = false;\n",
       "            return;\n",
       "        }\n",
       "\n",
       "        var msg = JSON.parse(evt.data);\n",
       "        var msg_type = msg['type'];\n",
       "\n",
       "        // Call the  \"handle_{type}\" callback, which takes\n",
       "        // the figure and JSON message as its only arguments.\n",
       "        try {\n",
       "            var callback = fig[\"handle_\" + msg_type];\n",
       "        } catch (e) {\n",
       "            console.log(\"No handler for the '\" + msg_type + \"' message type: \", msg);\n",
       "            return;\n",
       "        }\n",
       "\n",
       "        if (callback) {\n",
       "            try {\n",
       "                // console.log(\"Handling '\" + msg_type + \"' message: \", msg);\n",
       "                callback(fig, msg);\n",
       "            } catch (e) {\n",
       "                console.log(\"Exception inside the 'handler_\" + msg_type + \"' callback:\", e, e.stack, msg);\n",
       "            }\n",
       "        }\n",
       "    };\n",
       "}\n",
       "\n",
       "// from http://stackoverflow.com/questions/1114465/getting-mouse-location-in-canvas\n",
       "mpl.findpos = function(e) {\n",
       "    //this section is from http://www.quirksmode.org/js/events_properties.html\n",
       "    var targ;\n",
       "    if (!e)\n",
       "        e = window.event;\n",
       "    if (e.target)\n",
       "        targ = e.target;\n",
       "    else if (e.srcElement)\n",
       "        targ = e.srcElement;\n",
       "    if (targ.nodeType == 3) // defeat Safari bug\n",
       "        targ = targ.parentNode;\n",
       "\n",
       "    // jQuery normalizes the pageX and pageY\n",
       "    // pageX,Y are the mouse positions relative to the document\n",
       "    // offset() returns the position of the element relative to the document\n",
       "    var x = e.pageX - $(targ).offset().left;\n",
       "    var y = e.pageY - $(targ).offset().top;\n",
       "\n",
       "    return {\"x\": x, \"y\": y};\n",
       "};\n",
       "\n",
       "/*\n",
       " * return a copy of an object with only non-object keys\n",
       " * we need this to avoid circular references\n",
       " * http://stackoverflow.com/a/24161582/3208463\n",
       " */\n",
       "function simpleKeys (original) {\n",
       "  return Object.keys(original).reduce(function (obj, key) {\n",
       "    if (typeof original[key] !== 'object')\n",
       "        obj[key] = original[key]\n",
       "    return obj;\n",
       "  }, {});\n",
       "}\n",
       "\n",
       "mpl.figure.prototype.mouse_event = function(event, name) {\n",
       "    var canvas_pos = mpl.findpos(event)\n",
       "\n",
       "    if (name === 'button_press')\n",
       "    {\n",
       "        this.canvas.focus();\n",
       "        this.canvas_div.focus();\n",
       "    }\n",
       "\n",
       "    var x = canvas_pos.x * mpl.ratio;\n",
       "    var y = canvas_pos.y * mpl.ratio;\n",
       "\n",
       "    this.send_message(name, {x: x, y: y, button: event.button,\n",
       "                             step: event.step,\n",
       "                             guiEvent: simpleKeys(event)});\n",
       "\n",
       "    /* This prevents the web browser from automatically changing to\n",
       "     * the text insertion cursor when the button is pressed.  We want\n",
       "     * to control all of the cursor setting manually through the\n",
       "     * 'cursor' event from matplotlib */\n",
       "    event.preventDefault();\n",
       "    return false;\n",
       "}\n",
       "\n",
       "mpl.figure.prototype._key_event_extra = function(event, name) {\n",
       "    // Handle any extra behaviour associated with a key event\n",
       "}\n",
       "\n",
       "mpl.figure.prototype.key_event = function(event, name) {\n",
       "\n",
       "    // Prevent repeat events\n",
       "    if (name == 'key_press')\n",
       "    {\n",
       "        if (event.which === this._key)\n",
       "            return;\n",
       "        else\n",
       "            this._key = event.which;\n",
       "    }\n",
       "    if (name == 'key_release')\n",
       "        this._key = null;\n",
       "\n",
       "    var value = '';\n",
       "    if (event.ctrlKey && event.which != 17)\n",
       "        value += \"ctrl+\";\n",
       "    if (event.altKey && event.which != 18)\n",
       "        value += \"alt+\";\n",
       "    if (event.shiftKey && event.which != 16)\n",
       "        value += \"shift+\";\n",
       "\n",
       "    value += 'k';\n",
       "    value += event.which.toString();\n",
       "\n",
       "    this._key_event_extra(event, name);\n",
       "\n",
       "    this.send_message(name, {key: value,\n",
       "                             guiEvent: simpleKeys(event)});\n",
       "    return false;\n",
       "}\n",
       "\n",
       "mpl.figure.prototype.toolbar_button_onclick = function(name) {\n",
       "    if (name == 'download') {\n",
       "        this.handle_save(this, null);\n",
       "    } else {\n",
       "        this.send_message(\"toolbar_button\", {name: name});\n",
       "    }\n",
       "};\n",
       "\n",
       "mpl.figure.prototype.toolbar_button_onmouseover = function(tooltip) {\n",
       "    this.message.textContent = tooltip;\n",
       "};\n",
       "mpl.toolbar_items = [[\"Home\", \"Reset original view\", \"fa fa-home icon-home\", \"home\"], [\"Back\", \"Back to previous view\", \"fa fa-arrow-left icon-arrow-left\", \"back\"], [\"Forward\", \"Forward to next view\", \"fa fa-arrow-right icon-arrow-right\", \"forward\"], [\"\", \"\", \"\", \"\"], [\"Pan\", \"Pan axes with left mouse, zoom with right\", \"fa fa-arrows icon-move\", \"pan\"], [\"Zoom\", \"Zoom to rectangle\", \"fa fa-square-o icon-check-empty\", \"zoom\"], [\"\", \"\", \"\", \"\"], [\"Download\", \"Download plot\", \"fa fa-floppy-o icon-save\", \"download\"]];\n",
       "\n",
       "mpl.extensions = [\"eps\", \"pdf\", \"png\", \"ps\", \"raw\", \"svg\"];\n",
       "\n",
       "mpl.default_extension = \"png\";var comm_websocket_adapter = function(comm) {\n",
       "    // Create a \"websocket\"-like object which calls the given IPython comm\n",
       "    // object with the appropriate methods. Currently this is a non binary\n",
       "    // socket, so there is still some room for performance tuning.\n",
       "    var ws = {};\n",
       "\n",
       "    ws.close = function() {\n",
       "        comm.close()\n",
       "    };\n",
       "    ws.send = function(m) {\n",
       "        //console.log('sending', m);\n",
       "        comm.send(m);\n",
       "    };\n",
       "    // Register the callback with on_msg.\n",
       "    comm.on_msg(function(msg) {\n",
       "        //console.log('receiving', msg['content']['data'], msg);\n",
       "        // Pass the mpl event to the overridden (by mpl) onmessage function.\n",
       "        ws.onmessage(msg['content']['data'])\n",
       "    });\n",
       "    return ws;\n",
       "}\n",
       "\n",
       "mpl.mpl_figure_comm = function(comm, msg) {\n",
       "    // This is the function which gets called when the mpl process\n",
       "    // starts-up an IPython Comm through the \"matplotlib\" channel.\n",
       "\n",
       "    var id = msg.content.data.id;\n",
       "    // Get hold of the div created by the display call when the Comm\n",
       "    // socket was opened in Python.\n",
       "    var element = $(\"#\" + id);\n",
       "    var ws_proxy = comm_websocket_adapter(comm)\n",
       "\n",
       "    function ondownload(figure, format) {\n",
       "        window.open(figure.imageObj.src);\n",
       "    }\n",
       "\n",
       "    var fig = new mpl.figure(id, ws_proxy,\n",
       "                           ondownload,\n",
       "                           element.get(0));\n",
       "\n",
       "    // Call onopen now - mpl needs it, as it is assuming we've passed it a real\n",
       "    // web socket which is closed, not our websocket->open comm proxy.\n",
       "    ws_proxy.onopen();\n",
       "\n",
       "    fig.parent_element = element.get(0);\n",
       "    fig.cell_info = mpl.find_output_cell(\"<div id='\" + id + \"'></div>\");\n",
       "    if (!fig.cell_info) {\n",
       "        console.error(\"Failed to find cell for figure\", id, fig);\n",
       "        return;\n",
       "    }\n",
       "\n",
       "    var output_index = fig.cell_info[2]\n",
       "    var cell = fig.cell_info[0];\n",
       "\n",
       "};\n",
       "\n",
       "mpl.figure.prototype.handle_close = function(fig, msg) {\n",
       "    var width = fig.canvas.width/mpl.ratio\n",
       "    fig.root.unbind('remove')\n",
       "\n",
       "    // Update the output cell to use the data from the current canvas.\n",
       "    fig.push_to_output();\n",
       "    var dataURL = fig.canvas.toDataURL();\n",
       "    // Re-enable the keyboard manager in IPython - without this line, in FF,\n",
       "    // the notebook keyboard shortcuts fail.\n",
       "    IPython.keyboard_manager.enable()\n",
       "    $(fig.parent_element).html('<img src=\"' + dataURL + '\" width=\"' + width + '\">');\n",
       "    fig.close_ws(fig, msg);\n",
       "}\n",
       "\n",
       "mpl.figure.prototype.close_ws = function(fig, msg){\n",
       "    fig.send_message('closing', msg);\n",
       "    // fig.ws.close()\n",
       "}\n",
       "\n",
       "mpl.figure.prototype.push_to_output = function(remove_interactive) {\n",
       "    // Turn the data on the canvas into data in the output cell.\n",
       "    var width = this.canvas.width/mpl.ratio\n",
       "    var dataURL = this.canvas.toDataURL();\n",
       "    this.cell_info[1]['text/html'] = '<img src=\"' + dataURL + '\" width=\"' + width + '\">';\n",
       "}\n",
       "\n",
       "mpl.figure.prototype.updated_canvas_event = function() {\n",
       "    // Tell IPython that the notebook contents must change.\n",
       "    IPython.notebook.set_dirty(true);\n",
       "    this.send_message(\"ack\", {});\n",
       "    var fig = this;\n",
       "    // Wait a second, then push the new image to the DOM so\n",
       "    // that it is saved nicely (might be nice to debounce this).\n",
       "    setTimeout(function () { fig.push_to_output() }, 1000);\n",
       "}\n",
       "\n",
       "mpl.figure.prototype._init_toolbar = function() {\n",
       "    var fig = this;\n",
       "\n",
       "    var nav_element = $('<div/>');\n",
       "    nav_element.attr('style', 'width: 100%');\n",
       "    this.root.append(nav_element);\n",
       "\n",
       "    // Define a callback function for later on.\n",
       "    function toolbar_event(event) {\n",
       "        return fig.toolbar_button_onclick(event['data']);\n",
       "    }\n",
       "    function toolbar_mouse_event(event) {\n",
       "        return fig.toolbar_button_onmouseover(event['data']);\n",
       "    }\n",
       "\n",
       "    for(var toolbar_ind in mpl.toolbar_items){\n",
       "        var name = mpl.toolbar_items[toolbar_ind][0];\n",
       "        var tooltip = mpl.toolbar_items[toolbar_ind][1];\n",
       "        var image = mpl.toolbar_items[toolbar_ind][2];\n",
       "        var method_name = mpl.toolbar_items[toolbar_ind][3];\n",
       "\n",
       "        if (!name) { continue; };\n",
       "\n",
       "        var button = $('<button class=\"btn btn-default\" href=\"#\" title=\"' + name + '\"><i class=\"fa ' + image + ' fa-lg\"></i></button>');\n",
       "        button.click(method_name, toolbar_event);\n",
       "        button.mouseover(tooltip, toolbar_mouse_event);\n",
       "        nav_element.append(button);\n",
       "    }\n",
       "\n",
       "    // Add the status bar.\n",
       "    var status_bar = $('<span class=\"mpl-message\" style=\"text-align:right; float: right;\"/>');\n",
       "    nav_element.append(status_bar);\n",
       "    this.message = status_bar[0];\n",
       "\n",
       "    // Add the close button to the window.\n",
       "    var buttongrp = $('<div class=\"btn-group inline pull-right\"></div>');\n",
       "    var button = $('<button class=\"btn btn-mini btn-primary\" href=\"#\" title=\"Stop Interaction\"><i class=\"fa fa-power-off icon-remove icon-large\"></i></button>');\n",
       "    button.click(function (evt) { fig.handle_close(fig, {}); } );\n",
       "    button.mouseover('Stop Interaction', toolbar_mouse_event);\n",
       "    buttongrp.append(button);\n",
       "    var titlebar = this.root.find($('.ui-dialog-titlebar'));\n",
       "    titlebar.prepend(buttongrp);\n",
       "}\n",
       "\n",
       "mpl.figure.prototype._root_extra_style = function(el){\n",
       "    var fig = this\n",
       "    el.on(\"remove\", function(){\n",
       "\tfig.close_ws(fig, {});\n",
       "    });\n",
       "}\n",
       "\n",
       "mpl.figure.prototype._canvas_extra_style = function(el){\n",
       "    // this is important to make the div 'focusable\n",
       "    el.attr('tabindex', 0)\n",
       "    // reach out to IPython and tell the keyboard manager to turn it's self\n",
       "    // off when our div gets focus\n",
       "\n",
       "    // location in version 3\n",
       "    if (IPython.notebook.keyboard_manager) {\n",
       "        IPython.notebook.keyboard_manager.register_events(el);\n",
       "    }\n",
       "    else {\n",
       "        // location in version 2\n",
       "        IPython.keyboard_manager.register_events(el);\n",
       "    }\n",
       "\n",
       "}\n",
       "\n",
       "mpl.figure.prototype._key_event_extra = function(event, name) {\n",
       "    var manager = IPython.notebook.keyboard_manager;\n",
       "    if (!manager)\n",
       "        manager = IPython.keyboard_manager;\n",
       "\n",
       "    // Check for shift+enter\n",
       "    if (event.shiftKey && event.which == 13) {\n",
       "        this.canvas_div.blur();\n",
       "        event.shiftKey = false;\n",
       "        // Send a \"J\" for go to next cell\n",
       "        event.which = 74;\n",
       "        event.keyCode = 74;\n",
       "        manager.command_mode();\n",
       "        manager.handle_keydown(event);\n",
       "    }\n",
       "}\n",
       "\n",
       "mpl.figure.prototype.handle_save = function(fig, msg) {\n",
       "    fig.ondownload(fig, null);\n",
       "}\n",
       "\n",
       "\n",
       "mpl.find_output_cell = function(html_output) {\n",
       "    // Return the cell and output element which can be found *uniquely* in the notebook.\n",
       "    // Note - this is a bit hacky, but it is done because the \"notebook_saving.Notebook\"\n",
       "    // IPython event is triggered only after the cells have been serialised, which for\n",
       "    // our purposes (turning an active figure into a static one), is too late.\n",
       "    var cells = IPython.notebook.get_cells();\n",
       "    var ncells = cells.length;\n",
       "    for (var i=0; i<ncells; i++) {\n",
       "        var cell = cells[i];\n",
       "        if (cell.cell_type === 'code'){\n",
       "            for (var j=0; j<cell.output_area.outputs.length; j++) {\n",
       "                var data = cell.output_area.outputs[j];\n",
       "                if (data.data) {\n",
       "                    // IPython >= 3 moved mimebundle to data attribute of output\n",
       "                    data = data.data;\n",
       "                }\n",
       "                if (data['text/html'] == html_output) {\n",
       "                    return [cell, data, j];\n",
       "                }\n",
       "            }\n",
       "        }\n",
       "    }\n",
       "}\n",
       "\n",
       "// Register the function which deals with the matplotlib target/channel.\n",
       "// The kernel may be null if the page has been refreshed.\n",
       "if (IPython.notebook.kernel != null) {\n",
       "    IPython.notebook.kernel.comm_manager.register_target('matplotlib', mpl.mpl_figure_comm);\n",
       "}\n"
      ],
      "text/plain": [
       "<IPython.core.display.Javascript object>"
      ]
     },
     "metadata": {},
     "output_type": "display_data"
    },
    {
     "data": {
      "text/html": [
       "<img src=\"data:image/png;base64,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\" width=\"639.230792677615\">"
      ],
      "text/plain": [
       "<IPython.core.display.HTML object>"
      ]
     },
     "metadata": {},
     "output_type": "display_data"
    }
   ],
   "source": [
    "%matplotlib notebook\n",
    "model = cluster.DBSCAN(eps=0.2).fit(df_logtransform)\n",
    "\n",
    "plot_model_results(model, df_logtransform)"
   ]
  },
  {
   "cell_type": "code",
   "execution_count": 34,
   "metadata": {
    "slideshow": {
     "slide_type": "skip"
    }
   },
   "outputs": [],
   "source": [
    "# merge the cluster labels back to the data frame\n",
    "df_subset['dbscan'] = model.labels_"
   ]
  },
  {
   "cell_type": "markdown",
   "metadata": {
    "slideshow": {
     "slide_type": "subslide"
    }
   },
   "source": [
    "## Save the results back to CityJSON"
   ]
  },
  {
   "cell_type": "markdown",
   "metadata": {
    "slideshow": {
     "slide_type": "notes"
    }
   },
   "source": [
    "And merge the DataFrame with cluster labels back to the city model."
   ]
  },
  {
   "cell_type": "code",
   "execution_count": 35,
   "metadata": {
    "slideshow": {
     "slide_type": "fragment"
    }
   },
   "outputs": [],
   "source": [
    "for co_id, co in zurich.cityobjects.items():\n",
    "    if co_id in df_subset.index:\n",
    "        ml_results = dict(df_subset.loc[co_id])\n",
    "    else:\n",
    "        ml_results = {'nr_vertices': 'nan', 'fp_area': 'nan', 'dbscan': 'nan'}\n",
    "    new_attrs = {**co.attributes, **ml_results}\n",
    "    co.attributes = new_attrs\n",
    "    zurich.cityobjects[co_id] = co"
   ]
  },
  {
   "cell_type": "markdown",
   "metadata": {
    "pycharm": {
     "name": "#%% md\n"
    },
    "slideshow": {
     "slide_type": "skip"
    }
   },
   "source": [
    "At the end, the `save()` method saves the edited city model into a CityJSON file."
   ]
  },
  {
   "cell_type": "code",
   "execution_count": 36,
   "metadata": {
    "slideshow": {
     "slide_type": "fragment"
    }
   },
   "outputs": [],
   "source": [
    "path_out = os.path.join('data', 'zurich_output.json')\n",
    "cityjson.save(zurich, path_out)"
   ]
  },
  {
   "cell_type": "markdown",
   "metadata": {
    "slideshow": {
     "slide_type": "subslide"
    }
   },
   "source": [
    "## And view the results in QGIS again\n",
    "\n",
    "![](figures/zurich_ml_result.png)"
   ]
  },
  {
   "cell_type": "markdown",
   "metadata": {
    "slideshow": {
     "slide_type": "notes"
    }
   },
   "source": [
    "However, you'll need to set up the styling based on the cluster labels by hand."
   ]
  },
  {
   "cell_type": "markdown",
   "metadata": {
    "slideshow": {
     "slide_type": "slide"
    }
   },
   "source": [
    "# Other software"
   ]
  },
  {
   "cell_type": "markdown",
   "metadata": {
    "slideshow": {
     "slide_type": "subslide"
    }
   },
   "source": [
    "## Online CityJSON viewer\n",
    "\n",
    "![](figures/viewer.png)"
   ]
  },
  {
   "cell_type": "markdown",
   "metadata": {
    "slideshow": {
     "slide_type": "subslide"
    }
   },
   "source": [
    "## QGIS plugin\n",
    "![](figures/qgis_zurich.png)"
   ]
  },
  {
   "cell_type": "markdown",
   "metadata": {
    "slideshow": {
     "slide_type": "subslide"
    }
   },
   "source": [
    "## Azul\n",
    "![](figures/azul.png)"
   ]
  },
  {
   "cell_type": "markdown",
   "metadata": {
    "slideshow": {
     "slide_type": "subslide"
    }
   },
   "source": [
    "# Full conversion CityGML <--> CityJSON\n",
    "![](figures/citygml4j.png)"
   ]
  },
  {
   "cell_type": "markdown",
   "metadata": {
    "slideshow": {
     "slide_type": "slide"
    }
   },
   "source": [
    "# Thank you!\n",
    "\n",
    "Balázs Dukai\n",
    "\n",
    "b.dukai@tudelft.nl\n",
    "\n",
    "@BalazsDukai\n",
    "\n",
    "## A few links\n",
    "\n",
    "Repo of this talk: [https://github.com/balazsdukai/foss4g2019](https://github.com/balazsdukai/foss4g2019)\n",
    "\n",
    "[cityjson.org](cityjson.org)\n",
    "\n",
    "[viewer.cityjson.org](viewer.cityjson.org)\n",
    "\n",
    "QGIS plugin: [github.com/tudelft3d/cityjson-qgis-plugin](github.com/tudelft3d/cityjson-qgis-plugin)\n",
    "\n",
    "Azul – CityJSON viewer on Mac – check the [AppStore](https://apps.apple.com/nl/app/azul/id1173239678?mt=12)\n",
    "\n",
    "cjio: [github.com/tudelft3d/cjio](github.com/tudelft3d/cjio) & [tudelft3d.github.io/cjio/](tudelft3d.github.io/cjio/)"
   ]
  }
 ],
 "metadata": {
  "celltoolbar": "Slideshow",
  "kernelspec": {
   "display_name": "Python 3",
   "language": "python",
   "name": "python3"
  },
  "language_info": {
   "codemirror_mode": {
    "name": "ipython",
    "version": 3
   },
   "file_extension": ".py",
   "mimetype": "text/x-python",
   "name": "python",
   "nbconvert_exporter": "python",
   "pygments_lexer": "ipython3",
   "version": "3.6.8"
  },
  "pycharm": {
   "stem_cell": {
    "cell_type": "raw",
    "metadata": {
     "collapsed": false
    },
    "source": []
   }
  }
 },
 "nbformat": 4,
 "nbformat_minor": 2
}
