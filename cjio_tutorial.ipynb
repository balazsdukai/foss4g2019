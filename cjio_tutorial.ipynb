{
 "cells": [
  {
   "cell_type": "markdown",
   "metadata": {
    "slideshow": {
     "slide_type": "slide"
    }
   },
   "source": [
    "# Working with 3D city models in Python\n",
    "\n",
    "\n",
    "\n",
    "**Balázs Dukai** [*@BalazsDukai*](https://twitter.com/balazsdukai), **FOSS4G 2019**\n",
    "\n",
    "Tweet <span style=\"color:blue\">#CityJSON</span>\n",
    "\n",
    "[3D geoinformation research group, TU Delft, Netherlands](https://3d.bk.tudelft.nl/)\n",
    "\n",
    "![](figures/tud-3dgeoinfo-black.png)\n",
    "\n",
    "Repo of this talk: [https://github.com/balazsdukai/foss4g2019](https://github.com/balazsdukai/foss4g2019)"
   ]
  },
  {
   "cell_type": "markdown",
   "metadata": {
    "slideshow": {
     "slide_type": "slide"
    }
   },
   "source": [
    "# Mesh models\n",
    "![](figures/google_earth.png)"
   ]
  },
  {
   "cell_type": "markdown",
   "metadata": {
    "slideshow": {
     "slide_type": "notes"
    }
   },
   "source": [
    "Probably the most well known 3d city model is what we see in Google Earth. And it is a very nice model to look at and it is improving continuously. However, certain applications require more information than what is stored in such a mesh model. They need to know what does an object in the model represent in the real world."
   ]
  },
  {
   "cell_type": "markdown",
   "metadata": {
    "slideshow": {
     "slide_type": "subslide"
    }
   },
   "source": [
    "# Semantic models\n",
    "![](figures/semantic_model.png)"
   ]
  },
  {
   "cell_type": "markdown",
   "metadata": {
    "slideshow": {
     "slide_type": "notes"
    }
   },
   "source": [
    "That is why we have semantic models, where for each object in the model we store a label of is meaning."
   ]
  },
  {
   "cell_type": "markdown",
   "metadata": {
    "slideshow": {
     "slide_type": "subslide"
    }
   },
   "source": [
    "# Useful for urban analysis\n",
    "\n",
    "![](figures/cfd.gif)\n",
    "\n",
    "García-Sánchez, C., van Beeck, J., Gorlé, C., Predictive Large Eddy Simulations for Urban Flows: Challenges and Opportunities, Building and Environment, 139, 146-156, 2018."
   ]
  },
  {
   "cell_type": "markdown",
   "metadata": {
    "slideshow": {
     "slide_type": "subslide"
    }
   },
   "source": [
    "# And many more...\n",
    "\n",
    "![3d city model applications](figures/3d_cm_applications.png)"
   ]
  },
  {
   "cell_type": "markdown",
   "metadata": {
    "slideshow": {
     "slide_type": "subslide"
    }
   },
   "source": [
    "# ...mostly just production of the models\n",
    "\n",
    "many available, but who **uses** them? **For more than visualisation?**\n",
    "\n",
    "![open 3d city models](figures/open_cms.png)"
   ]
  },
  {
   "cell_type": "markdown",
   "metadata": {
    "slideshow": {
     "slide_type": "subslide"
    }
   },
   "source": [
    "# Software are lagging behind\n",
    "\n",
    "+ not many software supports 3D city models\n",
    "\n",
    "+ if they do, mostly propietary data model and format\n",
    "\n",
    "+ large, *\"eterprise\"*-type applications (think Esri, FME, Bentley ... )\n",
    "\n",
    "+ few tools accessible for the individual developer / hobbyist"
   ]
  },
  {
   "cell_type": "markdown",
   "metadata": {
    "slideshow": {
     "slide_type": "subslide"
    }
   },
   "source": [
    "# In truth, 3D CMs are a bit difficult to work with"
   ]
  },
  {
   "cell_type": "markdown",
   "metadata": {
    "slideshow": {
     "slide_type": "fragment"
    }
   },
   "source": [
    "Because our built environment is complex, and the objects are complex too\n",
    "\n",
    "![](figures/assembling_solid.png)"
   ]
  },
  {
   "cell_type": "markdown",
   "metadata": {
    "slideshow": {
     "slide_type": "skip"
    }
   },
   "source": [
    "2. GML doesn't help ( *[GML madness](http://erouault.blogspot.com/2014/04/gml-madness.html) by Even Rouault* )"
   ]
  },
  {
   "cell_type": "markdown",
   "metadata": {
    "slideshow": {
     "slide_type": "slide"
    }
   },
   "source": [
    "![cityjson logo](figures/cityjson_webpage.png)"
   ]
  },
  {
   "cell_type": "markdown",
   "metadata": {
    "slideshow": {
     "slide_type": "subslide"
    }
   },
   "source": [
    "## CiyJSON aims to be "
   ]
  },
  {
   "cell_type": "markdown",
   "metadata": {
    "slideshow": {
     "slide_type": "fragment"
    }
   },
   "source": [
    "+ *simple*, as in easy to implement\n",
    "+ designed with programmers in mind\n",
    "+ fully developed in the open\n",
    "+ flattened hierarchy\n",
    "+ <span style=\"color:red\">implementation first</span>\n",
    "\n",
    "![GitHub Issues](figures/github_issues.png)"
   ]
  },
  {
   "cell_type": "markdown",
   "metadata": {
    "slideshow": {
     "slide_type": "subslide"
    }
   },
   "source": [
    "# JSON-based encoding of the CityGML data model\n",
    "![](figures/citygml_encoding.png)"
   ]
  },
  {
   "cell_type": "markdown",
   "metadata": {
    "slideshow": {
     "slide_type": "skip"
    }
   },
   "source": [
    "![citygml logo](figures/citygml.png)"
   ]
  },
  {
   "cell_type": "markdown",
   "metadata": {
    "slideshow": {
     "slide_type": "skip"
    }
   },
   "source": [
    "## The CityGML data model\n",
    "\n",
    "![](figures/citygml_uml.gif)"
   ]
  },
  {
   "cell_type": "markdown",
   "metadata": {
    "slideshow": {
     "slide_type": "skip"
    }
   },
   "source": [
    "<blockquote class=\"twitter-tweet\"><p lang=\"en\" dir=\"ltr\">I just got sent a CityGML file. <a href=\"https://t.co/jnTVoRnVLS\">pic.twitter.com/jnTVoRnVLS</a></p>&mdash; James Fee (@jamesmfee) <a href=\"https://twitter.com/jamesmfee/status/748270105319006208?ref_src=twsrc%5Etfw\">June 29, 2016</a></blockquote> <script async src=\"https://platform.twitter.com/widgets.js\" charset=\"utf-8\"></script> \n",
    "\n",
    "+ files are deeply nested, and large\n",
    "+ many \"points of entry\"\n",
    "+ many diff ways to do one thing (GML doesn't help, *[GML madness](http://erouault.blogspot.com/2014/04/gml-madness.html) by Even Rouault* )\n",
    "\n",
    "--> little software support "
   ]
  },
  {
   "cell_type": "markdown",
   "metadata": {
    "slideshow": {
     "slide_type": "subslide"
    }
   },
   "source": [
    "## Compression ~6x over CityGML\n",
    "\n",
    "![](figures/zurich_size.png)"
   ]
  },
  {
   "cell_type": "markdown",
   "metadata": {
    "slideshow": {
     "slide_type": "skip"
    }
   },
   "source": [
    "## Compression\n",
    "| file     | CityGML size (original) | CityGML size (w/o spaces) | textures | CityJSON | compression |\n",
    "| -------- | ----------------------- | ----------------------------- |--------- | ------------ | --------------- | \n",
    "| [CityGML demo \"GeoRes\"](https://www.citygml.org/samplefiles/) | 4.3MB | 4.1MB | yes | 524KB | 8.0 |\n",
    "| [CityGML v2 demo \"Railway\"](https://www.citygml.org/samplefiles/) | 45MB | 34MB | yes | 4.3MB | 8.1 |\n",
    "| [Den Haag \"tile 01\"](https://data.overheid.nl/data/dataset/ngr-3d-model-den-haag) | 23MB | 18MB | no, material | 2.9MB | 6.2 |\n",
    "| [Montréal VM05](http://donnees.ville.montreal.qc.ca/dataset/maquette-numerique-batiments-citygml-lod2-avec-textures/resource/36047113-aa19-4462-854a-cdcd6281a5af) | 56MB | 42MB | yes | 5.4MB | 7.8 |\n",
    "| [New York LoD2 (DA13)](https://www1.nyc.gov/site/doitt/initiatives/3d-building.page) | 590MB | 574MB | no | 105MB | 5.5 |\n",
    "| [Rotterdam Delfshaven](http://rotterdamopendata.nl/dataset/rotterdam-3d-bestanden/resource/edacea54-76ce-41c7-a0cc-2ebe5750ac18) | 16MB | 15MB | yes | 2.6MB | 5.8 |\n",
    "| [Vienna (the demo file)](https://www.data.gv.at/katalog/dataset/86d88cae-ad97-4476-bae5-73488a12776d) | 37MB | 36MB | no |  5.3MB | 6.8 |\n",
    "| [Zürich LoD2](https://www.data.gv.at/katalog/dataset/86d88cae-ad97-4476-bae5-73488a12776d) | 3.03GB | 2.07GB | no |  292MB | 7.1 |"
   ]
  },
  {
   "cell_type": "markdown",
   "metadata": {
    "slideshow": {
     "slide_type": "subslide"
    }
   },
   "source": [
    "![cityjson paper](figures/cityjson_paper.png)"
   ]
  },
  {
   "cell_type": "markdown",
   "metadata": {
    "slideshow": {
     "slide_type": "subslide"
    }
   },
   "source": [
    "![standards](figures/standards.png)\n",
    "\n",
    "[https://xkcd.com/927/](https://xkcd.com/927/)"
   ]
  },
  {
   "cell_type": "markdown",
   "metadata": {
    "slideshow": {
     "slide_type": "slide"
    }
   },
   "source": [
    "# Let's have a look-see, shall we?\n",
    "![](figures/looksee.gif)"
   ]
  },
  {
   "cell_type": "markdown",
   "metadata": {
    "slideshow": {
     "slide_type": "subslide"
    }
   },
   "source": [
    "## An empty CityJSON file\n",
    "\n",
    "![](figures/cj01.svg)"
   ]
  },
  {
   "cell_type": "markdown",
   "metadata": {
    "slideshow": {
     "slide_type": "subslide"
    }
   },
   "source": [
    "## A CityObject\n",
    "\n",
    "![](figures/cj02.svg)"
   ]
  },
  {
   "cell_type": "markdown",
   "metadata": {
    "slideshow": {
     "slide_type": "skip"
    }
   },
   "source": [
    "This `MulitSurface` has \n",
    "\n",
    "3 surfaces \n",
    "```json\n",
    "[[0, 3, 2, 1]], [[4, 5, 6, 7]], [[0, 1, 5, 4]]\n",
    "```\n",
    "each surface has only an exterior ring (the first array)\n",
    "```json\n",
    "[ [0, 3, 2, 1] ]\n",
    "```"
   ]
  },
  {
   "cell_type": "markdown",
   "metadata": {
    "slideshow": {
     "slide_type": "subslide"
    }
   },
   "source": [
    "## Geometry\n",
    "\n",
    "+ **boundaries** definition uses vertex indices (inspired by Wavefront OBJ)\n",
    "+ We have a vertex list at the root of the document\n",
    "+ Vertices are not repeated (unlike Simple Features)\n",
    "+ **semantics** are linked to the boundary surfaces\n",
    "![](figures/cj04.svg)"
   ]
  },
  {
   "cell_type": "code",
   "execution_count": 1,
   "metadata": {
    "pycharm": {
     "is_executing": false
    },
    "slideshow": {
     "slide_type": "subslide"
    }
   },
   "outputs": [
    {
     "name": "stdout",
     "output_type": "stream",
     "text": [
      "There are 16 CityObjects\n",
      "{C9D4A5CF-094A-47DA-97E4-4A3BFD75D3AE} \t\n",
      "{71B60053-BC28-404D-BAB9-8A642AAC0CF4} \t\n",
      "{6271F75F-E8D8-4EE4-AC46-9DB02771A031} \t\n",
      "{DE77E78F-B110-43D2-A55C-8B61911192DE} \t\n",
      "{19935DFC-F7B3-4D6E-92DD-C48EE1D1519A} \t\n",
      "{953BC999-2F92-4B38-95CF-218F7E05AFA9} \t\n",
      "{8D716FDE-18DD-4FB5-AB06-9D207377240E} \t\n",
      "{C6AAF95B-8C09-4130-AB4D-6777A2A18A2E} \t\n",
      "{72390BDE-903C-4C8C-8A3F-2DF5647CD9B4} \t\n",
      "{8244B286-63E2-436E-9D4E-169B8ACFE9D0} \t\n",
      "{87316D28-7574-4763-B9CE-BF6A2DF8092C} \t\n",
      "{CD98680D-A8DD-4106-A18E-15EE2A908D75} \t\n",
      "{64A9018E-4F56-47CD-941F-43F6F0C4285B} \t\n",
      "{459F183A-D0C2-4F8A-8B5F-C498EFDE366D} \t\n",
      "{237D41CC-991E-4308-8986-42ABFB4F7431} \t\n",
      "{23D8CA22-0C82-4453-A11E-B3F2B3116DB4} \t\n"
     ]
    }
   ],
   "source": [
    "import json\n",
    "\n",
    "path = './data/rotterdam_subset.json'\n",
    "with open(path) as fin:\n",
    "    cm = json.loads(fin.read())\n",
    "    \n",
    "print(f\"There are {len(cm['CityObjects'])} CityObjects\")\n",
    "\n",
    "# list all IDs\n",
    "for id in cm['CityObjects']:\n",
    "    print(id, \"\\t\")"
   ]
  },
  {
   "cell_type": "markdown",
   "metadata": {
    "slideshow": {
     "slide_type": "subslide"
    }
   },
   "source": [
    "+ Working with a CityJSON file is straightforward. One can open it with the standard library and get going.\n",
    "+ But you need to know the schema well.\n",
    "+ And you need to write everything from scratch."
   ]
  },
  {
   "cell_type": "markdown",
   "metadata": {
    "slideshow": {
     "slide_type": "slide"
    }
   },
   "source": [
    "![cjio](figures/cjio_docs.png)"
   ]
  },
  {
   "cell_type": "markdown",
   "metadata": {
    "slideshow": {
     "slide_type": "notes"
    }
   },
   "source": [
    "That is why we are developing **cjio**. \n",
    "\n",
    "**cjio** is how *we eat what we cook*\n",
    "\n",
    "Aims to help to actually work with and analyse 3D city models, and extract more value from them. Instead of letting them gather dust in some governmental repository."
   ]
  },
  {
   "cell_type": "markdown",
   "metadata": {
    "slideshow": {
     "slide_type": "subslide"
    }
   },
   "source": [
    "## `cjio` has a (quite) stable CLI\n",
    "\n",
    "```bash\n",
    "$ cjio city_model.json reproject 2056 export --format glb /out/model.glb\n",
    "```"
   ]
  },
  {
   "cell_type": "markdown",
   "metadata": {
    "slideshow": {
     "slide_type": "fragment"
    }
   },
   "source": [
    "## and an experimental API\n",
    "\n",
    "```python\n",
    "from cjio import cityjson\n",
    "\n",
    "cm = cityjson.load('city_model.json')\n",
    "\n",
    "cm.get_cityobjects(type='building')\n",
    "```"
   ]
  },
  {
   "cell_type": "markdown",
   "metadata": {
    "slideshow": {
     "slide_type": "fragment"
    }
   },
   "source": [
    "**`pip install cjio`**"
   ]
  },
  {
   "cell_type": "markdown",
   "metadata": {
    "slideshow": {
     "slide_type": "fragment"
    }
   },
   "source": [
    "**`pip install git+https://github.com/tudelft3d/cjio@develop`**"
   ]
  },
  {
   "cell_type": "markdown",
   "metadata": {
    "slideshow": {
     "slide_type": "slide"
    }
   },
   "source": [
    "# `cjio`'s CLI"
   ]
  },
  {
   "cell_type": "code",
   "execution_count": 2,
   "metadata": {
    "pycharm": {
     "is_executing": false
    },
    "slideshow": {
     "slide_type": "subslide"
    }
   },
   "outputs": [
    {
     "name": "stdout",
     "output_type": "stream",
     "text": [
      "Usage: cjio [OPTIONS] INPUT COMMAND1 [ARGS]... [COMMAND2 [ARGS]...]...\r\n",
      "\r\n",
      "  Process and manipulate a CityJSON file, and allow different outputs. The\r\n",
      "  different operators can be chained to perform several processing in one\r\n",
      "  step, the CityJSON model goes through the different operators.\r\n",
      "\r\n",
      "  To get help on specific command, eg for 'validate':\r\n",
      "\r\n",
      "      cjio validate --help\r\n",
      "\r\n",
      "  Usage examples:\r\n",
      "\r\n",
      "      cjio example.json info validate\r\n",
      "      cjio example.json assign_epsg 7145 remove_textures export output.obj\r\n",
      "      cjio example.json subset --id house12 save out.json\r\n",
      "\r\n",
      "Options:\r\n",
      "  --version                Show the version and exit.\r\n",
      "  --ignore_duplicate_keys  Load a CityJSON file even if some City Objects have\r\n",
      "                           the same IDs (technically invalid file)\r\n",
      "  --help                   Show this message and exit.\r\n",
      "\r\n",
      "Commands:\r\n",
      "  assign_epsg                Assign a (new) EPSG.\r\n",
      "  clean                      Clean = remove_duplicate_vertices +...\r\n",
      "  compress                   Compress a CityJSON file, ie stores its...\r\n",
      "  decompress                 Decompress a CityJSON file, ie remove the...\r\n",
      "  export                     Export the CityJSON to another format.\r\n",
      "  extract_lod                Extract only one LoD for a dataset.\r\n",
      "  info                       Output info in simple JSON.\r\n",
      "  locate_textures            Output the location of the texture files.\r\n",
      "  merge                      Merge the current CityJSON with others.\r\n",
      "  partition                  Partition the city model into tiles.\r\n",
      "  remove_duplicate_vertices  Remove duplicate vertices a CityJSON file.\r\n",
      "  remove_materials           Remove all materials from a CityJSON file.\r\n",
      "  remove_orphan_vertices     Remove orphan vertices a CityJSON file.\r\n",
      "  remove_textures            Remove all textures from a CityJSON file.\r\n",
      "  reproject                  Reproject the CityJSON to a new EPSG.\r\n",
      "  save                       Save the city model to a CityJSON file.\r\n",
      "  subset                     Create a subset of a CityJSON file.\r\n",
      "  translate                  Translate the file by its (-minx, -miny,...\r\n",
      "  update_bbox                Update the bbox of a CityJSON file.\r\n",
      "  update_textures            Update the location of the texture files.\r\n",
      "  upgrade_version            Upgrade the CityJSON to the latest version.\r\n",
      "  validate                   Validate the CityJSON file: (1) against its...\r\n"
     ]
    }
   ],
   "source": [
    "! cjio --help"
   ]
  },
  {
   "cell_type": "code",
   "execution_count": 3,
   "metadata": {
    "pycharm": {
     "is_executing": false
    },
    "slideshow": {
     "slide_type": "subslide"
    }
   },
   "outputs": [
    {
     "name": "stdout",
     "output_type": "stream",
     "text": [
      "\u001b[30m\u001b[46mParsing data/rotterdam_subset.json\u001b[0m\r\n",
      "{\r\n",
      "  \"cityjson_version\": \"1.0\",\r\n",
      "  \"epsg\": 7415,\r\n",
      "  \"bbox\": [\r\n",
      "    90454.18900000001,\r\n",
      "    435614.88,\r\n",
      "    0.0,\r\n",
      "    91002.41900000001,\r\n",
      "    436048.217,\r\n",
      "    18.29\r\n",
      "  ],\r\n",
      "  \"transform/compressed\": true,\r\n",
      "  \"cityobjects_total\": 16,\r\n",
      "  \"cityobjects_present\": [\r\n",
      "    \"Building\"\r\n",
      "  ],\r\n",
      "  \"materials\": false,\r\n",
      "  \"textures\": true\r\n",
      "}\r\n"
     ]
    }
   ],
   "source": [
    "! cjio data/rotterdam_subset.json info"
   ]
  },
  {
   "cell_type": "code",
   "execution_count": 4,
   "metadata": {
    "pycharm": {
     "is_executing": false
    },
    "slideshow": {
     "slide_type": "skip"
    }
   },
   "outputs": [
    {
     "name": "stdout",
     "output_type": "stream",
     "text": [
      "\u001b[30m\u001b[46mParsing data/rotterdam_subset.json\u001b[0m\n",
      "\u001b[30m\u001b[46m===== Validation (with official CityJSON schemas) =====\u001b[0m\n",
      "-- Validating the syntax of the file\n",
      "\t(using the schemas 1.0.0)\n",
      "-- Validating the internal consistency of the file (see docs for list)\n",
      "\t--Vertex indices coherent\n",
      "\t--Specific for CityGroups\n",
      "\t--Semantic arrays coherent with geometry\n",
      "\t--Root properties\n",
      "\t--Empty geometries\n",
      "\t--Duplicate vertices\n",
      "\t--Orphan vertices\n",
      "\t--CityGML attributes\n",
      "=====\n",
      "\u001b[32mFile is valid\u001b[0m\n",
      "\u001b[31mFile has warnings\u001b[0m\n",
      "--- WARNINGS ---\n",
      "WARNING: attributes 'TerrainHeight' not in CityGML schema\n",
      "\t(16 CityObjects have this warning)\n",
      "WARNING: attributes 'bron_tex' not in CityGML schema\n",
      "\t(16 CityObjects have this warning)\n",
      "WARNING: attributes 'voll_tex' not in CityGML schema\n",
      "\t(16 CityObjects have this warning)\n",
      "WARNING: attributes 'bron_geo' not in CityGML schema\n",
      "\t(16 CityObjects have this warning)\n",
      "WARNING: attributes 'status' not in CityGML schema\n",
      "\t(16 CityObjects have this warning)\n",
      "=====================================\n"
     ]
    }
   ],
   "source": [
    "! cjio data/rotterdam_subset.json validate"
   ]
  },
  {
   "cell_type": "code",
   "execution_count": 5,
   "metadata": {
    "pycharm": {
     "is_executing": false
    },
    "slideshow": {
     "slide_type": "subslide"
    }
   },
   "outputs": [
    {
     "name": "stdout",
     "output_type": "stream",
     "text": [
      "\u001b[30m\u001b[46mParsing data/rotterdam_subset.json\u001b[0m\n",
      "\u001b[30m\u001b[46mSubset of CityJSON\u001b[0m\n",
      "\u001b[30m\u001b[46mMerging files\u001b[0m\n",
      "\u001b[30m\u001b[46mReproject to EPSG:2056\u001b[0m\n",
      "\u001b[?25l  [####################################]  100%          \u001b[?25h\n",
      "\u001b[30m\u001b[46mSaving CityJSON to a file /home/balazs/Reports/talk_cjio_foss4g_2019/data/test_rotterdam.json\u001b[0m\n"
     ]
    }
   ],
   "source": [
    "! cjio data/rotterdam_subset.json \\\n",
    "    subset --exclude --id \"{CD98680D-A8DD-4106-A18E-15EE2A908D75}\" \\\n",
    "    merge data/rotterdam_one.json \\\n",
    "    reproject 2056 \\\n",
    "    save data/test_rotterdam.json"
   ]
  },
  {
   "cell_type": "markdown",
   "metadata": {
    "slideshow": {
     "slide_type": "skip"
    }
   },
   "source": [
    "```python\n",
    "class CityJSON:\n",
    "    # One class does everything\n",
    "    \n",
    "    def remove_materials(self):\n",
    "        for i in self.j[\"CityObjects\"]:\n",
    "            if \"material\" in self.j[\"CityObjects\"][i]:\n",
    "                del self.j[\"CityObjects\"][i][\"material\"]\n",
    "        if \"appearance\" in self.j:\n",
    "            if \"materials\" in self.j[\"appearance\"]:\n",
    "                del self.j[\"appearance\"][\"materials\"]\n",
    "            if \"default-theme-material\" in self.j[\"appearance\"]:\n",
    "                del self.j[\"appearance\"][\"default-theme-material\"]\n",
    "        if self.j[\"appearance\"] is None or len(self.j[\"appearance\"]) == 0:\n",
    "            del self.j[\"appearance\"]\n",
    "        return True\n",
    "```"
   ]
  },
  {
   "cell_type": "markdown",
   "metadata": {
    "slideshow": {
     "slide_type": "subslide"
    }
   },
   "source": [
    "+ The CLI was first, no plans for API\n",
    "\n",
    "+ **Works with whole city model only**\n",
    "\n",
    "+ Functions for the CLI work with the JSON directly, passing it along\n",
    "\n",
    "+ Simple and effective architecture"
   ]
  },
  {
   "cell_type": "markdown",
   "metadata": {
    "slideshow": {
     "slide_type": "slide"
    }
   },
   "source": [
    "# `cjio`'s API\n",
    "\n",
    "Allow    *read* --> *explore* --> *modify* --> *write*    iteration\n",
    "\n",
    "Work with CityObjects and their parts\n",
    "\n",
    "Functions for common operations\n",
    "\n",
    "Inspired by the *tidyverse* from the R ecosystem"
   ]
  },
  {
   "cell_type": "code",
   "execution_count": 6,
   "metadata": {
    "pycharm": {
     "is_executing": false
    },
    "slideshow": {
     "slide_type": "skip"
    }
   },
   "outputs": [],
   "source": [
    "import os\n",
    "from copy import deepcopy\n",
    "from cjio import cityjson\n",
    "from shapely.geometry import Polygon\n",
    "import matplotlib.pyplot as plt\n",
    "plt.close('all')\n",
    "from sklearn.preprocessing import FunctionTransformer\n",
    "from sklearn import cluster\n",
    "import numpy as np"
   ]
  },
  {
   "cell_type": "markdown",
   "metadata": {
    "pycharm": {
     "name": "#%% md\n"
    },
    "slideshow": {
     "slide_type": "skip"
    }
   },
   "source": [
    "This is a subset of the 3D city model of Rotterdam\n",
    "![](figures/rotterdam_subset.png)"
   ]
  },
  {
   "cell_type": "markdown",
   "metadata": {
    "slideshow": {
     "slide_type": "subslide"
    }
   },
   "source": [
    "## Using the CLI commands in the API\n",
    "You can use any of the CLI commands on a CityJSON object \n",
    "\n",
    "*However,* not all CLI commands are mapped 1-to-1 to `CityJSON` methods\n",
    "\n",
    "And we haven't harmonized the CLI and the API yet. "
   ]
  },
  {
   "cell_type": "markdown",
   "metadata": {
    "pycharm": {
     "name": "#%% md\n"
    },
    "slideshow": {
     "slide_type": "skip"
    }
   },
   "source": [
    "The `load()` method loads a CityJSON file into a CityJSON object."
   ]
  },
  {
   "cell_type": "code",
   "execution_count": 7,
   "metadata": {
    "pycharm": {
     "is_executing": false,
     "name": "#%%\n"
    },
    "slideshow": {
     "slide_type": "fragment"
    }
   },
   "outputs": [
    {
     "name": "stdout",
     "output_type": "stream",
     "text": [
      "<class 'cjio.cityjson.CityJSON'>\n"
     ]
    }
   ],
   "source": [
    "path = os.path.join('data', 'rotterdam_subset.json')\n",
    "\n",
    "cm = cityjson.load(path)\n",
    "\n",
    "print(type(cm))"
   ]
  },
  {
   "cell_type": "code",
   "execution_count": 8,
   "metadata": {
    "pycharm": {
     "is_executing": false,
     "name": "#%%\n"
    },
    "slideshow": {
     "slide_type": "fragment"
    }
   },
   "outputs": [
    {
     "name": "stdout",
     "output_type": "stream",
     "text": [
      "-- Validating the syntax of the file\n",
      "\t(using the schemas 1.0.0)\n",
      "-- Validating the internal consistency of the file (see docs for list)\n",
      "\t--Vertex indices coherent\n",
      "\t--Specific for CityGroups\n",
      "\t--Semantic arrays coherent with geometry\n",
      "\t--Root properties\n",
      "\t--Empty geometries\n",
      "\t--Duplicate vertices\n",
      "\t--Orphan vertices\n",
      "\t--CityGML attributes\n"
     ]
    },
    {
     "data": {
      "text/plain": [
       "(True,\n",
       " False,\n",
       " [],\n",
       " [\"WARNING: attributes 'TerrainHeight' not in CityGML schema\",\n",
       "  '\\t(16 CityObjects have this warning)',\n",
       "  \"WARNING: attributes 'bron_tex' not in CityGML schema\",\n",
       "  '\\t(16 CityObjects have this warning)',\n",
       "  \"WARNING: attributes 'voll_tex' not in CityGML schema\",\n",
       "  '\\t(16 CityObjects have this warning)',\n",
       "  \"WARNING: attributes 'bron_geo' not in CityGML schema\",\n",
       "  '\\t(16 CityObjects have this warning)',\n",
       "  \"WARNING: attributes 'status' not in CityGML schema\",\n",
       "  '\\t(16 CityObjects have this warning)'])"
      ]
     },
     "execution_count": 8,
     "metadata": {},
     "output_type": "execute_result"
    }
   ],
   "source": [
    "cm.validate()"
   ]
  },
  {
   "cell_type": "markdown",
   "metadata": {
    "pycharm": {
     "name": "#%% md\n"
    },
    "slideshow": {
     "slide_type": "skip"
    }
   },
   "source": [
    "## Explore the city model\n",
    "\n",
    "Print the basic information about the city model. Note that `print()` returns the same information as the `info` command in the CLI."
   ]
  },
  {
   "cell_type": "code",
   "execution_count": 9,
   "metadata": {
    "pycharm": {
     "is_executing": false,
     "name": "#%%\n"
    },
    "slideshow": {
     "slide_type": "skip"
    }
   },
   "outputs": [
    {
     "name": "stdout",
     "output_type": "stream",
     "text": [
      "{\n",
      "  \"cityjson_version\": \"1.0\",\n",
      "  \"epsg\": 7415,\n",
      "  \"bbox\": [\n",
      "    90454.18900000001,\n",
      "    435614.88,\n",
      "    0.0,\n",
      "    91002.41900000001,\n",
      "    436048.217,\n",
      "    18.29\n",
      "  ],\n",
      "  \"transform/compressed\": true,\n",
      "  \"cityobjects_total\": 16,\n",
      "  \"cityobjects_present\": [\n",
      "    \"Building\"\n",
      "  ],\n",
      "  \"materials\": false,\n",
      "  \"textures\": true\n",
      "}\n"
     ]
    }
   ],
   "source": [
    "print(cm)"
   ]
  },
  {
   "cell_type": "markdown",
   "metadata": {
    "pycharm": {
     "name": "#%% md\n"
    },
    "slideshow": {
     "slide_type": "skip"
    }
   },
   "source": [
    "## Getting objects from the model\n",
    "Get CityObjects by their *type*, or a list of types. Also by their IDs. \n",
    "\n",
    "Note that `get_cityobjects()` == `cm.cityobjects`"
   ]
  },
  {
   "cell_type": "code",
   "execution_count": 10,
   "metadata": {
    "pycharm": {
     "is_executing": false,
     "name": "#%%\n"
    },
    "slideshow": {
     "slide_type": "skip"
    }
   },
   "outputs": [],
   "source": [
    "buildings = cm.get_cityobjects(type='building')\n",
    "\n",
    "# both Building and BuildingPart objects\n",
    "buildings_parts = cm.get_cityobjects(type=['building', 'buildingpart'])\n",
    "\n",
    "r_ids = ['{C9D4A5CF-094A-47DA-97E4-4A3BFD75D3AE}',\n",
    "         '{6271F75F-E8D8-4EE4-AC46-9DB02771A031}']\n",
    "buildings_ids = cm.get_cityobjects(id=r_ids)"
   ]
  },
  {
   "cell_type": "markdown",
   "metadata": {
    "pycharm": {
     "name": "#%% md\n"
    },
    "slideshow": {
     "slide_type": "skip"
    }
   },
   "source": [
    "## Properties and geometry of objects"
   ]
  },
  {
   "cell_type": "code",
   "execution_count": 11,
   "metadata": {
    "pycharm": {
     "is_executing": false,
     "name": "#%%\n"
    },
    "slideshow": {
     "slide_type": "skip"
    }
   },
   "outputs": [
    {
     "name": "stdout",
     "output_type": "stream",
     "text": [
      "{\n",
      "  \"id\": \"{C9D4A5CF-094A-47DA-97E4-4A3BFD75D3AE}\",\n",
      "  \"type\": \"Building\",\n",
      "  \"attributes\": {\n",
      "    \"TerrainHeight\": 3.03,\n",
      "    \"bron_tex\": \"UltraCAM-X 10cm juni 2008\",\n",
      "    \"voll_tex\": \"complete\",\n",
      "    \"bron_geo\": \"Lidar 15-30 punten - nov. 2008\",\n",
      "    \"status\": \"1\"\n",
      "  },\n",
      "  \"children\": null,\n",
      "  \"parents\": null,\n",
      "  \"geometry_type\": [\n",
      "    \"MultiSurface\"\n",
      "  ],\n",
      "  \"geometry_lod\": [\n",
      "    2\n",
      "  ],\n",
      "  \"semantic_surfaces\": [\n",
      "    \"WallSurface\",\n",
      "    \"GroundSurface\",\n",
      "    \"RoofSurface\"\n",
      "  ]\n",
      "}\n"
     ]
    }
   ],
   "source": [
    "b01 = buildings_ids['{C9D4A5CF-094A-47DA-97E4-4A3BFD75D3AE}']\n",
    "print(b01)"
   ]
  },
  {
   "cell_type": "code",
   "execution_count": 12,
   "metadata": {
    "pycharm": {
     "is_executing": false,
     "name": "#%%\n"
    },
    "slideshow": {
     "slide_type": "skip"
    }
   },
   "outputs": [
    {
     "data": {
      "text/plain": [
       "{'TerrainHeight': 3.03,\n",
       " 'bron_tex': 'UltraCAM-X 10cm juni 2008',\n",
       " 'voll_tex': 'complete',\n",
       " 'bron_geo': 'Lidar 15-30 punten - nov. 2008',\n",
       " 'status': '1'}"
      ]
     },
     "execution_count": 12,
     "metadata": {},
     "output_type": "execute_result"
    }
   ],
   "source": [
    "b01.attributes"
   ]
  },
  {
   "cell_type": "markdown",
   "metadata": {
    "pycharm": {
     "name": "#%% md\n"
    },
    "slideshow": {
     "slide_type": "skip"
    }
   },
   "source": [
    "CityObjects can have *children* and *parents*"
   ]
  },
  {
   "cell_type": "code",
   "execution_count": 13,
   "metadata": {
    "pycharm": {
     "is_executing": false,
     "name": "#%%\n"
    },
    "slideshow": {
     "slide_type": "skip"
    }
   },
   "outputs": [
    {
     "data": {
      "text/plain": [
       "True"
      ]
     },
     "execution_count": 13,
     "metadata": {},
     "output_type": "execute_result"
    }
   ],
   "source": [
    "b01.children is None and b01.parents is None"
   ]
  },
  {
   "cell_type": "markdown",
   "metadata": {
    "pycharm": {
     "name": "#%% md\n"
    },
    "slideshow": {
     "slide_type": "skip"
    }
   },
   "source": [
    "CityObject geometry is a list of `Geometry` objects. That is because a CityObject can have multiple geometry representations in different levels of detail, eg. a geometry in LoD1 and a second geometry in LoD2."
   ]
  },
  {
   "cell_type": "code",
   "execution_count": 14,
   "metadata": {
    "pycharm": {
     "is_executing": false,
     "name": "#%%\n"
    },
    "slideshow": {
     "slide_type": "skip"
    }
   },
   "outputs": [
    {
     "data": {
      "text/plain": [
       "[<cjio.models.Geometry at 0x7f42e54c2860>]"
      ]
     },
     "execution_count": 14,
     "metadata": {},
     "output_type": "execute_result"
    }
   ],
   "source": [
    "b01.geometry"
   ]
  },
  {
   "cell_type": "code",
   "execution_count": 15,
   "metadata": {
    "pycharm": {
     "is_executing": false,
     "name": "#%%\n"
    },
    "slideshow": {
     "slide_type": "skip"
    }
   },
   "outputs": [
    {
     "name": "stdout",
     "output_type": "stream",
     "text": [
      "MultiSurface, lod 2\n"
     ]
    }
   ],
   "source": [
    "geom = b01.geometry[0]\n",
    "print(\"{}, lod {}\".format(geom.type, geom.lod))"
   ]
  },
  {
   "cell_type": "markdown",
   "metadata": {
    "pycharm": {
     "name": "#%% md\n"
    },
    "slideshow": {
     "slide_type": "skip"
    }
   },
   "source": [
    "### Geometry boundaries and Semantic Surfaces\n",
    "On the contrary to a CityJSON file, the geometry boundaries are dereferenced when working with the API. This means that the vertex coordinates are included in the boundary definition, not only the vertex indices.\n",
    "\n",
    "`cjio` doesn't provide specific geometry classes (yet), eg. MultiSurface or Solid class. If you are working with the geometry boundaries, you need to the geometric operations yourself, or cast the boundary to a geometry-class of some other library. For example `shapely` if 2D is enough."
   ]
  },
  {
   "cell_type": "code",
   "execution_count": 16,
   "metadata": {
    "pycharm": {
     "is_executing": false
    },
    "slideshow": {
     "slide_type": "skip"
    }
   },
   "outputs": [
    {
     "data": {
      "text/plain": [
       "[(90988.79100000001, 435638.657, 10.652000000000001),\n",
       " (90987.429, 435642.77, 10.652000000000001),\n",
       " (90986.46900000001, 435641.09, 10.652000000000001),\n",
       " (90985.781, 435640.846, 10.652000000000001),\n",
       " (90986.801, 435637.955, 10.652000000000001)]"
      ]
     },
     "execution_count": 16,
     "metadata": {},
     "output_type": "execute_result"
    }
   ],
   "source": [
    "transformation_object = cm.transform\n",
    "\n",
    "# Coordinates are kept 'as is' on load, often compressed. Transform if needed.\n",
    "geom_transformed = geom.transform(transformation_object)\n",
    "\n",
    "# get the first surface\n",
    "geom_transformed.boundaries[0][0]"
   ]
  },
  {
   "cell_type": "code",
   "execution_count": 17,
   "metadata": {
    "pycharm": {
     "is_executing": false
    },
    "slideshow": {
     "slide_type": "notes"
    }
   },
   "outputs": [
    {
     "name": "stdout",
     "output_type": "stream",
     "text": [
      "{\n",
      "  \"cityjson_version\": \"1.0\",\n",
      "  \"epsg\": 7415,\n",
      "  \"bbox\": [\n",
      "    90454.18900000001,\n",
      "    435614.88,\n",
      "    0.0,\n",
      "    91002.41900000001,\n",
      "    436048.217,\n",
      "    18.29\n",
      "  ],\n",
      "  \"transform/compressed\": false,\n",
      "  \"cityobjects_total\": 16,\n",
      "  \"cityobjects_present\": [\n",
      "    \"Building\"\n",
      "  ],\n",
      "  \"materials\": false,\n",
      "  \"textures\": true\n",
      "}\n"
     ]
    }
   ],
   "source": [
    "cm_transformed = cityjson.load(path, transform=True)\n",
    "print(cm_transformed)"
   ]
  },
  {
   "cell_type": "markdown",
   "metadata": {
    "pycharm": {
     "name": "#%% md\n"
    },
    "slideshow": {
     "slide_type": "skip"
    }
   },
   "source": [
    "Semantic Surfaces are stored in a similar fashion as in a CityJSON file, in the `surfaces` attribute of a Geometry object."
   ]
  },
  {
   "cell_type": "code",
   "execution_count": 18,
   "metadata": {
    "pycharm": {
     "is_executing": false,
     "name": "#%%\n"
    },
    "slideshow": {
     "slide_type": "skip"
    }
   },
   "outputs": [
    {
     "data": {
      "text/plain": [
       "{0: {'surface_idx': [[0], [1], [2]], 'type': 'RoofSurface'},\n",
       " 1: {'surface_idx': [[3]], 'type': 'GroundSurface'},\n",
       " 2: {'surface_idx': [[4],\n",
       "   [5],\n",
       "   [6],\n",
       "   [7],\n",
       "   [8],\n",
       "   [9],\n",
       "   [10],\n",
       "   [11],\n",
       "   [12],\n",
       "   [13],\n",
       "   [14],\n",
       "   [15],\n",
       "   [16],\n",
       "   [17],\n",
       "   [18],\n",
       "   [19]],\n",
       "  'type': 'WallSurface'}}"
      ]
     },
     "execution_count": 18,
     "metadata": {},
     "output_type": "execute_result"
    }
   ],
   "source": [
    "geom.surfaces"
   ]
  },
  {
   "cell_type": "markdown",
   "metadata": {
    "pycharm": {
     "name": "#%% md\n"
    },
    "slideshow": {
     "slide_type": "skip"
    }
   },
   "source": [
    "`surfaces` does not store geometry boundaries, just references (`surface_idx`). Use the `get_surface_boundaries()` to extract the boundary."
   ]
  },
  {
   "cell_type": "code",
   "execution_count": 19,
   "metadata": {
    "pycharm": {
     "is_executing": false,
     "name": "#%%\n"
    },
    "slideshow": {
     "slide_type": "skip"
    }
   },
   "outputs": [
    {
     "data": {
      "text/plain": [
       "{0: {'surface_idx': [[0], [1], [2]], 'type': 'RoofSurface'}}"
      ]
     },
     "execution_count": 19,
     "metadata": {},
     "output_type": "execute_result"
    }
   ],
   "source": [
    "roofs = geom.get_surfaces(type='roofsurface')\n",
    "roofs"
   ]
  },
  {
   "cell_type": "code",
   "execution_count": 20,
   "metadata": {
    "pycharm": {
     "is_executing": false,
     "name": "#%%\n"
    },
    "slideshow": {
     "slide_type": "skip"
    }
   },
   "outputs": [],
   "source": [
    "roof_boundaries = []\n",
    "for r in roofs.values():\n",
    "    roof_boundaries.append(geom.get_surface_boundaries(r))"
   ]
  },
  {
   "cell_type": "code",
   "execution_count": 21,
   "metadata": {
    "pycharm": {
     "is_executing": false
    },
    "slideshow": {
     "slide_type": "skip"
    }
   },
   "outputs": [
    {
     "data": {
      "text/plain": [
       "[[[[[579471, 198217, 10652],\n",
       "    [578109, 202330, 10652],\n",
       "    [577149, 200650, 10652],\n",
       "    [576461, 200406, 10652],\n",
       "    [577481, 197515, 10652]]],\n",
       "  [[[580840, 194082, 15211],\n",
       "    [579471, 198217, 15211],\n",
       "    [577481, 197515, 15211],\n",
       "    [576461, 200406, 15211],\n",
       "    [572239, 198909, 15211],\n",
       "    [571839, 200119, 15211],\n",
       "    [571503, 201071, 15211],\n",
       "    [566651, 199359, 15211],\n",
       "    [569801, 190223, 15211],\n",
       "    [573253, 191430, 15211],\n",
       "    [574658, 191922, 15211]]],\n",
       "  [[[565589, 202439, 11036],\n",
       "    [566651, 199359, 11036],\n",
       "    [571503, 201071, 11036],\n",
       "    [571839, 200119, 11036],\n",
       "    [573299, 200640, 11036],\n",
       "    [572089, 204029, 11036],\n",
       "    [570629, 203440, 11036],\n",
       "    [570379, 204150, 11036]]]]]"
      ]
     },
     "execution_count": 21,
     "metadata": {},
     "output_type": "execute_result"
    }
   ],
   "source": [
    "roof_boundaries"
   ]
  },
  {
   "cell_type": "markdown",
   "metadata": {
    "pycharm": {
     "name": "#%% md\n"
    },
    "slideshow": {
     "slide_type": "subslide"
    }
   },
   "source": [
    "### Assigning attributes to Semantic Surfaces\n",
    "1. extract the surfaces,\n",
    "2. make the changes on the surface,\n",
    "3. overwrite the CityObjects with the changes."
   ]
  },
  {
   "cell_type": "code",
   "execution_count": 22,
   "metadata": {
    "pycharm": {
     "is_executing": false,
     "name": "#%%\n"
    },
    "slideshow": {
     "slide_type": "fragment"
    }
   },
   "outputs": [],
   "source": [
    "cm_copy = deepcopy(cm)\n",
    "new_cos = {}\n",
    "for co_id, co in cm.cityobjects.items():\n",
    "    new_geoms = []\n",
    "    for geom in co.geometry:\n",
    "        # Only LoD >= 2 models have semantic surfaces\n",
    "        if geom.lod >= 2.0:\n",
    "            # Extract the surfaces\n",
    "            roofsurfaces = geom.get_surfaces('roofsurface')\n",
    "            for i, rsrf in roofsurfaces.items():\n",
    "                # Change the attributes\n",
    "                if 'attributes' in rsrf.keys():\n",
    "                    rsrf['attributes']['cladding'] = 'tiles'\n",
    "                else:\n",
    "                    rsrf['attributes'] = {}\n",
    "                    rsrf['attributes']['cladding'] = 'tiles'\n",
    "                geom.surfaces[i] = rsrf\n",
    "            new_geoms.append(geom)\n",
    "        else:\n",
    "            # Use the unchanged geometry\n",
    "            new_geoms.append(geom)\n",
    "    co.geometry = new_geoms\n",
    "    new_cos[co_id] = co\n",
    "cm_copy.cityobjects = new_cos"
   ]
  },
  {
   "cell_type": "code",
   "execution_count": 23,
   "metadata": {
    "pycharm": {
     "is_executing": false
    },
    "slideshow": {
     "slide_type": "skip"
    }
   },
   "outputs": [
    {
     "name": "stdout",
     "output_type": "stream",
     "text": [
      "{\n",
      "  \"id\": \"{C9D4A5CF-094A-47DA-97E4-4A3BFD75D3AE}\",\n",
      "  \"type\": \"Building\",\n",
      "  \"attributes\": {\n",
      "    \"TerrainHeight\": 3.03,\n",
      "    \"bron_tex\": \"UltraCAM-X 10cm juni 2008\",\n",
      "    \"voll_tex\": \"complete\",\n",
      "    \"bron_geo\": \"Lidar 15-30 punten - nov. 2008\",\n",
      "    \"status\": \"1\"\n",
      "  },\n",
      "  \"children\": null,\n",
      "  \"parents\": null,\n",
      "  \"geometry_type\": [\n",
      "    \"MultiSurface\"\n",
      "  ],\n",
      "  \"geometry_lod\": [\n",
      "    2\n",
      "  ],\n",
      "  \"semantic_surfaces\": [\n",
      "    \"WallSurface\",\n",
      "    \"GroundSurface\",\n",
      "    \"RoofSurface\"\n",
      "  ]\n",
      "}\n"
     ]
    }
   ],
   "source": [
    "print(cm_copy.cityobjects['{C9D4A5CF-094A-47DA-97E4-4A3BFD75D3AE}'])"
   ]
  },
  {
   "cell_type": "markdown",
   "metadata": {
    "slideshow": {
     "slide_type": "skip"
    }
   },
   "source": [
    "### Create new Semantic Surfaces\n",
    "The process is similar as previously. However, in this example we create new SemanticSurfaces that hold the values which we compute from the geometry. The input city model has a single semantic \"WallSurface\", without attributes, for all the walls of a building. The snippet below illustrates how to separate surfaces and assign the semantics to them."
   ]
  },
  {
   "cell_type": "code",
   "execution_count": 24,
   "metadata": {
    "pycharm": {
     "is_executing": false,
     "name": "#%%\n"
    },
    "slideshow": {
     "slide_type": "skip"
    }
   },
   "outputs": [],
   "source": [
    "new_cos = {}\n",
    "\n",
    "for co_id, co in cm_copy.cityobjects.items():\n",
    "    new_geoms = []\n",
    "    \n",
    "    for geom in co.geometry:\n",
    "        if geom.lod >= 2.0:\n",
    "            max_id = max(geom.surfaces.keys())\n",
    "            old_ids = []\n",
    "            \n",
    "            for w_i, wsrf in geom.get_surfaces('wallsurface').items():\n",
    "                old_ids.append(w_i)\n",
    "                del geom.surfaces[w_i]\n",
    "                boundaries = geom.get_surface_boundaries(wsrf)\n",
    "                \n",
    "                for j, boundary_geometry in enumerate(boundaries):\n",
    "                    # The original geometry has the same Semantic for all wall, \n",
    "                    # but we want to divide the wall surfaces by their orientation, \n",
    "                    # thus we need to have the correct surface index\n",
    "                    surface_index = wsrf['surface_idx'][j]\n",
    "                    new_srf = {\n",
    "                        'type': wsrf['type'],\n",
    "                        'surface_idx': surface_index\n",
    "                    }\n",
    "                    \n",
    "                    for multisurface in boundary_geometry:\n",
    "                        # Do any operation here\n",
    "                        x, y, z = multisurface[0]\n",
    "                        if j % 2 > 0:\n",
    "                            orientation = 'north'\n",
    "                        else:\n",
    "                            orientation = 'south'\n",
    "                        \n",
    "                        # Add the new attribute to the surface \n",
    "                        if 'attributes' in wsrf.keys():\n",
    "                            wsrf['attributes']['orientation'] = orientation\n",
    "                        else:\n",
    "                            wsrf['attributes'] = {}\n",
    "                            wsrf['attributes']['orientation'] = orientation\n",
    "                        \n",
    "                        new_srf['attributes'] = wsrf['attributes']\n",
    "                        \n",
    "                        # if w_i in geom.surfaces.keys():\n",
    "                        #     del geom.surfaces[w_i]\n",
    "                        \n",
    "                        max_id = max_id + 1\n",
    "                        geom.surfaces[max_id] = new_srf\n",
    "                        \n",
    "            new_geoms.append(geom)\n",
    "            \n",
    "        else:\n",
    "            # If LoD1, just add the geometry unchanged\n",
    "            new_geoms.append(geom)\n",
    "            \n",
    "    co.geometry = new_geoms\n",
    "    new_cos[co_id] = co\n",
    "    \n",
    "cm_copy.cityobjects = new_cos"
   ]
  },
  {
   "cell_type": "markdown",
   "metadata": {
    "pycharm": {
     "name": "#%% md\n"
    },
    "slideshow": {
     "slide_type": "subslide"
    }
   },
   "source": [
    "## Save or Export\n",
    "At the end, the `save()` method saves the edited city model into a CityJSON file."
   ]
  },
  {
   "cell_type": "code",
   "execution_count": 25,
   "metadata": {
    "pycharm": {
     "is_executing": false,
     "name": "#%%\n"
    },
    "slideshow": {
     "slide_type": "fragment"
    }
   },
   "outputs": [],
   "source": [
    "path_out = os.path.join('data', 'test_output.json')\n",
    "cityjson.save(cm, path_out)"
   ]
  },
  {
   "cell_type": "markdown",
   "metadata": {
    "pycharm": {
     "name": "#%% md\n"
    },
    "slideshow": {
     "slide_type": "skip"
    }
   },
   "source": [
    "It is also possible to export the city model into a pandas DataFrame. Note that only the CityObject attributes are exported into the dataframe, with CityObject IDs as the index of the dataframe. Thus if you want to export the attributes of SemanticSurfaces for example, then you need to add them as CityObject attributes."
   ]
  },
  {
   "cell_type": "code",
   "execution_count": 26,
   "metadata": {
    "pycharm": {
     "name": "#%%\n"
    },
    "slideshow": {
     "slide_type": "skip"
    }
   },
   "outputs": [],
   "source": [
    "def assign_cityobject_attribute(cm):\n",
    "    \"\"\"Copy a semantic surface attribute to the CityObject level.\n",
    "    Returns a copy of the citymodel.\n",
    "    \"\"\"\n",
    "    new_cos = {}\n",
    "    cm_copy = deepcopy(cm)\n",
    "    for co_id, co in cm.cityobjects.items():\n",
    "        for geom in co.geometry:\n",
    "            for srf in geom.surfaces.values():\n",
    "                if 'attributes' in srf:\n",
    "                    for attr,a_v in srf['attributes'].items():\n",
    "                        if (attr not in co.attributes) or (co.attributes[attr] is None):\n",
    "                            co.attributes[attr] = [a_v]\n",
    "                        else:\n",
    "                            co.attributes[attr].append(a_v)\n",
    "        new_cos[co_id] = co\n",
    "    cm_copy.cityobjects = new_cos\n",
    "    return cm_copy"
   ]
  },
  {
   "cell_type": "markdown",
   "metadata": {
    "slideshow": {
     "slide_type": "slide"
    }
   },
   "source": [
    "# Analysing CityModels\n",
    "\n",
    "![](figures/zurich.png)"
   ]
  },
  {
   "cell_type": "code",
   "execution_count": 27,
   "metadata": {
    "pycharm": {
     "is_executing": false
    },
    "slideshow": {
     "slide_type": "skip"
    }
   },
   "outputs": [],
   "source": [
    "path = os.path.join('data', 'zurich.json')\n",
    "zurich = cityjson.load(path, transform=True)"
   ]
  },
  {
   "cell_type": "markdown",
   "metadata": {
    "slideshow": {
     "slide_type": "subslide"
    }
   },
   "source": [
    "## A simple geometry function"
   ]
  },
  {
   "cell_type": "code",
   "execution_count": 28,
   "metadata": {
    "slideshow": {
     "slide_type": "fragment"
    }
   },
   "outputs": [],
   "source": [
    "def compute_footprint_area(co):\n",
    "    \"\"\"Compute the area of the footprint\"\"\"\n",
    "    footprint_area = 0\n",
    "    for geom in co.geometry:\n",
    "        \n",
    "        # only LoD2 (or higher) objects have semantic surfaces\n",
    "        if geom.lod >= 2.0:\n",
    "            footprints = geom.get_surfaces(type='groundsurface')\n",
    "            \n",
    "            # there can be many surfaces with label 'groundsurface'\n",
    "            for i,f in footprints.items():\n",
    "                for multisurface in geom.get_surface_boundaries(f):\n",
    "                    for surface in multisurface:\n",
    "                        \n",
    "                        # cast to Shapely polygon\n",
    "                        shapely_poly = Polygon(surface)\n",
    "                        footprint_area += shapely_poly.area\n",
    "                        \n",
    "    return footprint_area"
   ]
  },
  {
   "cell_type": "markdown",
   "metadata": {
    "slideshow": {
     "slide_type": "subslide"
    }
   },
   "source": [
    "## Add the new attributes"
   ]
  },
  {
   "cell_type": "code",
   "execution_count": 29,
   "metadata": {
    "slideshow": {
     "slide_type": "fragment"
    }
   },
   "outputs": [],
   "source": [
    "for co_id, co in zurich.cityobjects.items():\n",
    "    co.attributes['nr_vertices'] = len(co.get_vertices())\n",
    "    co.attributes['fp_area'] = compute_footprint_area(co)\n",
    "    zurich.cityobjects[co_id] = co"
   ]
  },
  {
   "cell_type": "code",
   "execution_count": 30,
   "metadata": {
    "scrolled": true,
    "slideshow": {
     "slide_type": "subslide"
    }
   },
   "outputs": [
    {
     "data": {
      "text/html": [
       "<div>\n",
       "<style scoped>\n",
       "    .dataframe tbody tr th:only-of-type {\n",
       "        vertical-align: middle;\n",
       "    }\n",
       "\n",
       "    .dataframe tbody tr th {\n",
       "        vertical-align: top;\n",
       "    }\n",
       "\n",
       "    .dataframe thead th {\n",
       "        text-align: right;\n",
       "    }\n",
       "</style>\n",
       "<table border=\"1\" class=\"dataframe\">\n",
       "  <thead>\n",
       "    <tr style=\"text-align: right;\">\n",
       "      <th></th>\n",
       "      <th>creationDate</th>\n",
       "      <th>Geomtype</th>\n",
       "      <th>nr_vertices</th>\n",
       "      <th>fp_area</th>\n",
       "      <th>class</th>\n",
       "      <th>Herkunft</th>\n",
       "      <th>QualitaetStatus</th>\n",
       "      <th>FileCreationDate</th>\n",
       "      <th>Region</th>\n",
       "      <th>GebaeudeStatus</th>\n",
       "    </tr>\n",
       "  </thead>\n",
       "  <tbody>\n",
       "    <tr>\n",
       "      <td>UUID_93fc5bae-4446-4336-9ff8-6679ebfdfde3</td>\n",
       "      <td>2017-01-23</td>\n",
       "      <td>1.0</td>\n",
       "      <td>24</td>\n",
       "      <td>65.209763</td>\n",
       "      <td>NaN</td>\n",
       "      <td>NaN</td>\n",
       "      <td>NaN</td>\n",
       "      <td>NaN</td>\n",
       "      <td>NaN</td>\n",
       "      <td>NaN</td>\n",
       "    </tr>\n",
       "    <tr>\n",
       "      <td>UUID_c9884c4e-1cac-47f5-b88b-6fb074c0ae50</td>\n",
       "      <td>2017-01-23</td>\n",
       "      <td>NaN</td>\n",
       "      <td>0</td>\n",
       "      <td>0.000000</td>\n",
       "      <td>BB01</td>\n",
       "      <td>EE_LB_2007</td>\n",
       "      <td>1.0</td>\n",
       "      <td>2012-02-23</td>\n",
       "      <td>2.0</td>\n",
       "      <td>1.0</td>\n",
       "    </tr>\n",
       "    <tr>\n",
       "      <td>UUID_a4a09780-153f-4385-ad19-3a92a6c4eec4</td>\n",
       "      <td>2017-01-23</td>\n",
       "      <td>1.0</td>\n",
       "      <td>38</td>\n",
       "      <td>20.784309</td>\n",
       "      <td>NaN</td>\n",
       "      <td>NaN</td>\n",
       "      <td>NaN</td>\n",
       "      <td>NaN</td>\n",
       "      <td>NaN</td>\n",
       "      <td>NaN</td>\n",
       "    </tr>\n",
       "    <tr>\n",
       "      <td>UUID_ba0bb815-5276-4e35-b4c1-878cbf6ba934</td>\n",
       "      <td>2017-01-23</td>\n",
       "      <td>NaN</td>\n",
       "      <td>0</td>\n",
       "      <td>0.000000</td>\n",
       "      <td>BB07</td>\n",
       "      <td>EE_LB_2007</td>\n",
       "      <td>1.0</td>\n",
       "      <td>2012-02-23</td>\n",
       "      <td>2.0</td>\n",
       "      <td>1.0</td>\n",
       "    </tr>\n",
       "    <tr>\n",
       "      <td>UUID_bb1835bc-7437-453f-ac08-885de0503aaa</td>\n",
       "      <td>2017-01-23</td>\n",
       "      <td>1.0</td>\n",
       "      <td>87</td>\n",
       "      <td>69.363823</td>\n",
       "      <td>NaN</td>\n",
       "      <td>NaN</td>\n",
       "      <td>NaN</td>\n",
       "      <td>NaN</td>\n",
       "      <td>NaN</td>\n",
       "      <td>NaN</td>\n",
       "    </tr>\n",
       "  </tbody>\n",
       "</table>\n",
       "</div>"
      ],
      "text/plain": [
       "                                          creationDate  Geomtype  nr_vertices  \\\n",
       "UUID_93fc5bae-4446-4336-9ff8-6679ebfdfde3   2017-01-23       1.0           24   \n",
       "UUID_c9884c4e-1cac-47f5-b88b-6fb074c0ae50   2017-01-23       NaN            0   \n",
       "UUID_a4a09780-153f-4385-ad19-3a92a6c4eec4   2017-01-23       1.0           38   \n",
       "UUID_ba0bb815-5276-4e35-b4c1-878cbf6ba934   2017-01-23       NaN            0   \n",
       "UUID_bb1835bc-7437-453f-ac08-885de0503aaa   2017-01-23       1.0           87   \n",
       "\n",
       "                                             fp_area class    Herkunft  \\\n",
       "UUID_93fc5bae-4446-4336-9ff8-6679ebfdfde3  65.209763   NaN         NaN   \n",
       "UUID_c9884c4e-1cac-47f5-b88b-6fb074c0ae50   0.000000  BB01  EE_LB_2007   \n",
       "UUID_a4a09780-153f-4385-ad19-3a92a6c4eec4  20.784309   NaN         NaN   \n",
       "UUID_ba0bb815-5276-4e35-b4c1-878cbf6ba934   0.000000  BB07  EE_LB_2007   \n",
       "UUID_bb1835bc-7437-453f-ac08-885de0503aaa  69.363823   NaN         NaN   \n",
       "\n",
       "                                           QualitaetStatus FileCreationDate  \\\n",
       "UUID_93fc5bae-4446-4336-9ff8-6679ebfdfde3              NaN              NaN   \n",
       "UUID_c9884c4e-1cac-47f5-b88b-6fb074c0ae50              1.0       2012-02-23   \n",
       "UUID_a4a09780-153f-4385-ad19-3a92a6c4eec4              NaN              NaN   \n",
       "UUID_ba0bb815-5276-4e35-b4c1-878cbf6ba934              1.0       2012-02-23   \n",
       "UUID_bb1835bc-7437-453f-ac08-885de0503aaa              NaN              NaN   \n",
       "\n",
       "                                           Region  GebaeudeStatus  \n",
       "UUID_93fc5bae-4446-4336-9ff8-6679ebfdfde3     NaN             NaN  \n",
       "UUID_c9884c4e-1cac-47f5-b88b-6fb074c0ae50     2.0             1.0  \n",
       "UUID_a4a09780-153f-4385-ad19-3a92a6c4eec4     NaN             NaN  \n",
       "UUID_ba0bb815-5276-4e35-b4c1-878cbf6ba934     2.0             1.0  \n",
       "UUID_bb1835bc-7437-453f-ac08-885de0503aaa     NaN             NaN  "
      ]
     },
     "execution_count": 30,
     "metadata": {},
     "output_type": "execute_result"
    }
   ],
   "source": [
    "df = zurich.to_dataframe()\n",
    "df.head()"
   ]
  },
  {
   "cell_type": "code",
   "execution_count": 31,
   "metadata": {
    "slideshow": {
     "slide_type": "skip"
    }
   },
   "outputs": [],
   "source": [
    "df_subset = df[df['Geomtype'].notnull() & df['fp_area'] > 0.0].loc[:, ['nr_vertices', 'fp_area']]\n",
    "transformer = FunctionTransformer(np.log, validate=True)\n",
    "df_logtransform = transformer.transform(df_subset)"
   ]
  },
  {
   "cell_type": "code",
   "execution_count": 32,
   "metadata": {
    "scrolled": true,
    "slideshow": {
     "slide_type": "skip"
    }
   },
   "outputs": [
    {
     "data": {
      "image/png": "[encoded data removed]",
      "text/plain": [
       "<Figure size 432x288 with 1 Axes>"
      ]
     },
     "metadata": {
      "needs_background": "light"
     },
     "output_type": "display_data"
    }
   ],
   "source": [
    "fig = plt.figure()\n",
    "ax = fig.add_subplot(1, 1, 1)\n",
    "ax.scatter(df_logtransform[:,0], df_logtransform[:,1], alpha=0.3, s=1.0)\n",
    "plt.show()"
   ]
  },
  {
   "cell_type": "code",
   "execution_count": 33,
   "metadata": {
    "slideshow": {
     "slide_type": "skip"
    }
   },
   "outputs": [],
   "source": [
    "def plot_model_results(model, data):\n",
    "    fig = plt.figure()\n",
    "    ax = fig.add_subplot(1, 1, 1)\n",
    "    colormap = np.array(['lightblue', 'red', 'lime', 'blue','black'])\n",
    "    ax.scatter(data[:,0], data[:,1], c=colormap[model.labels_], s=10, alpha=0.5)\n",
    "    ax.set_xlabel('Number of vertices [log]')\n",
    "    ax.set_ylabel('Footprint area [log]')\n",
    "    plt.title(f\"DBSCAN clustering with estimated {len(set(model.labels_))} clusters\")\n",
    "    plt.show()"
   ]
  },
  {
   "cell_type": "code",
   "execution_count": 34,
   "metadata": {
    "scrolled": true,
    "slideshow": {
     "slide_type": "subslide"
    }
   },
   "outputs": [
    {
     "data": {
      "application/javascript": [
       "/* Put everything inside the global mpl namespace */\n",
       "window.mpl = {};\n",
       "\n",
       "\n",
       "mpl.get_websocket_type = function() {\n",
       "    if (typeof(WebSocket) !== 'undefined') {\n",
       "        return WebSocket;\n",
       "    } else if (typeof(MozWebSocket) !== 'undefined') {\n",
       "        return MozWebSocket;\n",
       "    } else {\n",
       "        alert('Your browser does not have WebSocket support. ' +\n",
       "              'Please try Chrome, Safari or Firefox ≥ 6. ' +\n",
       "              'Firefox 4 and 5 are also supported but you ' +\n",
       "              'have to enable WebSockets in about:config.');\n",
       "    };\n",
       "}\n",
       "\n",
       "mpl.figure = function(figure_id, websocket, ondownload, parent_element) {\n",
       "    this.id = figure_id;\n",
       "\n",
       "    this.ws = websocket;\n",
       "\n",
       "    this.supports_binary = (this.ws.binaryType != undefined);\n",
       "\n",
       "    if (!this.supports_binary) {\n",
       "        var warnings = document.getElementById(\"mpl-warnings\");\n",
       "        if (warnings) {\n",
       "            warnings.style.display = 'block';\n",
       "            warnings.textContent = (\n",
       "                \"This browser does not support binary websocket messages. \" +\n",
       "                    \"Performance may be slow.\");\n",
       "        }\n",
       "    }\n",
       "\n",
       "    this.imageObj = new Image();\n",
       "\n",
       "    this.context = undefined;\n",
       "    this.message = undefined;\n",
       "    this.canvas = undefined;\n",
       "    this.rubberband_canvas = undefined;\n",
       "    this.rubberband_context = undefined;\n",
       "    this.format_dropdown = undefined;\n",
       "\n",
       "    this.image_mode = 'full';\n",
       "\n",
       "    this.root = $('<div/>');\n",
       "    this._root_extra_style(this.root)\n",
       "    this.root.attr('style', 'display: inline-block');\n",
       "\n",
       "    $(parent_element).append(this.root);\n",
       "\n",
       "    this._init_header(this);\n",
       "    this._init_canvas(this);\n",
       "    this._init_toolbar(this);\n",
       "\n",
       "    var fig = this;\n",
       "\n",
       "    this.waiting = false;\n",
       "\n",
       "    this.ws.onopen =  function () {\n",
       "            fig.send_message(\"supports_binary\", {value: fig.supports_binary});\n",
       "            fig.send_message(\"send_image_mode\", {});\n",
       "            if (mpl.ratio != 1) {\n",
       "                fig.send_message(\"set_dpi_ratio\", {'dpi_ratio': mpl.ratio});\n",
       "            }\n",
       "            fig.send_message(\"refresh\", {});\n",
       "        }\n",
       "\n",
       "    this.imageObj.onload = function() {\n",
       "            if (fig.image_mode == 'full') {\n",
       "                // Full images could contain transparency (where diff images\n",
       "                // almost always do), so we need to clear the canvas so that\n",
       "                // there is no ghosting.\n",
       "                fig.context.clearRect(0, 0, fig.canvas.width, fig.canvas.height);\n",
       "            }\n",
       "            fig.context.drawImage(fig.imageObj, 0, 0);\n",
       "        };\n",
       "\n",
       "    this.imageObj.onunload = function() {\n",
       "        fig.ws.close();\n",
       "    }\n",
       "\n",
       "    this.ws.onmessage = this._make_on_message_function(this);\n",
       "\n",
       "    this.ondownload = ondownload;\n",
       "}\n",
       "\n",
       "mpl.figure.prototype._init_header = function() {\n",
       "    var titlebar = $(\n",
       "        '<div class=\"ui-dialog-titlebar ui-widget-header ui-corner-all ' +\n",
       "        'ui-helper-clearfix\"/>');\n",
       "    var titletext = $(\n",
       "        '<div class=\"ui-dialog-title\" style=\"width: 100%; ' +\n",
       "        'text-align: center; padding: 3px;\"/>');\n",
       "    titlebar.append(titletext)\n",
       "    this.root.append(titlebar);\n",
       "    this.header = titletext[0];\n",
       "}\n",
       "\n",
       "\n",
       "\n",
       "mpl.figure.prototype._canvas_extra_style = function(canvas_div) {\n",
       "\n",
       "}\n",
       "\n",
       "\n",
       "mpl.figure.prototype._root_extra_style = function(canvas_div) {\n",
       "\n",
       "}\n",
       "\n",
       "mpl.figure.prototype._init_canvas = function() {\n",
       "    var fig = this;\n",
       "\n",
       "    var canvas_div = $('<div/>');\n",
       "\n",
       "    canvas_div.attr('style', 'position: relative; clear: both; outline: 0');\n",
       "\n",
       "    function canvas_keyboard_event(event) {\n",
       "        return fig.key_event(event, event['data']);\n",
       "    }\n",
       "\n",
       "    canvas_div.keydown('key_press', canvas_keyboard_event);\n",
       "    canvas_div.keyup('key_release', canvas_keyboard_event);\n",
       "    this.canvas_div = canvas_div\n",
       "    this._canvas_extra_style(canvas_div)\n",
       "    this.root.append(canvas_div);\n",
       "\n",
       "    var canvas = $('<canvas/>');\n",
       "    canvas.addClass('mpl-canvas');\n",
       "    canvas.attr('style', \"left: 0; top: 0; z-index: 0; outline: 0\")\n",
       "\n",
       "    this.canvas = canvas[0];\n",
       "    this.context = canvas[0].getContext(\"2d\");\n",
       "\n",
       "    var backingStore = this.context.backingStorePixelRatio ||\n",
       "\tthis.context.webkitBackingStorePixelRatio ||\n",
       "\tthis.context.mozBackingStorePixelRatio ||\n",
       "\tthis.context.msBackingStorePixelRatio ||\n",
       "\tthis.context.oBackingStorePixelRatio ||\n",
       "\tthis.context.backingStorePixelRatio || 1;\n",
       "\n",
       "    mpl.ratio = (window.devicePixelRatio || 1) / backingStore;\n",
       "\n",
       "    var rubberband = $('<canvas/>');\n",
       "    rubberband.attr('style', \"position: absolute; left: 0; top: 0; z-index: 1;\")\n",
       "\n",
       "    var pass_mouse_events = true;\n",
       "\n",
       "    canvas_div.resizable({\n",
       "        start: function(event, ui) {\n",
       "            pass_mouse_events = false;\n",
       "        },\n",
       "        resize: function(event, ui) {\n",
       "            fig.request_resize(ui.size.width, ui.size.height);\n",
       "        },\n",
       "        stop: function(event, ui) {\n",
       "            pass_mouse_events = true;\n",
       "            fig.request_resize(ui.size.width, ui.size.height);\n",
       "        },\n",
       "    });\n",
       "\n",
       "    function mouse_event_fn(event) {\n",
       "        if (pass_mouse_events)\n",
       "            return fig.mouse_event(event, event['data']);\n",
       "    }\n",
       "\n",
       "    rubberband.mousedown('button_press', mouse_event_fn);\n",
       "    rubberband.mouseup('button_release', mouse_event_fn);\n",
       "    // Throttle sequential mouse events to 1 every 20ms.\n",
       "    rubberband.mousemove('motion_notify', mouse_event_fn);\n",
       "\n",
       "    rubberband.mouseenter('figure_enter', mouse_event_fn);\n",
       "    rubberband.mouseleave('figure_leave', mouse_event_fn);\n",
       "\n",
       "    canvas_div.on(\"wheel\", function (event) {\n",
       "        event = event.originalEvent;\n",
       "        event['data'] = 'scroll'\n",
       "        if (event.deltaY < 0) {\n",
       "            event.step = 1;\n",
       "        } else {\n",
       "            event.step = -1;\n",
       "        }\n",
       "        mouse_event_fn(event);\n",
       "    });\n",
       "\n",
       "    canvas_div.append(canvas);\n",
       "    canvas_div.append(rubberband);\n",
       "\n",
       "    this.rubberband = rubberband;\n",
       "    this.rubberband_canvas = rubberband[0];\n",
       "    this.rubberband_context = rubberband[0].getContext(\"2d\");\n",
       "    this.rubberband_context.strokeStyle = \"#000000\";\n",
       "\n",
       "    this._resize_canvas = function(width, height) {\n",
       "        // Keep the size of the canvas, canvas container, and rubber band\n",
       "        // canvas in synch.\n",
       "        canvas_div.css('width', width)\n",
       "        canvas_div.css('height', height)\n",
       "\n",
       "        canvas.attr('width', width * mpl.ratio);\n",
       "        canvas.attr('height', height * mpl.ratio);\n",
       "        canvas.attr('style', 'width: ' + width + 'px; height: ' + height + 'px;');\n",
       "\n",
       "        rubberband.attr('width', width);\n",
       "        rubberband.attr('height', height);\n",
       "    }\n",
       "\n",
       "    // Set the figure to an initial 600x600px, this will subsequently be updated\n",
       "    // upon first draw.\n",
       "    this._resize_canvas(600, 600);\n",
       "\n",
       "    // Disable right mouse context menu.\n",
       "    $(this.rubberband_canvas).bind(\"contextmenu\",function(e){\n",
       "        return false;\n",
       "    });\n",
       "\n",
       "    function set_focus () {\n",
       "        canvas.focus();\n",
       "        canvas_div.focus();\n",
       "    }\n",
       "\n",
       "    window.setTimeout(set_focus, 100);\n",
       "}\n",
       "\n",
       "mpl.figure.prototype._init_toolbar = function() {\n",
       "    var fig = this;\n",
       "\n",
       "    var nav_element = $('<div/>');\n",
       "    nav_element.attr('style', 'width: 100%');\n",
       "    this.root.append(nav_element);\n",
       "\n",
       "    // Define a callback function for later on.\n",
       "    function toolbar_event(event) {\n",
       "        return fig.toolbar_button_onclick(event['data']);\n",
       "    }\n",
       "    function toolbar_mouse_event(event) {\n",
       "        return fig.toolbar_button_onmouseover(event['data']);\n",
       "    }\n",
       "\n",
       "    for(var toolbar_ind in mpl.toolbar_items) {\n",
       "        var name = mpl.toolbar_items[toolbar_ind][0];\n",
       "        var tooltip = mpl.toolbar_items[toolbar_ind][1];\n",
       "        var image = mpl.toolbar_items[toolbar_ind][2];\n",
       "        var method_name = mpl.toolbar_items[toolbar_ind][3];\n",
       "\n",
       "        if (!name) {\n",
       "            // put a spacer in here.\n",
       "            continue;\n",
       "        }\n",
       "        var button = $('<button/>');\n",
       "        button.addClass('ui-button ui-widget ui-state-default ui-corner-all ' +\n",
       "                        'ui-button-icon-only');\n",
       "        button.attr('role', 'button');\n",
       "        button.attr('aria-disabled', 'false');\n",
       "        button.click(method_name, toolbar_event);\n",
       "        button.mouseover(tooltip, toolbar_mouse_event);\n",
       "\n",
       "        var icon_img = $('<span/>');\n",
       "        icon_img.addClass('ui-button-icon-primary ui-icon');\n",
       "        icon_img.addClass(image);\n",
       "        icon_img.addClass('ui-corner-all');\n",
       "\n",
       "        var tooltip_span = $('<span/>');\n",
       "        tooltip_span.addClass('ui-button-text');\n",
       "        tooltip_span.html(tooltip);\n",
       "\n",
       "        button.append(icon_img);\n",
       "        button.append(tooltip_span);\n",
       "\n",
       "        nav_element.append(button);\n",
       "    }\n",
       "\n",
       "    var fmt_picker_span = $('<span/>');\n",
       "\n",
       "    var fmt_picker = $('<select/>');\n",
       "    fmt_picker.addClass('mpl-toolbar-option ui-widget ui-widget-content');\n",
       "    fmt_picker_span.append(fmt_picker);\n",
       "    nav_element.append(fmt_picker_span);\n",
       "    this.format_dropdown = fmt_picker[0];\n",
       "\n",
       "    for (var ind in mpl.extensions) {\n",
       "        var fmt = mpl.extensions[ind];\n",
       "        var option = $(\n",
       "            '<option/>', {selected: fmt === mpl.default_extension}).html(fmt);\n",
       "        fmt_picker.append(option);\n",
       "    }\n",
       "\n",
       "    // Add hover states to the ui-buttons\n",
       "    $( \".ui-button\" ).hover(\n",
       "        function() { $(this).addClass(\"ui-state-hover\");},\n",
       "        function() { $(this).removeClass(\"ui-state-hover\");}\n",
       "    );\n",
       "\n",
       "    var status_bar = $('<span class=\"mpl-message\"/>');\n",
       "    nav_element.append(status_bar);\n",
       "    this.message = status_bar[0];\n",
       "}\n",
       "\n",
       "mpl.figure.prototype.request_resize = function(x_pixels, y_pixels) {\n",
       "    // Request matplotlib to resize the figure. Matplotlib will then trigger a resize in the client,\n",
       "    // which will in turn request a refresh of the image.\n",
       "    this.send_message('resize', {'width': x_pixels, 'height': y_pixels});\n",
       "}\n",
       "\n",
       "mpl.figure.prototype.send_message = function(type, properties) {\n",
       "    properties['type'] = type;\n",
       "    properties['figure_id'] = this.id;\n",
       "    this.ws.send(JSON.stringify(properties));\n",
       "}\n",
       "\n",
       "mpl.figure.prototype.send_draw_message = function() {\n",
       "    if (!this.waiting) {\n",
       "        this.waiting = true;\n",
       "        this.ws.send(JSON.stringify({type: \"draw\", figure_id: this.id}));\n",
       "    }\n",
       "}\n",
       "\n",
       "\n",
       "mpl.figure.prototype.handle_save = function(fig, msg) {\n",
       "    var format_dropdown = fig.format_dropdown;\n",
       "    var format = format_dropdown.options[format_dropdown.selectedIndex].value;\n",
       "    fig.ondownload(fig, format);\n",
       "}\n",
       "\n",
       "\n",
       "mpl.figure.prototype.handle_resize = function(fig, msg) {\n",
       "    var size = msg['size'];\n",
       "    if (size[0] != fig.canvas.width || size[1] != fig.canvas.height) {\n",
       "        fig._resize_canvas(size[0], size[1]);\n",
       "        fig.send_message(\"refresh\", {});\n",
       "    };\n",
       "}\n",
       "\n",
       "mpl.figure.prototype.handle_rubberband = function(fig, msg) {\n",
       "    var x0 = msg['x0'] / mpl.ratio;\n",
       "    var y0 = (fig.canvas.height - msg['y0']) / mpl.ratio;\n",
       "    var x1 = msg['x1'] / mpl.ratio;\n",
       "    var y1 = (fig.canvas.height - msg['y1']) / mpl.ratio;\n",
       "    x0 = Math.floor(x0) + 0.5;\n",
       "    y0 = Math.floor(y0) + 0.5;\n",
       "    x1 = Math.floor(x1) + 0.5;\n",
       "    y1 = Math.floor(y1) + 0.5;\n",
       "    var min_x = Math.min(x0, x1);\n",
       "    var min_y = Math.min(y0, y1);\n",
       "    var width = Math.abs(x1 - x0);\n",
       "    var height = Math.abs(y1 - y0);\n",
       "\n",
       "    fig.rubberband_context.clearRect(\n",
       "        0, 0, fig.canvas.width / mpl.ratio, fig.canvas.height / mpl.ratio);\n",
       "\n",
       "    fig.rubberband_context.strokeRect(min_x, min_y, width, height);\n",
       "}\n",
       "\n",
       "mpl.figure.prototype.handle_figure_label = function(fig, msg) {\n",
       "    // Updates the figure title.\n",
       "    fig.header.textContent = msg['label'];\n",
       "}\n",
       "\n",
       "mpl.figure.prototype.handle_cursor = function(fig, msg) {\n",
       "    var cursor = msg['cursor'];\n",
       "    switch(cursor)\n",
       "    {\n",
       "    case 0:\n",
       "        cursor = 'pointer';\n",
       "        break;\n",
       "    case 1:\n",
       "        cursor = 'default';\n",
       "        break;\n",
       "    case 2:\n",
       "        cursor = 'crosshair';\n",
       "        break;\n",
       "    case 3:\n",
       "        cursor = 'move';\n",
       "        break;\n",
       "    }\n",
       "    fig.rubberband_canvas.style.cursor = cursor;\n",
       "}\n",
       "\n",
       "mpl.figure.prototype.handle_message = function(fig, msg) {\n",
       "    fig.message.textContent = msg['message'];\n",
       "}\n",
       "\n",
       "mpl.figure.prototype.handle_draw = function(fig, msg) {\n",
       "    // Request the server to send over a new figure.\n",
       "    fig.send_draw_message();\n",
       "}\n",
       "\n",
       "mpl.figure.prototype.handle_image_mode = function(fig, msg) {\n",
       "    fig.image_mode = msg['mode'];\n",
       "}\n",
       "\n",
       "mpl.figure.prototype.updated_canvas_event = function() {\n",
       "    // Called whenever the canvas gets updated.\n",
       "    this.send_message(\"ack\", {});\n",
       "}\n",
       "\n",
       "// A function to construct a web socket function for onmessage handling.\n",
       "// Called in the figure constructor.\n",
       "mpl.figure.prototype._make_on_message_function = function(fig) {\n",
       "    return function socket_on_message(evt) {\n",
       "        if (evt.data instanceof Blob) {\n",
       "            /* FIXME: We get \"Resource interpreted as Image but\n",
       "             * transferred with MIME type text/plain:\" errors on\n",
       "             * Chrome.  But how to set the MIME type?  It doesn't seem\n",
       "             * to be part of the websocket stream */\n",
       "            evt.data.type = \"image/png\";\n",
       "\n",
       "            /* Free the memory for the previous frames */\n",
       "            if (fig.imageObj.src) {\n",
       "                (window.URL || window.webkitURL).revokeObjectURL(\n",
       "                    fig.imageObj.src);\n",
       "            }\n",
       "\n",
       "            fig.imageObj.src = (window.URL || window.webkitURL).createObjectURL(\n",
       "                evt.data);\n",
       "            fig.updated_canvas_event();\n",
       "            fig.waiting = false;\n",
       "            return;\n",
       "        }\n",
       "        else if (typeof evt.data === 'string' && evt.data.slice(0, 21) == \"data:image/png;base64\") {\n",
       "            fig.imageObj.src = evt.data;\n",
       "            fig.updated_canvas_event();\n",
       "            fig.waiting = false;\n",
       "            return;\n",
       "        }\n",
       "\n",
       "        var msg = JSON.parse(evt.data);\n",
       "        var msg_type = msg['type'];\n",
       "\n",
       "        // Call the  \"handle_{type}\" callback, which takes\n",
       "        // the figure and JSON message as its only arguments.\n",
       "        try {\n",
       "            var callback = fig[\"handle_\" + msg_type];\n",
       "        } catch (e) {\n",
       "            console.log(\"No handler for the '\" + msg_type + \"' message type: \", msg);\n",
       "            return;\n",
       "        }\n",
       "\n",
       "        if (callback) {\n",
       "            try {\n",
       "                // console.log(\"Handling '\" + msg_type + \"' message: \", msg);\n",
       "                callback(fig, msg);\n",
       "            } catch (e) {\n",
       "                console.log(\"Exception inside the 'handler_\" + msg_type + \"' callback:\", e, e.stack, msg);\n",
       "            }\n",
       "        }\n",
       "    };\n",
       "}\n",
       "\n",
       "// from http://stackoverflow.com/questions/1114465/getting-mouse-location-in-canvas\n",
       "mpl.findpos = function(e) {\n",
       "    //this section is from http://www.quirksmode.org/js/events_properties.html\n",
       "    var targ;\n",
       "    if (!e)\n",
       "        e = window.event;\n",
       "    if (e.target)\n",
       "        targ = e.target;\n",
       "    else if (e.srcElement)\n",
       "        targ = e.srcElement;\n",
       "    if (targ.nodeType == 3) // defeat Safari bug\n",
       "        targ = targ.parentNode;\n",
       "\n",
       "    // jQuery normalizes the pageX and pageY\n",
       "    // pageX,Y are the mouse positions relative to the document\n",
       "    // offset() returns the position of the element relative to the document\n",
       "    var x = e.pageX - $(targ).offset().left;\n",
       "    var y = e.pageY - $(targ).offset().top;\n",
       "\n",
       "    return {\"x\": x, \"y\": y};\n",
       "};\n",
       "\n",
       "/*\n",
       " * return a copy of an object with only non-object keys\n",
       " * we need this to avoid circular references\n",
       " * http://stackoverflow.com/a/24161582/3208463\n",
       " */\n",
       "function simpleKeys (original) {\n",
       "  return Object.keys(original).reduce(function (obj, key) {\n",
       "    if (typeof original[key] !== 'object')\n",
       "        obj[key] = original[key]\n",
       "    return obj;\n",
       "  }, {});\n",
       "}\n",
       "\n",
       "mpl.figure.prototype.mouse_event = function(event, name) {\n",
       "    var canvas_pos = mpl.findpos(event)\n",
       "\n",
       "    if (name === 'button_press')\n",
       "    {\n",
       "        this.canvas.focus();\n",
       "        this.canvas_div.focus();\n",
       "    }\n",
       "\n",
       "    var x = canvas_pos.x * mpl.ratio;\n",
       "    var y = canvas_pos.y * mpl.ratio;\n",
       "\n",
       "    this.send_message(name, {x: x, y: y, button: event.button,\n",
       "                             step: event.step,\n",
       "                             guiEvent: simpleKeys(event)});\n",
       "\n",
       "    /* This prevents the web browser from automatically changing to\n",
       "     * the text insertion cursor when the button is pressed.  We want\n",
       "     * to control all of the cursor setting manually through the\n",
       "     * 'cursor' event from matplotlib */\n",
       "    event.preventDefault();\n",
       "    return false;\n",
       "}\n",
       "\n",
       "mpl.figure.prototype._key_event_extra = function(event, name) {\n",
       "    // Handle any extra behaviour associated with a key event\n",
       "}\n",
       "\n",
       "mpl.figure.prototype.key_event = function(event, name) {\n",
       "\n",
       "    // Prevent repeat events\n",
       "    if (name == 'key_press')\n",
       "    {\n",
       "        if (event.which === this._key)\n",
       "            return;\n",
       "        else\n",
       "            this._key = event.which;\n",
       "    }\n",
       "    if (name == 'key_release')\n",
       "        this._key = null;\n",
       "\n",
       "    var value = '';\n",
       "    if (event.ctrlKey && event.which != 17)\n",
       "        value += \"ctrl+\";\n",
       "    if (event.altKey && event.which != 18)\n",
       "        value += \"alt+\";\n",
       "    if (event.shiftKey && event.which != 16)\n",
       "        value += \"shift+\";\n",
       "\n",
       "    value += 'k';\n",
       "    value += event.which.toString();\n",
       "\n",
       "    this._key_event_extra(event, name);\n",
       "\n",
       "    this.send_message(name, {key: value,\n",
       "                             guiEvent: simpleKeys(event)});\n",
       "    return false;\n",
       "}\n",
       "\n",
       "mpl.figure.prototype.toolbar_button_onclick = function(name) {\n",
       "    if (name == 'download') {\n",
       "        this.handle_save(this, null);\n",
       "    } else {\n",
       "        this.send_message(\"toolbar_button\", {name: name});\n",
       "    }\n",
       "};\n",
       "\n",
       "mpl.figure.prototype.toolbar_button_onmouseover = function(tooltip) {\n",
       "    this.message.textContent = tooltip;\n",
       "};\n",
       "mpl.toolbar_items = [[\"Home\", \"Reset original view\", \"fa fa-home icon-home\", \"home\"], [\"Back\", \"Back to previous view\", \"fa fa-arrow-left icon-arrow-left\", \"back\"], [\"Forward\", \"Forward to next view\", \"fa fa-arrow-right icon-arrow-right\", \"forward\"], [\"\", \"\", \"\", \"\"], [\"Pan\", \"Pan axes with left mouse, zoom with right\", \"fa fa-arrows icon-move\", \"pan\"], [\"Zoom\", \"Zoom to rectangle\", \"fa fa-square-o icon-check-empty\", \"zoom\"], [\"\", \"\", \"\", \"\"], [\"Download\", \"Download plot\", \"fa fa-floppy-o icon-save\", \"download\"]];\n",
       "\n",
       "mpl.extensions = [\"eps\", \"pdf\", \"png\", \"ps\", \"raw\", \"svg\"];\n",
       "\n",
       "mpl.default_extension = \"png\";var comm_websocket_adapter = function(comm) {\n",
       "    // Create a \"websocket\"-like object which calls the given IPython comm\n",
       "    // object with the appropriate methods. Currently this is a non binary\n",
       "    // socket, so there is still some room for performance tuning.\n",
       "    var ws = {};\n",
       "\n",
       "    ws.close = function() {\n",
       "        comm.close()\n",
       "    };\n",
       "    ws.send = function(m) {\n",
       "        //console.log('sending', m);\n",
       "        comm.send(m);\n",
       "    };\n",
       "    // Register the callback with on_msg.\n",
       "    comm.on_msg(function(msg) {\n",
       "        //console.log('receiving', msg['content']['data'], msg);\n",
       "        // Pass the mpl event to the overridden (by mpl) onmessage function.\n",
       "        ws.onmessage(msg['content']['data'])\n",
       "    });\n",
       "    return ws;\n",
       "}\n",
       "\n",
       "mpl.mpl_figure_comm = function(comm, msg) {\n",
       "    // This is the function which gets called when the mpl process\n",
       "    // starts-up an IPython Comm through the \"matplotlib\" channel.\n",
       "\n",
       "    var id = msg.content.data.id;\n",
       "    // Get hold of the div created by the display call when the Comm\n",
       "    // socket was opened in Python.\n",
       "    var element = $(\"#\" + id);\n",
       "    var ws_proxy = comm_websocket_adapter(comm)\n",
       "\n",
       "    function ondownload(figure, format) {\n",
       "        window.open(figure.imageObj.src);\n",
       "    }\n",
       "\n",
       "    var fig = new mpl.figure(id, ws_proxy,\n",
       "                           ondownload,\n",
       "                           element.get(0));\n",
       "\n",
       "    // Call onopen now - mpl needs it, as it is assuming we've passed it a real\n",
       "    // web socket which is closed, not our websocket->open comm proxy.\n",
       "    ws_proxy.onopen();\n",
       "\n",
       "    fig.parent_element = element.get(0);\n",
       "    fig.cell_info = mpl.find_output_cell(\"<div id='\" + id + \"'></div>\");\n",
       "    if (!fig.cell_info) {\n",
       "        console.error(\"Failed to find cell for figure\", id, fig);\n",
       "        return;\n",
       "    }\n",
       "\n",
       "    var output_index = fig.cell_info[2]\n",
       "    var cell = fig.cell_info[0];\n",
       "\n",
       "};\n",
       "\n",
       "mpl.figure.prototype.handle_close = function(fig, msg) {\n",
       "    var width = fig.canvas.width/mpl.ratio\n",
       "    fig.root.unbind('remove')\n",
       "\n",
       "    // Update the output cell to use the data from the current canvas.\n",
       "    fig.push_to_output();\n",
       "    var dataURL = fig.canvas.toDataURL();\n",
       "    // Re-enable the keyboard manager in IPython - without this line, in FF,\n",
       "    // the notebook keyboard shortcuts fail.\n",
       "    IPython.keyboard_manager.enable()\n",
       "    $(fig.parent_element).html('<img src=\"' + dataURL + '\" width=\"' + width + '\">');\n",
       "    fig.close_ws(fig, msg);\n",
       "}\n",
       "\n",
       "mpl.figure.prototype.close_ws = function(fig, msg){\n",
       "    fig.send_message('closing', msg);\n",
       "    // fig.ws.close()\n",
       "}\n",
       "\n",
       "mpl.figure.prototype.push_to_output = function(remove_interactive) {\n",
       "    // Turn the data on the canvas into data in the output cell.\n",
       "    var width = this.canvas.width/mpl.ratio\n",
       "    var dataURL = this.canvas.toDataURL();\n",
       "    this.cell_info[1]['text/html'] = '<img src=\"' + dataURL + '\" width=\"' + width + '\">';\n",
       "}\n",
       "\n",
       "mpl.figure.prototype.updated_canvas_event = function() {\n",
       "    // Tell IPython that the notebook contents must change.\n",
       "    IPython.notebook.set_dirty(true);\n",
       "    this.send_message(\"ack\", {});\n",
       "    var fig = this;\n",
       "    // Wait a second, then push the new image to the DOM so\n",
       "    // that it is saved nicely (might be nice to debounce this).\n",
       "    setTimeout(function () { fig.push_to_output() }, 1000);\n",
       "}\n",
       "\n",
       "mpl.figure.prototype._init_toolbar = function() {\n",
       "    var fig = this;\n",
       "\n",
       "    var nav_element = $('<div/>');\n",
       "    nav_element.attr('style', 'width: 100%');\n",
       "    this.root.append(nav_element);\n",
       "\n",
       "    // Define a callback function for later on.\n",
       "    function toolbar_event(event) {\n",
       "        return fig.toolbar_button_onclick(event['data']);\n",
       "    }\n",
       "    function toolbar_mouse_event(event) {\n",
       "        return fig.toolbar_button_onmouseover(event['data']);\n",
       "    }\n",
       "\n",
       "    for(var toolbar_ind in mpl.toolbar_items){\n",
       "        var name = mpl.toolbar_items[toolbar_ind][0];\n",
       "        var tooltip = mpl.toolbar_items[toolbar_ind][1];\n",
       "        var image = mpl.toolbar_items[toolbar_ind][2];\n",
       "        var method_name = mpl.toolbar_items[toolbar_ind][3];\n",
       "\n",
       "        if (!name) { continue; };\n",
       "\n",
       "        var button = $('<button class=\"btn btn-default\" href=\"#\" title=\"' + name + '\"><i class=\"fa ' + image + ' fa-lg\"></i></button>');\n",
       "        button.click(method_name, toolbar_event);\n",
       "        button.mouseover(tooltip, toolbar_mouse_event);\n",
       "        nav_element.append(button);\n",
       "    }\n",
       "\n",
       "    // Add the status bar.\n",
       "    var status_bar = $('<span class=\"mpl-message\" style=\"text-align:right; float: right;\"/>');\n",
       "    nav_element.append(status_bar);\n",
       "    this.message = status_bar[0];\n",
       "\n",
       "    // Add the close button to the window.\n",
       "    var buttongrp = $('<div class=\"btn-group inline pull-right\"></div>');\n",
       "    var button = $('<button class=\"btn btn-mini btn-primary\" href=\"#\" title=\"Stop Interaction\"><i class=\"fa fa-power-off icon-remove icon-large\"></i></button>');\n",
       "    button.click(function (evt) { fig.handle_close(fig, {}); } );\n",
       "    button.mouseover('Stop Interaction', toolbar_mouse_event);\n",
       "    buttongrp.append(button);\n",
       "    var titlebar = this.root.find($('.ui-dialog-titlebar'));\n",
       "    titlebar.prepend(buttongrp);\n",
       "}\n",
       "\n",
       "mpl.figure.prototype._root_extra_style = function(el){\n",
       "    var fig = this\n",
       "    el.on(\"remove\", function(){\n",
       "\tfig.close_ws(fig, {});\n",
       "    });\n",
       "}\n",
       "\n",
       "mpl.figure.prototype._canvas_extra_style = function(el){\n",
       "    // this is important to make the div 'focusable\n",
       "    el.attr('tabindex', 0)\n",
       "    // reach out to IPython and tell the keyboard manager to turn it's self\n",
       "    // off when our div gets focus\n",
       "\n",
       "    // location in version 3\n",
       "    if (IPython.notebook.keyboard_manager) {\n",
       "        IPython.notebook.keyboard_manager.register_events(el);\n",
       "    }\n",
       "    else {\n",
       "        // location in version 2\n",
       "        IPython.keyboard_manager.register_events(el);\n",
       "    }\n",
       "\n",
       "}\n",
       "\n",
       "mpl.figure.prototype._key_event_extra = function(event, name) {\n",
       "    var manager = IPython.notebook.keyboard_manager;\n",
       "    if (!manager)\n",
       "        manager = IPython.keyboard_manager;\n",
       "\n",
       "    // Check for shift+enter\n",
       "    if (event.shiftKey && event.which == 13) {\n",
       "        this.canvas_div.blur();\n",
       "        event.shiftKey = false;\n",
       "        // Send a \"J\" for go to next cell\n",
       "        event.which = 74;\n",
       "        event.keyCode = 74;\n",
       "        manager.command_mode();\n",
       "        manager.handle_keydown(event);\n",
       "    }\n",
       "}\n",
       "\n",
       "mpl.figure.prototype.handle_save = function(fig, msg) {\n",
       "    fig.ondownload(fig, null);\n",
       "}\n",
       "\n",
       "\n",
       "mpl.find_output_cell = function(html_output) {\n",
       "    // Return the cell and output element which can be found *uniquely* in the notebook.\n",
       "    // Note - this is a bit hacky, but it is done because the \"notebook_saving.Notebook\"\n",
       "    // IPython event is triggered only after the cells have been serialised, which for\n",
       "    // our purposes (turning an active figure into a static one), is too late.\n",
       "    var cells = IPython.notebook.get_cells();\n",
       "    var ncells = cells.length;\n",
       "    for (var i=0; i<ncells; i++) {\n",
       "        var cell = cells[i];\n",
       "        if (cell.cell_type === 'code'){\n",
       "            for (var j=0; j<cell.output_area.outputs.length; j++) {\n",
       "                var data = cell.output_area.outputs[j];\n",
       "                if (data.data) {\n",
       "                    // IPython >= 3 moved mimebundle to data attribute of output\n",
       "                    data = data.data;\n",
       "                }\n",
       "                if (data['text/html'] == html_output) {\n",
       "                    return [cell, data, j];\n",
       "                }\n",
       "            }\n",
       "        }\n",
       "    }\n",
       "}\n",
       "\n",
       "// Register the function which deals with the matplotlib target/channel.\n",
       "// The kernel may be null if the page has been refreshed.\n",
       "if (IPython.notebook.kernel != null) {\n",
       "    IPython.notebook.kernel.comm_manager.register_target('matplotlib', mpl.mpl_figure_comm);\n",
       "}\n"
      ],
      "text/plain": [
       "<IPython.core.display.Javascript object>"
      ]
     },
     "metadata": {},
     "output_type": "display_data"
    },
    {
     "data": {
      "text/html": [
       "<img src=\"data:image/png;base64,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\" width=\"852.75\">"
      ],
      "text/plain": [
       "<IPython.core.display.HTML object>"
      ]
     },
     "metadata": {},
     "output_type": "display_data"
    }
   ],
   "source": [
    "%matplotlib notebook\n",
    "model = cluster.DBSCAN(eps=0.2).fit(df_logtransform)\n",
    "\n",
    "plot_model_results(model, df_logtransform)"
   ]
  },
  {
   "cell_type": "code",
   "execution_count": 35,
   "metadata": {
    "slideshow": {
     "slide_type": "skip"
    }
   },
   "outputs": [],
   "source": [
    "df_subset['dbscan'] = model.labels_"
   ]
  },
  {
   "cell_type": "markdown",
   "metadata": {
    "slideshow": {
     "slide_type": "subslide"
    }
   },
   "source": [
    "## Write the results to CityJSON"
   ]
  },
  {
   "cell_type": "code",
   "execution_count": 36,
   "metadata": {
    "slideshow": {
     "slide_type": "fragment"
    }
   },
   "outputs": [],
   "source": [
    "for co_id, co in zurich.cityobjects.items():\n",
    "    if co_id in df_subset.index:\n",
    "        ml_results = dict(df_subset.loc[co_id])\n",
    "    else:\n",
    "        ml_results = {'nr_vertices': 'nan', 'fp_area': 'nan', 'dbscan': 'nan'}\n",
    "    new_attrs = {**co.attributes, **ml_results}\n",
    "    co.attributes = new_attrs\n",
    "    zurich.cityobjects[co_id] = co"
   ]
  },
  {
   "cell_type": "code",
   "execution_count": 37,
   "metadata": {
    "slideshow": {
     "slide_type": "fragment"
    }
   },
   "outputs": [],
   "source": [
    "path_out = os.path.join('data', 'zurich_output.json')\n",
    "cityjson.save(zurich, path_out)"
   ]
  },
  {
   "cell_type": "markdown",
   "metadata": {
    "slideshow": {
     "slide_type": "subslide"
    }
   },
   "source": [
    "## And view it in QGIS again\n",
    "\n",
    "![](figures/zurich_ml_result.png)"
   ]
  },
  {
   "cell_type": "markdown",
   "metadata": {
    "slideshow": {
     "slide_type": "slide"
    }
   },
   "source": [
    "# Other software"
   ]
  },
  {
   "cell_type": "markdown",
   "metadata": {
    "slideshow": {
     "slide_type": "subslide"
    }
   },
   "source": [
    "## Online CityJSON viewer\n",
    "\n",
    "![](figures/viewer.png)"
   ]
  },
  {
   "cell_type": "markdown",
   "metadata": {
    "slideshow": {
     "slide_type": "subslide"
    }
   },
   "source": [
    "## QGIS plugin\n",
    "![](figures/qgis_zurich.png)"
   ]
  },
  {
   "cell_type": "markdown",
   "metadata": {
    "slideshow": {
     "slide_type": "subslide"
    }
   },
   "source": [
    "## Azul\n",
    "![](figures/azul.png)"
   ]
  },
  {
   "cell_type": "markdown",
   "metadata": {
    "slideshow": {
     "slide_type": "subslide"
    }
   },
   "source": [
    "# Full conversion CityGML <--> CityJSON\n",
    "![](figures/citygml4j.png)"
   ]
  },
  {
   "cell_type": "markdown",
   "metadata": {
    "slideshow": {
     "slide_type": "slide"
    }
   },
   "source": [
    "# Thank you!\n",
    "\n",
    "Balázs Dukai\n",
    "\n",
    "b.dukai@tudelft.nl\n",
    "\n",
    "@BalazsDukai\n",
    "\n",
    "## A few links\n",
    "\n",
    "[cityjson.org](cityjson.org)\n",
    "\n",
    "[viewer.cityjson.org](viewer.cityjson.org)\n",
    "\n",
    "QGIS plugin: [github.com/tudelft3d/cityjson-qgis-plugin](github.com/tudelft3d/cityjson-qgis-plugin)\n",
    "\n",
    "Azul – CityJSON viewer on Mac – check the [AppStore](https://apps.apple.com/nl/app/azul/id1173239678?mt=12)\n",
    "\n",
    "cjio: [github.com/tudelft3d/cjio](github.com/tudelft3d/cjio) & [tudelft3d.github.io/cjio/](tudelft3d.github.io/cjio/)"
   ]
  }
 ],
 "metadata": {
  "celltoolbar": "Slideshow",
  "kernelspec": {
   "display_name": "Python 3",
   "language": "python",
   "name": "python3"
  },
  "language_info": {
   "codemirror_mode": {
    "name": "ipython",
    "version": 3
   },
   "file_extension": ".py",
   "mimetype": "text/x-python",
   "name": "python",
   "nbconvert_exporter": "python",
   "pygments_lexer": "ipython3",
   "version": "3.6.8"
  },
  "pycharm": {
   "stem_cell": {
    "cell_type": "raw",
    "metadata": {
     "collapsed": false
    },
    "source": []
   }
  }
 },
 "nbformat": 4,
 "nbformat_minor": 2
}
